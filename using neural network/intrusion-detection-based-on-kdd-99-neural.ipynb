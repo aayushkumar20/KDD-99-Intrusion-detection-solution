{
 "cells": [
  {
   "cell_type": "markdown",
   "id": "3bff9b62",
   "metadata": {
    "papermill": {
     "duration": 0.019101,
     "end_time": "2022-04-11T07:02:46.885016",
     "exception": false,
     "start_time": "2022-04-11T07:02:46.865915",
     "status": "completed"
    },
    "tags": []
   },
   "source": [
    "#### \"KDD CUP 99\" is the dataset used in the 3rd International Knowledge Discovery and Data Mining Tool Competition held concurrently with the 5th KDD99. It is taken from the DARPA98 dataset. after extracting and pre-processing the data. The DARPA98 dataset collects TCPdump network connections and system test data from  a US Air Force LAN simulation lab over a 9-week period. The raw data collected by this TCPdumps is divided into two parts: The 7-week training data  contains about 5,000,000 network connections. The record, the remaining 2 weeks of test data contains about 2,000,000 network connection records. Wende Lee et al. performed feature analysis and data pre-processing on the data from the DARPA98 dataset, removed some duplicate data, and obtained the KDD99 dataset. The KDD99 dataset includes a total of 5 million records  and it also provides  10% of the training and testing subsets. In the data set, each network connection is marked as normal (normal) or abnormal (attack) and the abnormal type  is divided into 4 categories with a total of 39 attack types, including 22 types of attacks that occur. in the training set and 17 unknown types. Attack patterns appear in the test set. The 4 exception types are: \n",
    "1. DOS, or denial of service attack. For example: pingofdeath, flood syn, smurf, etc. ; \n",
    "2. R2L, i.e. unauthorized access from  remote server. Password guessing example; \n",
    "3. U2R, Unauthorized Super Local  User Privilege Access. such as buffer overflow attacks; \n",
    "4. PROBING, or monitor or scan ports. For example portcan, pingsweep, etc. In the KDD99 dataset, records are written in csv format, and each connection is described by 41 characteristics, plus the final label (label), making a total of 42 elements. The first 41 characteristics are divided into 4 categories: TCP connection basic characteristics (9 items), TCP connection content characteristics (13 items), time-based network traffic statistics characteristics (9 items). ) and host-based network traffic statistics characteristics (10 items)."
   ]
  },
  {
   "cell_type": "code",
   "execution_count": 1,
   "id": "3fa84ddf",
   "metadata": {
    "execution": {
     "iopub.execute_input": "2022-04-11T07:02:46.934432Z",
     "iopub.status.busy": "2022-04-11T07:02:46.933553Z",
     "iopub.status.idle": "2022-04-11T07:02:46.974525Z",
     "shell.execute_reply": "2022-04-11T07:02:46.975173Z",
     "shell.execute_reply.started": "2022-04-11T06:21:41.44188Z"
    },
    "papermill": {
     "duration": 0.072195,
     "end_time": "2022-04-11T07:02:46.975516",
     "exception": false,
     "start_time": "2022-04-11T07:02:46.903321",
     "status": "completed"
    },
    "tags": []
   },
   "outputs": [
    {
     "name": "stdout",
     "output_type": "stream",
     "text": [
      "/kaggle/input/kdd-cup-1999-data/kddcup.data.gz\n",
      "/kaggle/input/kdd-cup-1999-data/training_attack_types\n",
      "/kaggle/input/kdd-cup-1999-data/kddcup.data.corrected\n",
      "/kaggle/input/kdd-cup-1999-data/kddcup.newtestdata_10_percent_unlabeled.gz\n",
      "/kaggle/input/kdd-cup-1999-data/kddcup.testdata.unlabeled.gz\n",
      "/kaggle/input/kdd-cup-1999-data/corrected.gz\n",
      "/kaggle/input/kdd-cup-1999-data/kddcup.data_10_percent.gz\n",
      "/kaggle/input/kdd-cup-1999-data/kddcup.names\n",
      "/kaggle/input/kdd-cup-1999-data/kddcup.data_10_percent_corrected\n",
      "/kaggle/input/kdd-cup-1999-data/typo-correction.txt\n",
      "/kaggle/input/kdd-cup-1999-data/kddcup.testdata.unlabeled_10_percent.gz\n",
      "/kaggle/input/kdd-cup-1999-data/kddcup.data/kddcup.data\n",
      "/kaggle/input/kdd-cup-1999-data/kddcup.testdata.unlabeled/kddcup.testdata.unlabeled\n",
      "/kaggle/input/kdd-cup-1999-data/corrected/corrected\n",
      "/kaggle/input/kdd-cup-1999-data/kddcup.testdata.unlabeled_10_percent/kddcup.testdata.unlabeled_10_percent\n",
      "/kaggle/input/kdd-cup-1999-data/kddcup.newtestdata_10_percent_unlabeled/kddcup.newtestdata_10_percent_unlabeled\n",
      "/kaggle/input/kdd-cup-1999-data/kddcup.data_10_percent/kddcup.data_10_percent\n"
     ]
    }
   ],
   "source": [
    "import numpy as np # linear algebra\n",
    "import pandas as pd # data processing, CSV file I/O (e.g. pd.read_csv)\n",
    "import warnings\n",
    "warnings.filterwarnings('ignore')\n",
    "import os\n",
    "for dirname, _, filenames in os.walk('/kaggle/input'):\n",
    "    for filename in filenames:\n",
    "        print(os.path.join(dirname, filename))\n",
    "PROJECT_ROOT_DIR = \".\"\n",
    "IMAGES_PATH = os.path.join(PROJECT_ROOT_DIR, \"images\")\n",
    "os.makedirs(IMAGES_PATH, exist_ok=True)\n",
    "seed = 0"
   ]
  },
  {
   "cell_type": "code",
   "execution_count": 2,
   "id": "8027cfbb",
   "metadata": {
    "execution": {
     "iopub.execute_input": "2022-04-11T07:02:47.017076Z",
     "iopub.status.busy": "2022-04-11T07:02:47.016506Z",
     "iopub.status.idle": "2022-04-11T07:02:49.544565Z",
     "shell.execute_reply": "2022-04-11T07:02:49.544048Z",
     "shell.execute_reply.started": "2022-04-11T06:21:41.457648Z"
    },
    "papermill": {
     "duration": 2.549853,
     "end_time": "2022-04-11T07:02:49.544701",
     "exception": false,
     "start_time": "2022-04-11T07:02:46.994848",
     "status": "completed"
    },
    "tags": []
   },
   "outputs": [],
   "source": [
    "# 10% data file\n",
    "data = pd.read_csv('/kaggle/input/kdd-cup-1999-data/kddcup.data_10_percent_corrected', header=None)"
   ]
  },
  {
   "cell_type": "markdown",
   "id": "052193e4",
   "metadata": {
    "papermill": {
     "duration": 0.017314,
     "end_time": "2022-04-11T07:02:49.579132",
     "exception": false,
     "start_time": "2022-04-11T07:02:49.561818",
     "status": "completed"
    },
    "tags": []
   },
   "source": [
    "#### Columns"
   ]
  },
  {
   "cell_type": "code",
   "execution_count": 3,
   "id": "ee1f3e42",
   "metadata": {
    "execution": {
     "iopub.execute_input": "2022-04-11T07:02:49.620000Z",
     "iopub.status.busy": "2022-04-11T07:02:49.618418Z",
     "iopub.status.idle": "2022-04-11T07:02:49.620590Z",
     "shell.execute_reply": "2022-04-11T07:02:49.620975Z",
     "shell.execute_reply.started": "2022-04-11T06:21:43.06961Z"
    },
    "papermill": {
     "duration": 0.025014,
     "end_time": "2022-04-11T07:02:49.621103",
     "exception": false,
     "start_time": "2022-04-11T07:02:49.596089",
     "status": "completed"
    },
    "tags": []
   },
   "outputs": [],
   "source": [
    "data.columns = [\n",
    "    'duration','protocol_type','service','flag','src_bytes','dst_bytes','land','wrong_fragment','urgent','hot','num_failed_logins',\n",
    "    'logged_in',\n",
    "    'num_compromised','root_shell','su_attempted','num_root','num_file_creations',\n",
    "    'num_shells',\n",
    "    'num_access_files',\n",
    "    'num_outbound_cmds',\n",
    "    'is_host_login',\n",
    "    'is_guest_login','count',\n",
    "    'srv_count',\n",
    "    'serror_rate',\n",
    "    'srv_serror_rate',\n",
    "    'rerror_rate',\n",
    "    'srv_rerror_rate','same_srv_rate','diff_srv_rate','srv_diff_host_rate','dst_host_count','dst_host_srv_count',\n",
    "    'dst_host_same_srv_rate','dst_host_diff_srv_rate','dst_host_same_src_port_rate','dst_host_srv_diff_host_rate','dst_host_serror_rate','dst_host_srv_serror_rate','dst_host_rerror_rate','dst_host_srv_rerror_rate','outcome'\n",
    "]"
   ]
  },
  {
   "cell_type": "code",
   "execution_count": 4,
   "id": "f56c5b1b",
   "metadata": {
    "execution": {
     "iopub.execute_input": "2022-04-11T07:02:49.657396Z",
     "iopub.status.busy": "2022-04-11T07:02:49.656746Z",
     "iopub.status.idle": "2022-04-11T07:02:49.705952Z",
     "shell.execute_reply": "2022-04-11T07:02:49.705496Z",
     "shell.execute_reply.started": "2022-04-11T06:21:43.077822Z"
    },
    "papermill": {
     "duration": 0.068828,
     "end_time": "2022-04-11T07:02:49.706080",
     "exception": false,
     "start_time": "2022-04-11T07:02:49.637252",
     "status": "completed"
    },
    "tags": []
   },
   "outputs": [
    {
     "data": {
      "text/html": [
       "<div>\n",
       "<style scoped>\n",
       "    .dataframe tbody tr th:only-of-type {\n",
       "        vertical-align: middle;\n",
       "    }\n",
       "\n",
       "    .dataframe tbody tr th {\n",
       "        vertical-align: top;\n",
       "    }\n",
       "\n",
       "    .dataframe thead th {\n",
       "        text-align: right;\n",
       "    }\n",
       "</style>\n",
       "<table border=\"1\" class=\"dataframe\">\n",
       "  <thead>\n",
       "    <tr style=\"text-align: right;\">\n",
       "      <th></th>\n",
       "      <th>duration</th>\n",
       "      <th>protocol_type</th>\n",
       "      <th>service</th>\n",
       "      <th>flag</th>\n",
       "      <th>src_bytes</th>\n",
       "      <th>dst_bytes</th>\n",
       "      <th>land</th>\n",
       "      <th>wrong_fragment</th>\n",
       "      <th>urgent</th>\n",
       "      <th>hot</th>\n",
       "      <th>...</th>\n",
       "      <th>dst_host_srv_count</th>\n",
       "      <th>dst_host_same_srv_rate</th>\n",
       "      <th>dst_host_diff_srv_rate</th>\n",
       "      <th>dst_host_same_src_port_rate</th>\n",
       "      <th>dst_host_srv_diff_host_rate</th>\n",
       "      <th>dst_host_serror_rate</th>\n",
       "      <th>dst_host_srv_serror_rate</th>\n",
       "      <th>dst_host_rerror_rate</th>\n",
       "      <th>dst_host_srv_rerror_rate</th>\n",
       "      <th>outcome</th>\n",
       "    </tr>\n",
       "  </thead>\n",
       "  <tbody>\n",
       "    <tr>\n",
       "      <th>468339</th>\n",
       "      <td>0</td>\n",
       "      <td>tcp</td>\n",
       "      <td>private</td>\n",
       "      <td>REJ</td>\n",
       "      <td>0</td>\n",
       "      <td>0</td>\n",
       "      <td>0</td>\n",
       "      <td>0</td>\n",
       "      <td>0</td>\n",
       "      <td>0</td>\n",
       "      <td>...</td>\n",
       "      <td>1</td>\n",
       "      <td>0.00</td>\n",
       "      <td>0.08</td>\n",
       "      <td>0.0</td>\n",
       "      <td>0.00</td>\n",
       "      <td>0.0</td>\n",
       "      <td>0.0</td>\n",
       "      <td>1.0</td>\n",
       "      <td>1.0</td>\n",
       "      <td>neptune.</td>\n",
       "    </tr>\n",
       "    <tr>\n",
       "      <th>355973</th>\n",
       "      <td>0</td>\n",
       "      <td>tcp</td>\n",
       "      <td>private</td>\n",
       "      <td>S0</td>\n",
       "      <td>0</td>\n",
       "      <td>0</td>\n",
       "      <td>0</td>\n",
       "      <td>0</td>\n",
       "      <td>0</td>\n",
       "      <td>0</td>\n",
       "      <td>...</td>\n",
       "      <td>7</td>\n",
       "      <td>0.03</td>\n",
       "      <td>0.06</td>\n",
       "      <td>0.0</td>\n",
       "      <td>0.00</td>\n",
       "      <td>1.0</td>\n",
       "      <td>1.0</td>\n",
       "      <td>0.0</td>\n",
       "      <td>0.0</td>\n",
       "      <td>neptune.</td>\n",
       "    </tr>\n",
       "    <tr>\n",
       "      <th>462156</th>\n",
       "      <td>0</td>\n",
       "      <td>tcp</td>\n",
       "      <td>private</td>\n",
       "      <td>REJ</td>\n",
       "      <td>0</td>\n",
       "      <td>0</td>\n",
       "      <td>0</td>\n",
       "      <td>0</td>\n",
       "      <td>0</td>\n",
       "      <td>0</td>\n",
       "      <td>...</td>\n",
       "      <td>11</td>\n",
       "      <td>0.04</td>\n",
       "      <td>0.08</td>\n",
       "      <td>0.0</td>\n",
       "      <td>0.00</td>\n",
       "      <td>0.0</td>\n",
       "      <td>0.0</td>\n",
       "      <td>1.0</td>\n",
       "      <td>1.0</td>\n",
       "      <td>neptune.</td>\n",
       "    </tr>\n",
       "    <tr>\n",
       "      <th>413173</th>\n",
       "      <td>0</td>\n",
       "      <td>icmp</td>\n",
       "      <td>ecr_i</td>\n",
       "      <td>SF</td>\n",
       "      <td>520</td>\n",
       "      <td>0</td>\n",
       "      <td>0</td>\n",
       "      <td>0</td>\n",
       "      <td>0</td>\n",
       "      <td>0</td>\n",
       "      <td>...</td>\n",
       "      <td>255</td>\n",
       "      <td>1.00</td>\n",
       "      <td>0.00</td>\n",
       "      <td>1.0</td>\n",
       "      <td>0.00</td>\n",
       "      <td>0.0</td>\n",
       "      <td>0.0</td>\n",
       "      <td>0.0</td>\n",
       "      <td>0.0</td>\n",
       "      <td>smurf.</td>\n",
       "    </tr>\n",
       "    <tr>\n",
       "      <th>166563</th>\n",
       "      <td>0</td>\n",
       "      <td>icmp</td>\n",
       "      <td>ecr_i</td>\n",
       "      <td>SF</td>\n",
       "      <td>1032</td>\n",
       "      <td>0</td>\n",
       "      <td>0</td>\n",
       "      <td>0</td>\n",
       "      <td>0</td>\n",
       "      <td>0</td>\n",
       "      <td>...</td>\n",
       "      <td>255</td>\n",
       "      <td>1.00</td>\n",
       "      <td>0.00</td>\n",
       "      <td>1.0</td>\n",
       "      <td>0.00</td>\n",
       "      <td>0.0</td>\n",
       "      <td>0.0</td>\n",
       "      <td>0.0</td>\n",
       "      <td>0.0</td>\n",
       "      <td>smurf.</td>\n",
       "    </tr>\n",
       "    <tr>\n",
       "      <th>229820</th>\n",
       "      <td>0</td>\n",
       "      <td>icmp</td>\n",
       "      <td>ecr_i</td>\n",
       "      <td>SF</td>\n",
       "      <td>1032</td>\n",
       "      <td>0</td>\n",
       "      <td>0</td>\n",
       "      <td>0</td>\n",
       "      <td>0</td>\n",
       "      <td>0</td>\n",
       "      <td>...</td>\n",
       "      <td>255</td>\n",
       "      <td>1.00</td>\n",
       "      <td>0.00</td>\n",
       "      <td>1.0</td>\n",
       "      <td>0.00</td>\n",
       "      <td>0.0</td>\n",
       "      <td>0.0</td>\n",
       "      <td>0.0</td>\n",
       "      <td>0.0</td>\n",
       "      <td>smurf.</td>\n",
       "    </tr>\n",
       "    <tr>\n",
       "      <th>441433</th>\n",
       "      <td>0</td>\n",
       "      <td>icmp</td>\n",
       "      <td>ecr_i</td>\n",
       "      <td>SF</td>\n",
       "      <td>520</td>\n",
       "      <td>0</td>\n",
       "      <td>0</td>\n",
       "      <td>0</td>\n",
       "      <td>0</td>\n",
       "      <td>0</td>\n",
       "      <td>...</td>\n",
       "      <td>255</td>\n",
       "      <td>1.00</td>\n",
       "      <td>0.00</td>\n",
       "      <td>1.0</td>\n",
       "      <td>0.00</td>\n",
       "      <td>0.0</td>\n",
       "      <td>0.0</td>\n",
       "      <td>0.0</td>\n",
       "      <td>0.0</td>\n",
       "      <td>smurf.</td>\n",
       "    </tr>\n",
       "    <tr>\n",
       "      <th>252206</th>\n",
       "      <td>0</td>\n",
       "      <td>icmp</td>\n",
       "      <td>ecr_i</td>\n",
       "      <td>SF</td>\n",
       "      <td>1032</td>\n",
       "      <td>0</td>\n",
       "      <td>0</td>\n",
       "      <td>0</td>\n",
       "      <td>0</td>\n",
       "      <td>0</td>\n",
       "      <td>...</td>\n",
       "      <td>255</td>\n",
       "      <td>1.00</td>\n",
       "      <td>0.00</td>\n",
       "      <td>1.0</td>\n",
       "      <td>0.00</td>\n",
       "      <td>0.0</td>\n",
       "      <td>0.0</td>\n",
       "      <td>0.0</td>\n",
       "      <td>0.0</td>\n",
       "      <td>smurf.</td>\n",
       "    </tr>\n",
       "    <tr>\n",
       "      <th>290365</th>\n",
       "      <td>0</td>\n",
       "      <td>icmp</td>\n",
       "      <td>ecr_i</td>\n",
       "      <td>SF</td>\n",
       "      <td>1032</td>\n",
       "      <td>0</td>\n",
       "      <td>0</td>\n",
       "      <td>0</td>\n",
       "      <td>0</td>\n",
       "      <td>0</td>\n",
       "      <td>...</td>\n",
       "      <td>255</td>\n",
       "      <td>1.00</td>\n",
       "      <td>0.00</td>\n",
       "      <td>1.0</td>\n",
       "      <td>0.00</td>\n",
       "      <td>0.0</td>\n",
       "      <td>0.0</td>\n",
       "      <td>0.0</td>\n",
       "      <td>0.0</td>\n",
       "      <td>smurf.</td>\n",
       "    </tr>\n",
       "    <tr>\n",
       "      <th>343897</th>\n",
       "      <td>0</td>\n",
       "      <td>tcp</td>\n",
       "      <td>http</td>\n",
       "      <td>REJ</td>\n",
       "      <td>0</td>\n",
       "      <td>0</td>\n",
       "      <td>0</td>\n",
       "      <td>0</td>\n",
       "      <td>0</td>\n",
       "      <td>0</td>\n",
       "      <td>...</td>\n",
       "      <td>255</td>\n",
       "      <td>1.00</td>\n",
       "      <td>0.00</td>\n",
       "      <td>1.0</td>\n",
       "      <td>0.22</td>\n",
       "      <td>0.0</td>\n",
       "      <td>0.0</td>\n",
       "      <td>1.0</td>\n",
       "      <td>1.0</td>\n",
       "      <td>normal.</td>\n",
       "    </tr>\n",
       "  </tbody>\n",
       "</table>\n",
       "<p>10 rows × 42 columns</p>\n",
       "</div>"
      ],
      "text/plain": [
       "        duration protocol_type  service flag  src_bytes  dst_bytes  land  \\\n",
       "468339         0           tcp  private  REJ          0          0     0   \n",
       "355973         0           tcp  private   S0          0          0     0   \n",
       "462156         0           tcp  private  REJ          0          0     0   \n",
       "413173         0          icmp    ecr_i   SF        520          0     0   \n",
       "166563         0          icmp    ecr_i   SF       1032          0     0   \n",
       "229820         0          icmp    ecr_i   SF       1032          0     0   \n",
       "441433         0          icmp    ecr_i   SF        520          0     0   \n",
       "252206         0          icmp    ecr_i   SF       1032          0     0   \n",
       "290365         0          icmp    ecr_i   SF       1032          0     0   \n",
       "343897         0           tcp     http  REJ          0          0     0   \n",
       "\n",
       "        wrong_fragment  urgent  hot  ...  dst_host_srv_count  \\\n",
       "468339               0       0    0  ...                   1   \n",
       "355973               0       0    0  ...                   7   \n",
       "462156               0       0    0  ...                  11   \n",
       "413173               0       0    0  ...                 255   \n",
       "166563               0       0    0  ...                 255   \n",
       "229820               0       0    0  ...                 255   \n",
       "441433               0       0    0  ...                 255   \n",
       "252206               0       0    0  ...                 255   \n",
       "290365               0       0    0  ...                 255   \n",
       "343897               0       0    0  ...                 255   \n",
       "\n",
       "        dst_host_same_srv_rate  dst_host_diff_srv_rate  \\\n",
       "468339                    0.00                    0.08   \n",
       "355973                    0.03                    0.06   \n",
       "462156                    0.04                    0.08   \n",
       "413173                    1.00                    0.00   \n",
       "166563                    1.00                    0.00   \n",
       "229820                    1.00                    0.00   \n",
       "441433                    1.00                    0.00   \n",
       "252206                    1.00                    0.00   \n",
       "290365                    1.00                    0.00   \n",
       "343897                    1.00                    0.00   \n",
       "\n",
       "        dst_host_same_src_port_rate  dst_host_srv_diff_host_rate  \\\n",
       "468339                          0.0                         0.00   \n",
       "355973                          0.0                         0.00   \n",
       "462156                          0.0                         0.00   \n",
       "413173                          1.0                         0.00   \n",
       "166563                          1.0                         0.00   \n",
       "229820                          1.0                         0.00   \n",
       "441433                          1.0                         0.00   \n",
       "252206                          1.0                         0.00   \n",
       "290365                          1.0                         0.00   \n",
       "343897                          1.0                         0.22   \n",
       "\n",
       "        dst_host_serror_rate  dst_host_srv_serror_rate  dst_host_rerror_rate  \\\n",
       "468339                   0.0                       0.0                   1.0   \n",
       "355973                   1.0                       1.0                   0.0   \n",
       "462156                   0.0                       0.0                   1.0   \n",
       "413173                   0.0                       0.0                   0.0   \n",
       "166563                   0.0                       0.0                   0.0   \n",
       "229820                   0.0                       0.0                   0.0   \n",
       "441433                   0.0                       0.0                   0.0   \n",
       "252206                   0.0                       0.0                   0.0   \n",
       "290365                   0.0                       0.0                   0.0   \n",
       "343897                   0.0                       0.0                   1.0   \n",
       "\n",
       "        dst_host_srv_rerror_rate   outcome  \n",
       "468339                       1.0  neptune.  \n",
       "355973                       0.0  neptune.  \n",
       "462156                       1.0  neptune.  \n",
       "413173                       0.0    smurf.  \n",
       "166563                       0.0    smurf.  \n",
       "229820                       0.0    smurf.  \n",
       "441433                       0.0    smurf.  \n",
       "252206                       0.0    smurf.  \n",
       "290365                       0.0    smurf.  \n",
       "343897                       1.0   normal.  \n",
       "\n",
       "[10 rows x 42 columns]"
      ]
     },
     "execution_count": 4,
     "metadata": {},
     "output_type": "execute_result"
    }
   ],
   "source": [
    "data.sample(10)"
   ]
  },
  {
   "cell_type": "code",
   "execution_count": 5,
   "id": "08ff1f92",
   "metadata": {
    "execution": {
     "iopub.execute_input": "2022-04-11T07:02:49.748343Z",
     "iopub.status.busy": "2022-04-11T07:02:49.747604Z",
     "iopub.status.idle": "2022-04-11T07:02:49.755045Z",
     "shell.execute_reply": "2022-04-11T07:02:49.755452Z",
     "shell.execute_reply.started": "2022-04-11T06:21:43.127225Z"
    },
    "papermill": {
     "duration": 0.032303,
     "end_time": "2022-04-11T07:02:49.755595",
     "exception": false,
     "start_time": "2022-04-11T07:02:49.723292",
     "status": "completed"
    },
    "tags": []
   },
   "outputs": [
    {
     "name": "stdout",
     "output_type": "stream",
     "text": [
      "[0]\n"
     ]
    }
   ],
   "source": [
    "print(data['num_outbound_cmds'].unique())"
   ]
  },
  {
   "cell_type": "code",
   "execution_count": 6,
   "id": "ddd63506",
   "metadata": {
    "execution": {
     "iopub.execute_input": "2022-04-11T07:02:49.796061Z",
     "iopub.status.busy": "2022-04-11T07:02:49.795535Z",
     "iopub.status.idle": "2022-04-11T07:02:49.799090Z",
     "shell.execute_reply": "2022-04-11T07:02:49.798679Z",
     "shell.execute_reply.started": "2022-04-11T06:21:43.137682Z"
    },
    "papermill": {
     "duration": 0.026309,
     "end_time": "2022-04-11T07:02:49.799219",
     "exception": false,
     "start_time": "2022-04-11T07:02:49.772910",
     "status": "completed"
    },
    "tags": []
   },
   "outputs": [],
   "source": [
    "def encode_numeric_zscore(df, name, mean=None, sd=None):\n",
    "    if mean is None:\n",
    "        mean = df[name].mean()\n",
    "\n",
    "    if sd is None:\n",
    "        sd = df[name].std()\n",
    "\n",
    "    df[name] = (df[name] - mean) / sd\n",
    "    \n",
    "def encode_text_dummy(df, name):\n",
    "    dummies = pd.get_dummies(df[name])\n",
    "    for x in dummies.columns:\n",
    "        dummy_name = f\"{name}-{x}\"\n",
    "        df[dummy_name] = dummies[x]\n",
    "    df.drop(name, axis=1, inplace=True)"
   ]
  },
  {
   "cell_type": "code",
   "execution_count": 7,
   "id": "f57ed85b",
   "metadata": {
    "execution": {
     "iopub.execute_input": "2022-04-11T07:02:49.842601Z",
     "iopub.status.busy": "2022-04-11T07:02:49.841840Z",
     "iopub.status.idle": "2022-04-11T07:02:52.081630Z",
     "shell.execute_reply": "2022-04-11T07:02:52.080711Z",
     "shell.execute_reply.started": "2022-04-11T06:21:43.147801Z"
    },
    "papermill": {
     "duration": 2.265438,
     "end_time": "2022-04-11T07:02:52.081781",
     "exception": false,
     "start_time": "2022-04-11T07:02:49.816343",
     "status": "completed"
    },
    "tags": []
   },
   "outputs": [],
   "source": [
    "encode_numeric_zscore(data, 'duration')\n",
    "encode_text_dummy(data, 'protocol_type')\n",
    "encode_text_dummy(data, 'service')\n",
    "encode_text_dummy(data, 'flag')\n",
    "encode_numeric_zscore(data, 'src_bytes')\n",
    "encode_numeric_zscore(data, 'dst_bytes')\n",
    "encode_text_dummy(data, 'land')\n",
    "encode_numeric_zscore(data, 'wrong_fragment')\n",
    "encode_numeric_zscore(data, 'urgent')\n",
    "encode_numeric_zscore(data, 'hot')\n",
    "encode_numeric_zscore(data, 'num_failed_logins')\n",
    "encode_text_dummy(data, 'logged_in')\n",
    "encode_numeric_zscore(data, 'num_compromised')\n",
    "encode_numeric_zscore(data, 'root_shell')\n",
    "encode_numeric_zscore(data, 'su_attempted')\n",
    "encode_numeric_zscore(data, 'num_root')\n",
    "encode_numeric_zscore(data, 'num_file_creations')\n",
    "encode_numeric_zscore(data, 'num_shells')\n",
    "encode_numeric_zscore(data, 'num_access_files')\n",
    "encode_numeric_zscore(data, 'num_outbound_cmds')\n",
    "encode_text_dummy(data, 'is_host_login')\n",
    "encode_text_dummy(data, 'is_guest_login')\n",
    "encode_numeric_zscore(data, 'count')\n",
    "encode_numeric_zscore(data, 'srv_count')\n",
    "encode_numeric_zscore(data, 'serror_rate')\n",
    "encode_numeric_zscore(data, 'srv_serror_rate')\n",
    "encode_numeric_zscore(data, 'rerror_rate')\n",
    "encode_numeric_zscore(data, 'srv_rerror_rate')\n",
    "encode_numeric_zscore(data, 'same_srv_rate')\n",
    "encode_numeric_zscore(data, 'diff_srv_rate')\n",
    "encode_numeric_zscore(data, 'srv_diff_host_rate')\n",
    "encode_numeric_zscore(data, 'dst_host_count')\n",
    "encode_numeric_zscore(data, 'dst_host_srv_count')\n",
    "encode_numeric_zscore(data, 'dst_host_same_srv_rate')\n",
    "encode_numeric_zscore(data, 'dst_host_diff_srv_rate')\n",
    "encode_numeric_zscore(data, 'dst_host_same_src_port_rate')\n",
    "encode_numeric_zscore(data, 'dst_host_srv_diff_host_rate')\n",
    "encode_numeric_zscore(data, 'dst_host_serror_rate')\n",
    "encode_numeric_zscore(data, 'dst_host_srv_serror_rate')\n",
    "encode_numeric_zscore(data, 'dst_host_rerror_rate')\n",
    "encode_numeric_zscore(data, 'dst_host_srv_rerror_rate')\n",
    "\n",
    "data.dropna(inplace=True, axis=1)"
   ]
  },
  {
   "cell_type": "code",
   "execution_count": 8,
   "id": "1b4d314f",
   "metadata": {
    "execution": {
     "iopub.execute_input": "2022-04-11T07:02:52.189905Z",
     "iopub.status.busy": "2022-04-11T07:02:52.188351Z",
     "iopub.status.idle": "2022-04-11T07:02:52.192076Z",
     "shell.execute_reply": "2022-04-11T07:02:52.191652Z",
     "shell.execute_reply.started": "2022-04-11T06:21:45.483049Z"
    },
    "papermill": {
     "duration": 0.092862,
     "end_time": "2022-04-11T07:02:52.192215",
     "exception": false,
     "start_time": "2022-04-11T07:02:52.099353",
     "status": "completed"
    },
    "tags": []
   },
   "outputs": [
    {
     "data": {
      "text/plain": [
       "smurf.              280790\n",
       "neptune.            107201\n",
       "normal.              97278\n",
       "back.                 2203\n",
       "satan.                1589\n",
       "ipsweep.              1247\n",
       "portsweep.            1040\n",
       "warezclient.          1020\n",
       "teardrop.              979\n",
       "pod.                   264\n",
       "nmap.                  231\n",
       "guess_passwd.           53\n",
       "buffer_overflow.        30\n",
       "land.                   21\n",
       "warezmaster.            20\n",
       "imap.                   12\n",
       "rootkit.                10\n",
       "loadmodule.              9\n",
       "ftp_write.               8\n",
       "multihop.                7\n",
       "phf.                     4\n",
       "perl.                    3\n",
       "spy.                     2\n",
       "Name: outcome, dtype: int64"
      ]
     },
     "execution_count": 8,
     "metadata": {},
     "output_type": "execute_result"
    }
   ],
   "source": [
    "data.outcome.value_counts()"
   ]
  },
  {
   "cell_type": "code",
   "execution_count": 9,
   "id": "dded7bf2",
   "metadata": {
    "execution": {
     "iopub.execute_input": "2022-04-11T07:02:52.233342Z",
     "iopub.status.busy": "2022-04-11T07:02:52.232356Z",
     "iopub.status.idle": "2022-04-11T07:02:52.563867Z",
     "shell.execute_reply": "2022-04-11T07:02:52.563400Z",
     "shell.execute_reply.started": "2022-04-11T06:21:45.558724Z"
    },
    "papermill": {
     "duration": 0.353955,
     "end_time": "2022-04-11T07:02:52.563994",
     "exception": false,
     "start_time": "2022-04-11T07:02:52.210039",
     "status": "completed"
    },
    "tags": []
   },
   "outputs": [],
   "source": [
    "x_columns = data.columns.drop('outcome')\n",
    "x = data[x_columns].values\n",
    "dummies = pd.get_dummies(data['outcome']) #分类\n",
    "outcomes = dummies.columns\n",
    "num_classes = len(outcomes)\n",
    "y = dummies.values"
   ]
  },
  {
   "cell_type": "code",
   "execution_count": 10,
   "id": "4ecfd2e3",
   "metadata": {
    "execution": {
     "iopub.execute_input": "2022-04-11T07:02:52.603790Z",
     "iopub.status.busy": "2022-04-11T07:02:52.603271Z",
     "iopub.status.idle": "2022-04-11T07:02:54.248586Z",
     "shell.execute_reply": "2022-04-11T07:02:54.248062Z",
     "shell.execute_reply.started": "2022-04-11T06:21:45.895958Z"
    },
    "papermill": {
     "duration": 1.666886,
     "end_time": "2022-04-11T07:02:54.248727",
     "exception": false,
     "start_time": "2022-04-11T07:02:52.581841",
     "status": "completed"
    },
    "tags": []
   },
   "outputs": [],
   "source": [
    "from sklearn.model_selection import train_test_split\n",
    "\n",
    "x_train, x_test, y_train, y_test = train_test_split(x, y, random_state=seed)"
   ]
  },
  {
   "cell_type": "code",
   "execution_count": 11,
   "id": "8e8327c0",
   "metadata": {
    "execution": {
     "iopub.execute_input": "2022-04-11T07:02:54.294288Z",
     "iopub.status.busy": "2022-04-11T07:02:54.293594Z",
     "iopub.status.idle": "2022-04-11T07:03:01.562912Z",
     "shell.execute_reply": "2022-04-11T07:03:01.563558Z",
     "shell.execute_reply.started": "2022-04-11T06:21:46.676752Z"
    },
    "papermill": {
     "duration": 7.297167,
     "end_time": "2022-04-11T07:03:01.563757",
     "exception": false,
     "start_time": "2022-04-11T07:02:54.266590",
     "status": "completed"
    },
    "tags": []
   },
   "outputs": [
    {
     "name": "stdout",
     "output_type": "stream",
     "text": [
      "Model: \"model\"\n",
      "_________________________________________________________________\n",
      "Layer (type)                 Output Shape              Param #   \n",
      "=================================================================\n",
      "input_1 (InputLayer)         [(None, 120)]             0         \n",
      "_________________________________________________________________\n",
      "dense (Dense)                (None, 64)                7744      \n",
      "_________________________________________________________________\n",
      "elu (ELU)                    (None, 64)                0         \n",
      "_________________________________________________________________\n",
      "dropout (Dropout)            (None, 64)                0         \n",
      "_________________________________________________________________\n",
      "dense_1 (Dense)              (None, 64)                4160      \n",
      "_________________________________________________________________\n",
      "elu_1 (ELU)                  (None, 64)                0         \n",
      "_________________________________________________________________\n",
      "dropout_1 (Dropout)          (None, 64)                0         \n",
      "_________________________________________________________________\n",
      "dense_2 (Dense)              (None, 32)                2080      \n",
      "_________________________________________________________________\n",
      "elu_2 (ELU)                  (None, 32)                0         \n",
      "_________________________________________________________________\n",
      "dropout_2 (Dropout)          (None, 32)                0         \n",
      "_________________________________________________________________\n",
      "dense_3 (Dense)              (None, 16)                528       \n",
      "_________________________________________________________________\n",
      "elu_3 (ELU)                  (None, 16)                0         \n",
      "_________________________________________________________________\n",
      "dropout_3 (Dropout)          (None, 16)                0         \n",
      "_________________________________________________________________\n",
      "dense_4 (Dense)              (None, 23)                391       \n",
      "=================================================================\n",
      "Total params: 14,903\n",
      "Trainable params: 14,903\n",
      "Non-trainable params: 0\n",
      "_________________________________________________________________\n"
     ]
    },
    {
     "name": "stderr",
     "output_type": "stream",
     "text": [
      "2022-04-11 07:02:59.179390: I tensorflow/stream_executor/cuda/cuda_gpu_executor.cc:937] successful NUMA node read from SysFS had negative value (-1), but there must be at least one NUMA node, so returning NUMA node zero\n",
      "2022-04-11 07:02:59.284913: I tensorflow/stream_executor/cuda/cuda_gpu_executor.cc:937] successful NUMA node read from SysFS had negative value (-1), but there must be at least one NUMA node, so returning NUMA node zero\n",
      "2022-04-11 07:02:59.285761: I tensorflow/stream_executor/cuda/cuda_gpu_executor.cc:937] successful NUMA node read from SysFS had negative value (-1), but there must be at least one NUMA node, so returning NUMA node zero\n",
      "2022-04-11 07:02:59.288098: I tensorflow/core/platform/cpu_feature_guard.cc:142] This TensorFlow binary is optimized with oneAPI Deep Neural Network Library (oneDNN) to use the following CPU instructions in performance-critical operations:  AVX2 AVX512F FMA\n",
      "To enable them in other operations, rebuild TensorFlow with the appropriate compiler flags.\n",
      "2022-04-11 07:02:59.289324: I tensorflow/stream_executor/cuda/cuda_gpu_executor.cc:937] successful NUMA node read from SysFS had negative value (-1), but there must be at least one NUMA node, so returning NUMA node zero\n",
      "2022-04-11 07:02:59.290234: I tensorflow/stream_executor/cuda/cuda_gpu_executor.cc:937] successful NUMA node read from SysFS had negative value (-1), but there must be at least one NUMA node, so returning NUMA node zero\n",
      "2022-04-11 07:02:59.291154: I tensorflow/stream_executor/cuda/cuda_gpu_executor.cc:937] successful NUMA node read from SysFS had negative value (-1), but there must be at least one NUMA node, so returning NUMA node zero\n",
      "2022-04-11 07:03:01.181931: I tensorflow/stream_executor/cuda/cuda_gpu_executor.cc:937] successful NUMA node read from SysFS had negative value (-1), but there must be at least one NUMA node, so returning NUMA node zero\n",
      "2022-04-11 07:03:01.182833: I tensorflow/stream_executor/cuda/cuda_gpu_executor.cc:937] successful NUMA node read from SysFS had negative value (-1), but there must be at least one NUMA node, so returning NUMA node zero\n",
      "2022-04-11 07:03:01.183517: I tensorflow/stream_executor/cuda/cuda_gpu_executor.cc:937] successful NUMA node read from SysFS had negative value (-1), but there must be at least one NUMA node, so returning NUMA node zero\n",
      "2022-04-11 07:03:01.184111: I tensorflow/core/common_runtime/gpu/gpu_device.cc:1510] Created device /job:localhost/replica:0/task:0/device:GPU:0 with 15403 MB memory:  -> device: 0, name: Tesla P100-PCIE-16GB, pci bus id: 0000:00:04.0, compute capability: 6.0\n"
     ]
    }
   ],
   "source": [
    "import tensorflow\n",
    "from tensorflow.keras.models import Sequential, Model\n",
    "from tensorflow.keras.layers import Dense, ELU, Input, Dropout\n",
    "\n",
    "input = Input(shape=x.shape[1])\n",
    "\n",
    "m = Dense(64)(input) \n",
    "m = ELU()(m)\n",
    "m = Dropout(0.33)(m) \n",
    "\n",
    "m = Dense(64)(m)\n",
    "m = ELU()(m)\n",
    "m = Dropout(0.33)(m)\n",
    "\n",
    "m = Dense(32)(m)\n",
    "m = ELU()(m)\n",
    "m = Dropout(0.33)(m)\n",
    "\n",
    "m = Dense(16)(m)\n",
    "m = ELU()(m)\n",
    "m = Dropout(0.33)(m)\n",
    "\n",
    "# m = Dense(1, activation='linear')(m)\n",
    "\n",
    "output = Dense(y.shape[1], activation='softmax')(m)\n",
    "\n",
    "model = Model(inputs=[input], outputs=[output])\n",
    "\n",
    "model.summary()"
   ]
  },
  {
   "cell_type": "code",
   "execution_count": 12,
   "id": "3273c84d",
   "metadata": {
    "execution": {
     "iopub.execute_input": "2022-04-11T07:03:01.610249Z",
     "iopub.status.busy": "2022-04-11T07:03:01.609433Z",
     "iopub.status.idle": "2022-04-11T07:03:01.621977Z",
     "shell.execute_reply": "2022-04-11T07:03:01.621553Z",
     "shell.execute_reply.started": "2022-04-11T06:21:46.746779Z"
    },
    "papermill": {
     "duration": 0.036766,
     "end_time": "2022-04-11T07:03:01.622087",
     "exception": false,
     "start_time": "2022-04-11T07:03:01.585321",
     "status": "completed"
    },
    "tags": []
   },
   "outputs": [],
   "source": [
    "from tensorflow.keras.optimizers import Adam\n",
    "from tensorflow.keras.callbacks import EarlyStopping, ReduceLROnPlateau\n",
    "\n",
    "model.compile(optimizer=Adam(lr=0.001), loss='binary_crossentropy', metrics=['acc'])\n",
    "\n",
    "es = EarlyStopping(monitor='val_loss', patience=30, verbose=1, restore_best_weights=True)\n",
    "\n",
    "rlp = ReduceLROnPlateau(monitor='val_loss', patience=9, verbose=1, factor=0.5, cooldown=5, min_lr=1e-10)"
   ]
  },
  {
   "cell_type": "code",
   "execution_count": 13,
   "id": "22e755a3",
   "metadata": {
    "execution": {
     "iopub.execute_input": "2022-04-11T07:03:01.663487Z",
     "iopub.status.busy": "2022-04-11T07:03:01.662705Z",
     "iopub.status.idle": "2022-04-11T07:04:24.624180Z",
     "shell.execute_reply": "2022-04-11T07:04:24.623552Z",
     "shell.execute_reply.started": "2022-04-11T06:21:46.759234Z"
    },
    "papermill": {
     "duration": 82.98333,
     "end_time": "2022-04-11T07:04:24.624346",
     "exception": false,
     "start_time": "2022-04-11T07:03:01.641016",
     "status": "completed"
    },
    "tags": []
   },
   "outputs": [
    {
     "name": "stderr",
     "output_type": "stream",
     "text": [
      "2022-04-11 07:03:02.117569: I tensorflow/compiler/mlir/mlir_graph_optimization_pass.cc:185] None of the MLIR Optimization Passes are enabled (registered 2)\n"
     ]
    },
    {
     "name": "stdout",
     "output_type": "stream",
     "text": [
      "Epoch 1/30\n",
      "724/724 [==============================] - 4s 3ms/step - loss: 0.0786 - acc: 0.8317\n",
      "Epoch 2/30\n",
      "724/724 [==============================] - 2s 3ms/step - loss: 0.0122 - acc: 0.9607\n",
      "Epoch 3/30\n",
      "724/724 [==============================] - 2s 3ms/step - loss: 0.0090 - acc: 0.9677\n",
      "Epoch 4/30\n",
      "724/724 [==============================] - 2s 3ms/step - loss: 0.0072 - acc: 0.9724\n",
      "Epoch 5/30\n",
      "724/724 [==============================] - 2s 3ms/step - loss: 0.0062 - acc: 0.9764\n",
      "Epoch 6/30\n",
      "724/724 [==============================] - 2s 3ms/step - loss: 0.0056 - acc: 0.9789\n",
      "Epoch 7/30\n",
      "724/724 [==============================] - 2s 3ms/step - loss: 0.0052 - acc: 0.9802\n",
      "Epoch 8/30\n",
      "724/724 [==============================] - 2s 3ms/step - loss: 0.0049 - acc: 0.9814\n",
      "Epoch 9/30\n",
      "724/724 [==============================] - 2s 3ms/step - loss: 0.0046 - acc: 0.9824\n",
      "Epoch 10/30\n",
      "724/724 [==============================] - 2s 3ms/step - loss: 0.0044 - acc: 0.9828\n",
      "Epoch 11/30\n",
      "724/724 [==============================] - 2s 3ms/step - loss: 0.0044 - acc: 0.9831\n",
      "Epoch 12/30\n",
      "724/724 [==============================] - 2s 3ms/step - loss: 0.0041 - acc: 0.9838\n",
      "Epoch 13/30\n",
      "724/724 [==============================] - 2s 3ms/step - loss: 0.0040 - acc: 0.9840\n",
      "Epoch 14/30\n",
      "724/724 [==============================] - 2s 3ms/step - loss: 0.0039 - acc: 0.9847\n",
      "Epoch 15/30\n",
      "724/724 [==============================] - 3s 4ms/step - loss: 0.0037 - acc: 0.9850\n",
      "Epoch 16/30\n",
      "724/724 [==============================] - 2s 3ms/step - loss: 0.0036 - acc: 0.9855\n",
      "Epoch 17/30\n",
      "724/724 [==============================] - 2s 3ms/step - loss: 0.0035 - acc: 0.9860\n",
      "Epoch 18/30\n",
      "724/724 [==============================] - 2s 3ms/step - loss: 0.0035 - acc: 0.9860\n",
      "Epoch 19/30\n",
      "724/724 [==============================] - 2s 3ms/step - loss: 0.0035 - acc: 0.9864\n",
      "Epoch 20/30\n",
      "724/724 [==============================] - 2s 3ms/step - loss: 0.0034 - acc: 0.9872\n",
      "Epoch 21/30\n",
      "724/724 [==============================] - 2s 3ms/step - loss: 0.0034 - acc: 0.9874\n",
      "Epoch 22/30\n",
      "724/724 [==============================] - 2s 3ms/step - loss: 0.0033 - acc: 0.9879\n",
      "Epoch 23/30\n",
      "724/724 [==============================] - 2s 3ms/step - loss: 0.0032 - acc: 0.9883\n",
      "Epoch 24/30\n",
      "724/724 [==============================] - 2s 3ms/step - loss: 0.0032 - acc: 0.9883\n",
      "Epoch 25/30\n",
      "724/724 [==============================] - 2s 3ms/step - loss: 0.0032 - acc: 0.9887\n",
      "Epoch 26/30\n",
      "724/724 [==============================] - 2s 3ms/step - loss: 0.0031 - acc: 0.9890\n",
      "Epoch 27/30\n",
      "724/724 [==============================] - 2s 3ms/step - loss: 0.0032 - acc: 0.9890\n",
      "Epoch 28/30\n",
      "724/724 [==============================] - 2s 3ms/step - loss: 0.0031 - acc: 0.9892\n",
      "Epoch 29/30\n",
      "724/724 [==============================] - 3s 3ms/step - loss: 0.0031 - acc: 0.9893\n",
      "Epoch 30/30\n",
      "724/724 [==============================] - 2s 3ms/step - loss: 0.0031 - acc: 0.9893\n"
     ]
    }
   ],
   "source": [
    "history = model.fit(x_train\n",
    "                    ,y_train\n",
    "#                     ,validation_data=(x_test,y_test)\n",
    "                    ,callbacks=[es, rlp]\n",
    "                    ,verbose=1\n",
    "                    ,epochs=30\n",
    "                    , batch_size=512).history"
   ]
  },
  {
   "cell_type": "code",
   "execution_count": 14,
   "id": "42b08375",
   "metadata": {
    "execution": {
     "iopub.execute_input": "2022-04-11T07:04:25.514969Z",
     "iopub.status.busy": "2022-04-11T07:04:25.514282Z",
     "iopub.status.idle": "2022-04-11T07:04:26.018427Z",
     "shell.execute_reply": "2022-04-11T07:04:26.017964Z",
     "shell.execute_reply.started": "2022-04-11T06:23:09.576271Z"
    },
    "papermill": {
     "duration": 0.94855,
     "end_time": "2022-04-11T07:04:26.018561",
     "exception": false,
     "start_time": "2022-04-11T07:04:25.070011",
     "status": "completed"
    },
    "tags": []
   },
   "outputs": [
    {
     "data": {
      "image/png": "[encoded data removed]",
      "text/plain": [
       "<Figure size 1440x1008 with 2 Axes>"
      ]
     },
     "metadata": {
      "needs_background": "light"
     },
     "output_type": "display_data"
    }
   ],
   "source": [
    "import matplotlib.pyplot as plt\n",
    "import seaborn as sns\n",
    "\n",
    "fig, (ax1, ax2) = plt.subplots(2, 1, sharex='col', figsize=(20, 14))\n",
    "\n",
    "ax1.plot(history['loss'], label='Train loss')\n",
    "# ax1.plot(history['val_loss'], label='Validation loss')\n",
    "ax1.legend(loc='best')\n",
    "ax1.set_title('Loss')\n",
    "\n",
    "ax2.plot(history['acc'], label='Train accuracy')\n",
    "# ax2.plot(history['val_acc'], label='Validation accuracy')\n",
    "ax2.legend(loc='best')\n",
    "ax2.set_title('Accuracy')\n",
    "\n",
    "plt.xlabel('Epochs')\n",
    "sns.despine()\n",
    "plt.show()"
   ]
  },
  {
   "cell_type": "code",
   "execution_count": 15,
   "id": "a4d2c5ba",
   "metadata": {
    "execution": {
     "iopub.execute_input": "2022-04-11T07:04:26.929002Z",
     "iopub.status.busy": "2022-04-11T07:04:26.927835Z",
     "iopub.status.idle": "2022-04-11T07:04:34.040360Z",
     "shell.execute_reply": "2022-04-11T07:04:34.039872Z",
     "shell.execute_reply.started": "2022-04-11T06:23:10.274965Z"
    },
    "papermill": {
     "duration": 7.565814,
     "end_time": "2022-04-11T07:04:34.040494",
     "exception": false,
     "start_time": "2022-04-11T07:04:26.474680",
     "status": "completed"
    },
    "tags": []
   },
   "outputs": [
    {
     "name": "stdout",
     "output_type": "stream",
     "text": [
      "3860/3860 [==============================] - 7s 2ms/step - loss: 0.0018 - acc: 0.9957\n"
     ]
    },
    {
     "data": {
      "text/plain": [
       "[0.0017646526684984565, 0.9957249164581299]"
      ]
     },
     "execution_count": 15,
     "metadata": {},
     "output_type": "execute_result"
    }
   ],
   "source": [
    "model.evaluate(x_test, y_test)"
   ]
  },
  {
   "cell_type": "code",
   "execution_count": 16,
   "id": "34379d96",
   "metadata": {
    "execution": {
     "iopub.execute_input": "2022-04-11T07:04:34.991071Z",
     "iopub.status.busy": "2022-04-11T07:04:34.988684Z",
     "iopub.status.idle": "2022-04-11T07:04:34.993772Z",
     "shell.execute_reply": "2022-04-11T07:04:34.994164Z",
     "shell.execute_reply.started": "2022-04-11T06:23:18.105589Z"
    },
    "papermill": {
     "duration": 0.481781,
     "end_time": "2022-04-11T07:04:34.994324",
     "exception": false,
     "start_time": "2022-04-11T07:04:34.512543",
     "status": "completed"
    },
    "tags": []
   },
   "outputs": [
    {
     "data": {
      "text/plain": [
       "array([[-0.06637872, -0.0020275 , -0.01451369, ...,  1.        ,\n",
       "         1.        ,  0.        ],\n",
       "       [-0.06779165, -0.0026812 , -0.01766139, ...,  1.        ,\n",
       "         1.        ,  0.        ],\n",
       "       [-0.06779165, -0.00201738, -0.0262873 , ...,  1.        ,\n",
       "         1.        ,  0.        ],\n",
       "       ...,\n",
       "       [-0.06779165, -0.00201738, -0.0262873 , ...,  1.        ,\n",
       "         1.        ,  0.        ],\n",
       "       [-0.06779165, -0.00283602,  0.13312553, ...,  1.        ,\n",
       "         1.        ,  0.        ],\n",
       "       [-0.06779165, -0.00201738, -0.0262873 , ...,  1.        ,\n",
       "         1.        ,  0.        ]])"
      ]
     },
     "execution_count": 16,
     "metadata": {},
     "output_type": "execute_result"
    }
   ],
   "source": [
    "x_test"
   ]
  },
  {
   "cell_type": "code",
   "execution_count": null,
   "id": "3af50952",
   "metadata": {
    "papermill": {
     "duration": 0.472202,
     "end_time": "2022-04-11T07:04:35.942841",
     "exception": false,
     "start_time": "2022-04-11T07:04:35.470639",
     "status": "completed"
    },
    "tags": []
   },
   "outputs": [],
   "source": []
  }
 ],
 "metadata": {
  "kernelspec": {
   "display_name": "Python 3",
   "language": "python",
   "name": "python3"
  },
  "language_info": {
   "codemirror_mode": {
    "name": "ipython",
    "version": 3
   },
   "file_extension": ".py",
   "mimetype": "text/x-python",
   "name": "python",
   "nbconvert_exporter": "python",
   "pygments_lexer": "ipython3",
   "version": "3.7.12"
  },
  "papermill": {
   "default_parameters": {},
   "duration": 121.46039,
   "end_time": "2022-04-11T07:04:40.005018",
   "environment_variables": {},
   "exception": null,
   "input_path": "__notebook__.ipynb",
   "output_path": "__notebook__.ipynb",
   "parameters": {},
   "start_time": "2022-04-11T07:02:38.544628",
   "version": "2.3.3"
  }
 },
 "nbformat": 4,
 "nbformat_minor": 5
}
