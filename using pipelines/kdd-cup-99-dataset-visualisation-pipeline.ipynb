{
 "cells": [
  {
   "cell_type": "code",
   "execution_count": 1,
   "id": "42058a3b",
   "metadata": {
    "_cell_guid": "b1076dfc-b9ad-4769-8c92-a6c4dae69d19",
    "_uuid": "8f2839f25d086af736a60e9eeb907d3b93b6e0e5",
    "execution": {
     "iopub.execute_input": "2022-04-11T07:20:59.121813Z",
     "iopub.status.busy": "2022-04-11T07:20:59.121051Z",
     "iopub.status.idle": "2022-04-11T07:20:59.187483Z",
     "shell.execute_reply": "2022-04-11T07:20:59.187905Z",
     "shell.execute_reply.started": "2022-04-11T06:23:32.937364Z"
    },
    "papermill": {
     "duration": 0.153293,
     "end_time": "2022-04-11T07:20:59.188155",
     "exception": false,
     "start_time": "2022-04-11T07:20:59.034862",
     "status": "completed"
    },
    "tags": []
   },
   "outputs": [
    {
     "name": "stdout",
     "output_type": "stream",
     "text": [
      "/kaggle/input/kdd-cup-1999-data/kddcup.data.gz\n",
      "/kaggle/input/kdd-cup-1999-data/training_attack_types\n",
      "/kaggle/input/kdd-cup-1999-data/kddcup.data.corrected\n",
      "/kaggle/input/kdd-cup-1999-data/kddcup.newtestdata_10_percent_unlabeled.gz\n",
      "/kaggle/input/kdd-cup-1999-data/kddcup.testdata.unlabeled.gz\n",
      "/kaggle/input/kdd-cup-1999-data/corrected.gz\n",
      "/kaggle/input/kdd-cup-1999-data/kddcup.data_10_percent.gz\n",
      "/kaggle/input/kdd-cup-1999-data/kddcup.names\n",
      "/kaggle/input/kdd-cup-1999-data/kddcup.data_10_percent_corrected\n",
      "/kaggle/input/kdd-cup-1999-data/typo-correction.txt\n",
      "/kaggle/input/kdd-cup-1999-data/kddcup.testdata.unlabeled_10_percent.gz\n",
      "/kaggle/input/kdd-cup-1999-data/kddcup.data/kddcup.data\n",
      "/kaggle/input/kdd-cup-1999-data/kddcup.testdata.unlabeled/kddcup.testdata.unlabeled\n",
      "/kaggle/input/kdd-cup-1999-data/corrected/corrected\n",
      "/kaggle/input/kdd-cup-1999-data/kddcup.testdata.unlabeled_10_percent/kddcup.testdata.unlabeled_10_percent\n",
      "/kaggle/input/kdd-cup-1999-data/kddcup.newtestdata_10_percent_unlabeled/kddcup.newtestdata_10_percent_unlabeled\n",
      "/kaggle/input/kdd-cup-1999-data/kddcup.data_10_percent/kddcup.data_10_percent\n"
     ]
    }
   ],
   "source": [
    "import numpy as np # linear algebra\n",
    "import pandas as pd # data processing, CSV file I/O (e.g. pd.read_csv)\n",
    "import os\n",
    "for dirname, _, filenames in os.walk('/kaggle/input'):\n",
    "    for filename in filenames:\n",
    "        print(os.path.join(dirname, filename))\n",
    "PROJECT_ROOT_DIR = \".\"\n",
    "IMAGES_PATH = os.path.join(PROJECT_ROOT_DIR, \"images\")\n",
    "os.makedirs(IMAGES_PATH, exist_ok=True)"
   ]
  },
  {
   "cell_type": "markdown",
   "id": "6367d215",
   "metadata": {
    "papermill": {
     "duration": 0.07454,
     "end_time": "2022-04-11T07:20:59.337076",
     "exception": false,
     "start_time": "2022-04-11T07:20:59.262536",
     "status": "completed"
    },
    "tags": []
   },
   "source": [
    "# Importing all required modules and listing the contents of given dataset.."
   ]
  },
  {
   "cell_type": "code",
   "execution_count": 2,
   "id": "77db2cf7",
   "metadata": {
    "execution": {
     "iopub.execute_input": "2022-04-11T07:20:59.530900Z",
     "iopub.status.busy": "2022-04-11T07:20:59.530209Z",
     "iopub.status.idle": "2022-04-11T07:21:00.652161Z",
     "shell.execute_reply": "2022-04-11T07:21:00.651287Z",
     "shell.execute_reply.started": "2022-04-11T06:23:33.006650Z"
    },
    "papermill": {
     "duration": 1.216994,
     "end_time": "2022-04-11T07:21:00.652302",
     "exception": false,
     "start_time": "2022-04-11T07:20:59.435308",
     "status": "completed"
    },
    "tags": []
   },
   "outputs": [
    {
     "name": "stdout",
     "output_type": "stream",
     "text": [
      "['kddcup.data.gz', 'kddcup.data', 'kddcup.testdata.unlabeled', 'training_attack_types', 'kddcup.data.corrected', 'kddcup.newtestdata_10_percent_unlabeled.gz', 'corrected', 'kddcup.testdata.unlabeled.gz', 'kddcup.testdata.unlabeled_10_percent', 'corrected.gz', 'kddcup.newtestdata_10_percent_unlabeled', 'kddcup.data_10_percent.gz', 'kddcup.names', 'kddcup.data_10_percent_corrected', 'typo-correction.txt', 'kddcup.data_10_percent', 'kddcup.testdata.unlabeled_10_percent.gz']\n"
     ]
    }
   ],
   "source": [
    "import os\n",
    "import matplotlib.pyplot as plt\n",
    "import seaborn as sns\n",
    "import time\n",
    "print(os.listdir('../input/kdd-cup-1999-data'))\n",
    "%matplotlib inline\n",
    "import matplotlib.pyplot as plt\n",
    "from sklearn.model_selection import train_test_split\n",
    "from sklearn.preprocessing import OneHotEncoder\n",
    "from sklearn.ensemble import IsolationForest\n",
    "from sklearn.preprocessing import OneHotEncoder"
   ]
  },
  {
   "cell_type": "markdown",
   "id": "e9e81501",
   "metadata": {
    "papermill": {
     "duration": 0.073843,
     "end_time": "2022-04-11T07:21:00.801076",
     "exception": false,
     "start_time": "2022-04-11T07:21:00.727233",
     "status": "completed"
    },
    "tags": []
   },
   "source": [
    "### It shows that, there's handfull of usefull data in the dataset."
   ]
  },
  {
   "cell_type": "markdown",
   "id": "0e595b5b",
   "metadata": {
    "papermill": {
     "duration": 0.074908,
     "end_time": "2022-04-11T07:21:00.950704",
     "exception": false,
     "start_time": "2022-04-11T07:21:00.875796",
     "status": "completed"
    },
    "tags": []
   },
   "source": [
    "# Analysing the given dataset."
   ]
  },
  {
   "cell_type": "code",
   "execution_count": 3,
   "id": "644c565c",
   "metadata": {
    "execution": {
     "iopub.execute_input": "2022-04-11T07:21:01.104044Z",
     "iopub.status.busy": "2022-04-11T07:21:01.103311Z",
     "iopub.status.idle": "2022-04-11T07:21:04.265595Z",
     "shell.execute_reply": "2022-04-11T07:21:04.266113Z",
     "shell.execute_reply.started": "2022-04-11T06:23:34.313640Z"
    },
    "papermill": {
     "duration": 3.241505,
     "end_time": "2022-04-11T07:21:04.266290",
     "exception": false,
     "start_time": "2022-04-11T07:21:01.024785",
     "status": "completed"
    },
    "tags": []
   },
   "outputs": [
    {
     "name": "stdout",
     "output_type": "stream",
     "text": [
      "        0  tcp  http  SF  181  5450  0.1  0.2  0.3  0.4  ...  9.1  1.00.1  \\\n",
      "0       0  tcp  http  SF  239   486    0    0    0    0  ...   19     1.0   \n",
      "1       0  tcp  http  SF  235  1337    0    0    0    0  ...   29     1.0   \n",
      "2       0  tcp  http  SF  219  1337    0    0    0    0  ...   39     1.0   \n",
      "3       0  tcp  http  SF  217  2032    0    0    0    0  ...   49     1.0   \n",
      "4       0  tcp  http  SF  217  2032    0    0    0    0  ...   59     1.0   \n",
      "...    ..  ...   ...  ..  ...   ...  ...  ...  ...  ...  ...  ...     ...   \n",
      "494015  0  tcp  http  SF  310  1881    0    0    0    0  ...  255     1.0   \n",
      "494016  0  tcp  http  SF  282  2286    0    0    0    0  ...  255     1.0   \n",
      "494017  0  tcp  http  SF  203  1200    0    0    0    0  ...  255     1.0   \n",
      "494018  0  tcp  http  SF  291  1200    0    0    0    0  ...  255     1.0   \n",
      "494019  0  tcp  http  SF  219  1234    0    0    0    0  ...  255     1.0   \n",
      "\n",
      "        0.00.6  0.11.1  0.00.7  0.00.8  0.00.9  0.00.10  0.00.11  normal.  \n",
      "0          0.0    0.05    0.00    0.00    0.00      0.0      0.0  normal.  \n",
      "1          0.0    0.03    0.00    0.00    0.00      0.0      0.0  normal.  \n",
      "2          0.0    0.03    0.00    0.00    0.00      0.0      0.0  normal.  \n",
      "3          0.0    0.02    0.00    0.00    0.00      0.0      0.0  normal.  \n",
      "4          0.0    0.02    0.00    0.00    0.00      0.0      0.0  normal.  \n",
      "...        ...     ...     ...     ...     ...      ...      ...      ...  \n",
      "494015     0.0    0.01    0.05    0.00    0.01      0.0      0.0  normal.  \n",
      "494016     0.0    0.17    0.05    0.00    0.01      0.0      0.0  normal.  \n",
      "494017     0.0    0.06    0.05    0.06    0.01      0.0      0.0  normal.  \n",
      "494018     0.0    0.04    0.05    0.04    0.01      0.0      0.0  normal.  \n",
      "494019     0.0    0.17    0.05    0.00    0.01      0.0      0.0  normal.  \n",
      "\n",
      "[494020 rows x 42 columns]\n"
     ]
    }
   ],
   "source": [
    "raw_data = pd.read_csv('/kaggle/input/kdd-cup-1999-data/kddcup.data_10_percent_corrected')\n",
    "print(raw_data)"
   ]
  },
  {
   "cell_type": "markdown",
   "id": "a98f8634",
   "metadata": {
    "papermill": {
     "duration": 0.074574,
     "end_time": "2022-04-11T07:21:04.417686",
     "exception": false,
     "start_time": "2022-04-11T07:21:04.343112",
     "status": "completed"
    },
    "tags": []
   },
   "source": [
    "### Checking for null."
   ]
  },
  {
   "cell_type": "code",
   "execution_count": 4,
   "id": "711f0129",
   "metadata": {
    "execution": {
     "iopub.execute_input": "2022-04-11T07:21:04.573351Z",
     "iopub.status.busy": "2022-04-11T07:21:04.572493Z",
     "iopub.status.idle": "2022-04-11T07:21:04.782564Z",
     "shell.execute_reply": "2022-04-11T07:21:04.782982Z",
     "shell.execute_reply.started": "2022-04-11T06:23:36.990304Z"
    },
    "papermill": {
     "duration": 0.290469,
     "end_time": "2022-04-11T07:21:04.783125",
     "exception": false,
     "start_time": "2022-04-11T07:21:04.492656",
     "status": "completed"
    },
    "tags": []
   },
   "outputs": [
    {
     "data": {
      "text/plain": [
       "0          0\n",
       "tcp        0\n",
       "http       0\n",
       "SF         0\n",
       "181        0\n",
       "5450       0\n",
       "0.1        0\n",
       "0.2        0\n",
       "0.3        0\n",
       "0.4        0\n",
       "0.5        0\n",
       "1          0\n",
       "0.6        0\n",
       "0.7        0\n",
       "0.8        0\n",
       "0.9        0\n",
       "0.10       0\n",
       "0.11       0\n",
       "0.12       0\n",
       "0.13       0\n",
       "0.14       0\n",
       "0.15       0\n",
       "8          0\n",
       "8.1        0\n",
       "0.00       0\n",
       "0.00.1     0\n",
       "0.00.2     0\n",
       "0.00.3     0\n",
       "1.00       0\n",
       "0.00.4     0\n",
       "0.00.5     0\n",
       "9          0\n",
       "9.1        0\n",
       "1.00.1     0\n",
       "0.00.6     0\n",
       "0.11.1     0\n",
       "0.00.7     0\n",
       "0.00.8     0\n",
       "0.00.9     0\n",
       "0.00.10    0\n",
       "0.00.11    0\n",
       "normal.    0\n",
       "dtype: int64"
      ]
     },
     "execution_count": 4,
     "metadata": {},
     "output_type": "execute_result"
    }
   ],
   "source": [
    "raw_data.isnull().sum()"
   ]
  },
  {
   "cell_type": "code",
   "execution_count": 5,
   "id": "95b1ea2d",
   "metadata": {
    "execution": {
     "iopub.execute_input": "2022-04-11T07:21:04.940273Z",
     "iopub.status.busy": "2022-04-11T07:21:04.939382Z",
     "iopub.status.idle": "2022-04-11T07:21:04.943067Z",
     "shell.execute_reply": "2022-04-11T07:21:04.943424Z",
     "shell.execute_reply.started": "2022-04-11T06:23:37.208169Z"
    },
    "papermill": {
     "duration": 0.083902,
     "end_time": "2022-04-11T07:21:04.943582",
     "exception": false,
     "start_time": "2022-04-11T07:21:04.859680",
     "status": "completed"
    },
    "tags": []
   },
   "outputs": [
    {
     "data": {
      "text/plain": [
       "Index(['0', 'tcp', 'http', 'SF', '181', '5450', '0.1', '0.2', '0.3', '0.4',\n",
       "       '0.5', '1', '0.6', '0.7', '0.8', '0.9', '0.10', '0.11', '0.12', '0.13',\n",
       "       '0.14', '0.15', '8', '8.1', '0.00', '0.00.1', '0.00.2', '0.00.3',\n",
       "       '1.00', '0.00.4', '0.00.5', '9', '9.1', '1.00.1', '0.00.6', '0.11.1',\n",
       "       '0.00.7', '0.00.8', '0.00.9', '0.00.10', '0.00.11', 'normal.'],\n",
       "      dtype='object')"
      ]
     },
     "execution_count": 5,
     "metadata": {},
     "output_type": "execute_result"
    }
   ],
   "source": [
    "raw_data.columns"
   ]
  },
  {
   "cell_type": "code",
   "execution_count": 6,
   "id": "f2abc858",
   "metadata": {
    "execution": {
     "iopub.execute_input": "2022-04-11T07:21:05.116131Z",
     "iopub.status.busy": "2022-04-11T07:21:05.115603Z",
     "iopub.status.idle": "2022-04-11T07:21:05.128328Z",
     "shell.execute_reply": "2022-04-11T07:21:05.128764Z",
     "shell.execute_reply.started": "2022-04-11T06:23:37.217560Z"
    },
    "papermill": {
     "duration": 0.109097,
     "end_time": "2022-04-11T07:21:05.128934",
     "exception": false,
     "start_time": "2022-04-11T07:21:05.019837",
     "status": "completed"
    },
    "tags": []
   },
   "outputs": [
    {
     "data": {
      "text/html": [
       "<div>\n",
       "<style scoped>\n",
       "    .dataframe tbody tr th:only-of-type {\n",
       "        vertical-align: middle;\n",
       "    }\n",
       "\n",
       "    .dataframe tbody tr th {\n",
       "        vertical-align: top;\n",
       "    }\n",
       "\n",
       "    .dataframe thead th {\n",
       "        text-align: right;\n",
       "    }\n",
       "</style>\n",
       "<table border=\"1\" class=\"dataframe\">\n",
       "  <thead>\n",
       "    <tr style=\"text-align: right;\">\n",
       "      <th></th>\n",
       "      <th>0</th>\n",
       "      <th>tcp</th>\n",
       "      <th>http</th>\n",
       "      <th>SF</th>\n",
       "      <th>181</th>\n",
       "      <th>5450</th>\n",
       "      <th>0.1</th>\n",
       "      <th>0.2</th>\n",
       "      <th>0.3</th>\n",
       "      <th>0.4</th>\n",
       "      <th>...</th>\n",
       "      <th>9.1</th>\n",
       "      <th>1.00.1</th>\n",
       "      <th>0.00.6</th>\n",
       "      <th>0.11.1</th>\n",
       "      <th>0.00.7</th>\n",
       "      <th>0.00.8</th>\n",
       "      <th>0.00.9</th>\n",
       "      <th>0.00.10</th>\n",
       "      <th>0.00.11</th>\n",
       "      <th>normal.</th>\n",
       "    </tr>\n",
       "  </thead>\n",
       "  <tbody>\n",
       "    <tr>\n",
       "      <th>0</th>\n",
       "      <td>0</td>\n",
       "      <td>tcp</td>\n",
       "      <td>http</td>\n",
       "      <td>SF</td>\n",
       "      <td>239</td>\n",
       "      <td>486</td>\n",
       "      <td>0</td>\n",
       "      <td>0</td>\n",
       "      <td>0</td>\n",
       "      <td>0</td>\n",
       "      <td>...</td>\n",
       "      <td>19</td>\n",
       "      <td>1.0</td>\n",
       "      <td>0.0</td>\n",
       "      <td>0.05</td>\n",
       "      <td>0.0</td>\n",
       "      <td>0.0</td>\n",
       "      <td>0.0</td>\n",
       "      <td>0.0</td>\n",
       "      <td>0.0</td>\n",
       "      <td>normal.</td>\n",
       "    </tr>\n",
       "    <tr>\n",
       "      <th>1</th>\n",
       "      <td>0</td>\n",
       "      <td>tcp</td>\n",
       "      <td>http</td>\n",
       "      <td>SF</td>\n",
       "      <td>235</td>\n",
       "      <td>1337</td>\n",
       "      <td>0</td>\n",
       "      <td>0</td>\n",
       "      <td>0</td>\n",
       "      <td>0</td>\n",
       "      <td>...</td>\n",
       "      <td>29</td>\n",
       "      <td>1.0</td>\n",
       "      <td>0.0</td>\n",
       "      <td>0.03</td>\n",
       "      <td>0.0</td>\n",
       "      <td>0.0</td>\n",
       "      <td>0.0</td>\n",
       "      <td>0.0</td>\n",
       "      <td>0.0</td>\n",
       "      <td>normal.</td>\n",
       "    </tr>\n",
       "    <tr>\n",
       "      <th>2</th>\n",
       "      <td>0</td>\n",
       "      <td>tcp</td>\n",
       "      <td>http</td>\n",
       "      <td>SF</td>\n",
       "      <td>219</td>\n",
       "      <td>1337</td>\n",
       "      <td>0</td>\n",
       "      <td>0</td>\n",
       "      <td>0</td>\n",
       "      <td>0</td>\n",
       "      <td>...</td>\n",
       "      <td>39</td>\n",
       "      <td>1.0</td>\n",
       "      <td>0.0</td>\n",
       "      <td>0.03</td>\n",
       "      <td>0.0</td>\n",
       "      <td>0.0</td>\n",
       "      <td>0.0</td>\n",
       "      <td>0.0</td>\n",
       "      <td>0.0</td>\n",
       "      <td>normal.</td>\n",
       "    </tr>\n",
       "    <tr>\n",
       "      <th>3</th>\n",
       "      <td>0</td>\n",
       "      <td>tcp</td>\n",
       "      <td>http</td>\n",
       "      <td>SF</td>\n",
       "      <td>217</td>\n",
       "      <td>2032</td>\n",
       "      <td>0</td>\n",
       "      <td>0</td>\n",
       "      <td>0</td>\n",
       "      <td>0</td>\n",
       "      <td>...</td>\n",
       "      <td>49</td>\n",
       "      <td>1.0</td>\n",
       "      <td>0.0</td>\n",
       "      <td>0.02</td>\n",
       "      <td>0.0</td>\n",
       "      <td>0.0</td>\n",
       "      <td>0.0</td>\n",
       "      <td>0.0</td>\n",
       "      <td>0.0</td>\n",
       "      <td>normal.</td>\n",
       "    </tr>\n",
       "    <tr>\n",
       "      <th>4</th>\n",
       "      <td>0</td>\n",
       "      <td>tcp</td>\n",
       "      <td>http</td>\n",
       "      <td>SF</td>\n",
       "      <td>217</td>\n",
       "      <td>2032</td>\n",
       "      <td>0</td>\n",
       "      <td>0</td>\n",
       "      <td>0</td>\n",
       "      <td>0</td>\n",
       "      <td>...</td>\n",
       "      <td>59</td>\n",
       "      <td>1.0</td>\n",
       "      <td>0.0</td>\n",
       "      <td>0.02</td>\n",
       "      <td>0.0</td>\n",
       "      <td>0.0</td>\n",
       "      <td>0.0</td>\n",
       "      <td>0.0</td>\n",
       "      <td>0.0</td>\n",
       "      <td>normal.</td>\n",
       "    </tr>\n",
       "  </tbody>\n",
       "</table>\n",
       "<p>5 rows × 42 columns</p>\n",
       "</div>"
      ],
      "text/plain": [
       "   0  tcp  http  SF  181  5450  0.1  0.2  0.3  0.4  ...  9.1  1.00.1  0.00.6  \\\n",
       "0  0  tcp  http  SF  239   486    0    0    0    0  ...   19     1.0     0.0   \n",
       "1  0  tcp  http  SF  235  1337    0    0    0    0  ...   29     1.0     0.0   \n",
       "2  0  tcp  http  SF  219  1337    0    0    0    0  ...   39     1.0     0.0   \n",
       "3  0  tcp  http  SF  217  2032    0    0    0    0  ...   49     1.0     0.0   \n",
       "4  0  tcp  http  SF  217  2032    0    0    0    0  ...   59     1.0     0.0   \n",
       "\n",
       "   0.11.1  0.00.7  0.00.8  0.00.9  0.00.10  0.00.11  normal.  \n",
       "0    0.05     0.0     0.0     0.0      0.0      0.0  normal.  \n",
       "1    0.03     0.0     0.0     0.0      0.0      0.0  normal.  \n",
       "2    0.03     0.0     0.0     0.0      0.0      0.0  normal.  \n",
       "3    0.02     0.0     0.0     0.0      0.0      0.0  normal.  \n",
       "4    0.02     0.0     0.0     0.0      0.0      0.0  normal.  \n",
       "\n",
       "[5 rows x 42 columns]"
      ]
     },
     "execution_count": 6,
     "metadata": {},
     "output_type": "execute_result"
    }
   ],
   "source": [
    "raw_data.head()"
   ]
  },
  {
   "cell_type": "code",
   "execution_count": 7,
   "id": "83966ca4",
   "metadata": {
    "execution": {
     "iopub.execute_input": "2022-04-11T07:21:05.293340Z",
     "iopub.status.busy": "2022-04-11T07:21:05.292466Z",
     "iopub.status.idle": "2022-04-11T07:21:05.304076Z",
     "shell.execute_reply": "2022-04-11T07:21:05.304503Z",
     "shell.execute_reply.started": "2022-04-11T06:23:37.255905Z"
    },
    "papermill": {
     "duration": 0.099775,
     "end_time": "2022-04-11T07:21:05.304637",
     "exception": false,
     "start_time": "2022-04-11T07:21:05.204862",
     "status": "completed"
    },
    "tags": []
   },
   "outputs": [
    {
     "data": {
      "text/html": [
       "<div>\n",
       "<style scoped>\n",
       "    .dataframe tbody tr th:only-of-type {\n",
       "        vertical-align: middle;\n",
       "    }\n",
       "\n",
       "    .dataframe tbody tr th {\n",
       "        vertical-align: top;\n",
       "    }\n",
       "\n",
       "    .dataframe thead th {\n",
       "        text-align: right;\n",
       "    }\n",
       "</style>\n",
       "<table border=\"1\" class=\"dataframe\">\n",
       "  <thead>\n",
       "    <tr style=\"text-align: right;\">\n",
       "      <th></th>\n",
       "      <th>0</th>\n",
       "      <th>tcp</th>\n",
       "      <th>http</th>\n",
       "      <th>SF</th>\n",
       "      <th>181</th>\n",
       "      <th>5450</th>\n",
       "      <th>0.1</th>\n",
       "      <th>0.2</th>\n",
       "      <th>0.3</th>\n",
       "      <th>0.4</th>\n",
       "      <th>...</th>\n",
       "      <th>9.1</th>\n",
       "      <th>1.00.1</th>\n",
       "      <th>0.00.6</th>\n",
       "      <th>0.11.1</th>\n",
       "      <th>0.00.7</th>\n",
       "      <th>0.00.8</th>\n",
       "      <th>0.00.9</th>\n",
       "      <th>0.00.10</th>\n",
       "      <th>0.00.11</th>\n",
       "      <th>normal.</th>\n",
       "    </tr>\n",
       "  </thead>\n",
       "  <tbody>\n",
       "    <tr>\n",
       "      <th>494015</th>\n",
       "      <td>0</td>\n",
       "      <td>tcp</td>\n",
       "      <td>http</td>\n",
       "      <td>SF</td>\n",
       "      <td>310</td>\n",
       "      <td>1881</td>\n",
       "      <td>0</td>\n",
       "      <td>0</td>\n",
       "      <td>0</td>\n",
       "      <td>0</td>\n",
       "      <td>...</td>\n",
       "      <td>255</td>\n",
       "      <td>1.0</td>\n",
       "      <td>0.0</td>\n",
       "      <td>0.01</td>\n",
       "      <td>0.05</td>\n",
       "      <td>0.00</td>\n",
       "      <td>0.01</td>\n",
       "      <td>0.0</td>\n",
       "      <td>0.0</td>\n",
       "      <td>normal.</td>\n",
       "    </tr>\n",
       "    <tr>\n",
       "      <th>494016</th>\n",
       "      <td>0</td>\n",
       "      <td>tcp</td>\n",
       "      <td>http</td>\n",
       "      <td>SF</td>\n",
       "      <td>282</td>\n",
       "      <td>2286</td>\n",
       "      <td>0</td>\n",
       "      <td>0</td>\n",
       "      <td>0</td>\n",
       "      <td>0</td>\n",
       "      <td>...</td>\n",
       "      <td>255</td>\n",
       "      <td>1.0</td>\n",
       "      <td>0.0</td>\n",
       "      <td>0.17</td>\n",
       "      <td>0.05</td>\n",
       "      <td>0.00</td>\n",
       "      <td>0.01</td>\n",
       "      <td>0.0</td>\n",
       "      <td>0.0</td>\n",
       "      <td>normal.</td>\n",
       "    </tr>\n",
       "    <tr>\n",
       "      <th>494017</th>\n",
       "      <td>0</td>\n",
       "      <td>tcp</td>\n",
       "      <td>http</td>\n",
       "      <td>SF</td>\n",
       "      <td>203</td>\n",
       "      <td>1200</td>\n",
       "      <td>0</td>\n",
       "      <td>0</td>\n",
       "      <td>0</td>\n",
       "      <td>0</td>\n",
       "      <td>...</td>\n",
       "      <td>255</td>\n",
       "      <td>1.0</td>\n",
       "      <td>0.0</td>\n",
       "      <td>0.06</td>\n",
       "      <td>0.05</td>\n",
       "      <td>0.06</td>\n",
       "      <td>0.01</td>\n",
       "      <td>0.0</td>\n",
       "      <td>0.0</td>\n",
       "      <td>normal.</td>\n",
       "    </tr>\n",
       "    <tr>\n",
       "      <th>494018</th>\n",
       "      <td>0</td>\n",
       "      <td>tcp</td>\n",
       "      <td>http</td>\n",
       "      <td>SF</td>\n",
       "      <td>291</td>\n",
       "      <td>1200</td>\n",
       "      <td>0</td>\n",
       "      <td>0</td>\n",
       "      <td>0</td>\n",
       "      <td>0</td>\n",
       "      <td>...</td>\n",
       "      <td>255</td>\n",
       "      <td>1.0</td>\n",
       "      <td>0.0</td>\n",
       "      <td>0.04</td>\n",
       "      <td>0.05</td>\n",
       "      <td>0.04</td>\n",
       "      <td>0.01</td>\n",
       "      <td>0.0</td>\n",
       "      <td>0.0</td>\n",
       "      <td>normal.</td>\n",
       "    </tr>\n",
       "    <tr>\n",
       "      <th>494019</th>\n",
       "      <td>0</td>\n",
       "      <td>tcp</td>\n",
       "      <td>http</td>\n",
       "      <td>SF</td>\n",
       "      <td>219</td>\n",
       "      <td>1234</td>\n",
       "      <td>0</td>\n",
       "      <td>0</td>\n",
       "      <td>0</td>\n",
       "      <td>0</td>\n",
       "      <td>...</td>\n",
       "      <td>255</td>\n",
       "      <td>1.0</td>\n",
       "      <td>0.0</td>\n",
       "      <td>0.17</td>\n",
       "      <td>0.05</td>\n",
       "      <td>0.00</td>\n",
       "      <td>0.01</td>\n",
       "      <td>0.0</td>\n",
       "      <td>0.0</td>\n",
       "      <td>normal.</td>\n",
       "    </tr>\n",
       "  </tbody>\n",
       "</table>\n",
       "<p>5 rows × 42 columns</p>\n",
       "</div>"
      ],
      "text/plain": [
       "        0  tcp  http  SF  181  5450  0.1  0.2  0.3  0.4  ...  9.1  1.00.1  \\\n",
       "494015  0  tcp  http  SF  310  1881    0    0    0    0  ...  255     1.0   \n",
       "494016  0  tcp  http  SF  282  2286    0    0    0    0  ...  255     1.0   \n",
       "494017  0  tcp  http  SF  203  1200    0    0    0    0  ...  255     1.0   \n",
       "494018  0  tcp  http  SF  291  1200    0    0    0    0  ...  255     1.0   \n",
       "494019  0  tcp  http  SF  219  1234    0    0    0    0  ...  255     1.0   \n",
       "\n",
       "        0.00.6  0.11.1  0.00.7  0.00.8  0.00.9  0.00.10  0.00.11  normal.  \n",
       "494015     0.0    0.01    0.05    0.00    0.01      0.0      0.0  normal.  \n",
       "494016     0.0    0.17    0.05    0.00    0.01      0.0      0.0  normal.  \n",
       "494017     0.0    0.06    0.05    0.06    0.01      0.0      0.0  normal.  \n",
       "494018     0.0    0.04    0.05    0.04    0.01      0.0      0.0  normal.  \n",
       "494019     0.0    0.17    0.05    0.00    0.01      0.0      0.0  normal.  \n",
       "\n",
       "[5 rows x 42 columns]"
      ]
     },
     "execution_count": 7,
     "metadata": {},
     "output_type": "execute_result"
    }
   ],
   "source": [
    "raw_data.tail()"
   ]
  },
  {
   "cell_type": "code",
   "execution_count": 8,
   "id": "522b1905",
   "metadata": {
    "execution": {
     "iopub.execute_input": "2022-04-11T07:21:05.460800Z",
     "iopub.status.busy": "2022-04-11T07:21:05.460251Z",
     "iopub.status.idle": "2022-04-11T07:21:07.288752Z",
     "shell.execute_reply": "2022-04-11T07:21:07.289358Z",
     "shell.execute_reply.started": "2022-04-11T06:23:37.289002Z"
    },
    "papermill": {
     "duration": 1.908447,
     "end_time": "2022-04-11T07:21:07.289569",
     "exception": false,
     "start_time": "2022-04-11T07:21:05.381122",
     "status": "completed"
    },
    "tags": []
   },
   "outputs": [
    {
     "name": "stdout",
     "output_type": "stream",
     "text": [
      "        0  udp  private  SF  105  146  0.1  0.2  0.3  0.4  ...  254  1.00.1  \\\n",
      "0       0  udp  private  SF  105  146    0    0    0    0  ...  254     1.0   \n",
      "1       0  udp  private  SF  105  146    0    0    0    0  ...  254     1.0   \n",
      "2       0  udp  private  SF  105  146    0    0    0    0  ...  254     1.0   \n",
      "3       0  udp  private  SF  105  146    0    0    0    0  ...  254     1.0   \n",
      "4       0  udp  private  SF  105  146    0    0    0    0  ...  255     1.0   \n",
      "...    ..  ...      ...  ..  ...  ...  ...  ...  ...  ...  ...  ...     ...   \n",
      "311023  0  udp  private  SF  105  147    0    0    0    0  ...  255     1.0   \n",
      "311024  0  udp  private  SF  105  147    0    0    0    0  ...  255     1.0   \n",
      "311025  0  udp  private  SF  105  147    0    0    0    0  ...  255     1.0   \n",
      "311026  0  udp  private  SF  105  147    0    0    0    0  ...  255     1.0   \n",
      "311027  0  udp  private  SF  105  147    0    0    0    0  ...  255     1.0   \n",
      "\n",
      "        0.01  0.00.6  0.00.7  0.00.8  0.00.9  0.00.10  0.00.11         normal.  \n",
      "0       0.01    0.00     0.0     0.0     0.0      0.0      0.0         normal.  \n",
      "1       0.01    0.00     0.0     0.0     0.0      0.0      0.0         normal.  \n",
      "2       0.01    0.00     0.0     0.0     0.0      0.0      0.0  snmpgetattack.  \n",
      "3       0.01    0.01     0.0     0.0     0.0      0.0      0.0  snmpgetattack.  \n",
      "4       0.00    0.01     0.0     0.0     0.0      0.0      0.0  snmpgetattack.  \n",
      "...      ...     ...     ...     ...     ...      ...      ...             ...  \n",
      "311023  0.00    0.01     0.0     0.0     0.0      0.0      0.0         normal.  \n",
      "311024  0.00    0.01     0.0     0.0     0.0      0.0      0.0         normal.  \n",
      "311025  0.00    0.01     0.0     0.0     0.0      0.0      0.0         normal.  \n",
      "311026  0.00    0.01     0.0     0.0     0.0      0.0      0.0         normal.  \n",
      "311027  0.00    0.01     0.0     0.0     0.0      0.0      0.0         normal.  \n",
      "\n",
      "[311028 rows x 42 columns]\n"
     ]
    }
   ],
   "source": [
    "data = pd.read_csv('/kaggle/input/kdd-cup-1999-data/corrected/corrected')\n",
    "print(data)"
   ]
  },
  {
   "cell_type": "code",
   "execution_count": 9,
   "id": "808f4efc",
   "metadata": {
    "execution": {
     "iopub.execute_input": "2022-04-11T07:21:07.450197Z",
     "iopub.status.busy": "2022-04-11T07:21:07.449515Z",
     "iopub.status.idle": "2022-04-11T07:21:07.452191Z",
     "shell.execute_reply": "2022-04-11T07:21:07.452596Z",
     "shell.execute_reply.started": "2022-04-11T06:23:38.852060Z"
    },
    "papermill": {
     "duration": 0.084301,
     "end_time": "2022-04-11T07:21:07.452725",
     "exception": false,
     "start_time": "2022-04-11T07:21:07.368424",
     "status": "completed"
    },
    "tags": []
   },
   "outputs": [
    {
     "data": {
      "text/plain": [
       "Index(['0', 'udp', 'private', 'SF', '105', '146', '0.1', '0.2', '0.3', '0.4',\n",
       "       '0.5', '0.6', '0.7', '0.8', '0.9', '0.10', '0.11', '0.12', '0.13',\n",
       "       '0.14', '0.15', '0.16', '1', '1.1', '0.00', '0.00.1', '0.00.2',\n",
       "       '0.00.3', '1.00', '0.00.4', '0.00.5', '255', '254', '1.00.1', '0.01',\n",
       "       '0.00.6', '0.00.7', '0.00.8', '0.00.9', '0.00.10', '0.00.11',\n",
       "       'normal.'],\n",
       "      dtype='object')"
      ]
     },
     "execution_count": 9,
     "metadata": {},
     "output_type": "execute_result"
    }
   ],
   "source": [
    "data.columns"
   ]
  },
  {
   "cell_type": "markdown",
   "id": "83165509",
   "metadata": {
    "papermill": {
     "duration": 0.077286,
     "end_time": "2022-04-11T07:21:07.607602",
     "exception": false,
     "start_time": "2022-04-11T07:21:07.530316",
     "status": "completed"
    },
    "tags": []
   },
   "source": [
    "## Importing all the dataset, excluding (.gz)"
   ]
  },
  {
   "cell_type": "code",
   "execution_count": 10,
   "id": "6ad966e4",
   "metadata": {
    "execution": {
     "iopub.execute_input": "2022-04-11T07:21:07.770756Z",
     "iopub.status.busy": "2022-04-11T07:21:07.770195Z",
     "iopub.status.idle": "2022-04-11T07:21:07.773948Z",
     "shell.execute_reply": "2022-04-11T07:21:07.773523Z",
     "shell.execute_reply.started": "2022-04-11T06:23:38.862528Z"
    },
    "papermill": {
     "duration": 0.089105,
     "end_time": "2022-04-11T07:21:07.774069",
     "exception": false,
     "start_time": "2022-04-11T07:21:07.684964",
     "status": "completed"
    },
    "tags": []
   },
   "outputs": [],
   "source": [
    "def load_data():\n",
    "    \n",
    "    f=open(\"../input/kdd-cup-1999-data/kddcup.names\",'r')\n",
    "    data=f.readlines()[1:]\n",
    "\n",
    "    column_names=[]\n",
    "    for line in data:\n",
    "        column_names.append(line.split(':')[0])\n",
    "\n",
    "    column_names.append('target')\n",
    "    f.close()\n",
    "\n",
    "    f=open(\"../input/kdd-cup-1999-data/training_attack_types\",\"r\")\n",
    "    data=f.readlines()[:-1]\n",
    "\n",
    "    attack_type_mapping={'normal':'normal'}\n",
    "    for line in data:\n",
    "        k,v=line.split()\n",
    "        attack_type_mapping[k]=v\n",
    "\n",
    "    f.close()\n",
    "\n",
    "    temp=pd.read_csv('../input/kdd-cup-1999-data/kddcup.data_10_percent.gz',names=column_names)\n",
    "    temp['target']=temp.target.apply(lambda r: attack_type_mapping[r[:-1]])\n",
    "    \n",
    "    return temp"
   ]
  },
  {
   "cell_type": "code",
   "execution_count": 11,
   "id": "aaa542fb",
   "metadata": {
    "execution": {
     "iopub.execute_input": "2022-04-11T07:21:07.934308Z",
     "iopub.status.busy": "2022-04-11T07:21:07.933800Z",
     "iopub.status.idle": "2022-04-11T07:21:09.805385Z",
     "shell.execute_reply": "2022-04-11T07:21:09.804414Z",
     "shell.execute_reply.started": "2022-04-11T06:23:38.876182Z"
    },
    "papermill": {
     "duration": 1.953763,
     "end_time": "2022-04-11T07:21:09.805568",
     "exception": false,
     "start_time": "2022-04-11T07:21:07.851805",
     "status": "completed"
    },
    "tags": []
   },
   "outputs": [
    {
     "data": {
      "text/plain": [
       "Index(['duration', 'protocol_type', 'service', 'flag', 'src_bytes',\n",
       "       'dst_bytes', 'land', 'wrong_fragment', 'urgent', 'hot',\n",
       "       'num_failed_logins', 'logged_in', 'num_compromised', 'root_shell',\n",
       "       'su_attempted', 'num_root', 'num_file_creations', 'num_shells',\n",
       "       'num_access_files', 'num_outbound_cmds', 'is_host_login',\n",
       "       'is_guest_login', 'count', 'srv_count', 'serror_rate',\n",
       "       'srv_serror_rate', 'rerror_rate', 'srv_rerror_rate', 'same_srv_rate',\n",
       "       'diff_srv_rate', 'srv_diff_host_rate', 'dst_host_count',\n",
       "       'dst_host_srv_count', 'dst_host_same_srv_rate',\n",
       "       'dst_host_diff_srv_rate', 'dst_host_same_src_port_rate',\n",
       "       'dst_host_srv_diff_host_rate', 'dst_host_serror_rate',\n",
       "       'dst_host_srv_serror_rate', 'dst_host_rerror_rate',\n",
       "       'dst_host_srv_rerror_rate', 'target'],\n",
       "      dtype='object')"
      ]
     },
     "execution_count": 11,
     "metadata": {},
     "output_type": "execute_result"
    }
   ],
   "source": [
    "set = load_data()\n",
    "set.columns"
   ]
  },
  {
   "cell_type": "code",
   "execution_count": 12,
   "id": "2e6e2880",
   "metadata": {
    "execution": {
     "iopub.execute_input": "2022-04-11T07:21:09.968887Z",
     "iopub.status.busy": "2022-04-11T07:21:09.968085Z",
     "iopub.status.idle": "2022-04-11T07:21:10.180806Z",
     "shell.execute_reply": "2022-04-11T07:21:10.181530Z",
     "shell.execute_reply.started": "2022-04-11T06:23:40.854493Z"
    },
    "papermill": {
     "duration": 0.295733,
     "end_time": "2022-04-11T07:21:10.181742",
     "exception": false,
     "start_time": "2022-04-11T07:21:09.886009",
     "status": "completed"
    },
    "tags": []
   },
   "outputs": [
    {
     "name": "stdout",
     "output_type": "stream",
     "text": [
      "   duration protocol_type service flag  src_bytes  dst_bytes  land  \\\n",
      "0         0           tcp    http   SF        181       5450     0   \n",
      "1         0           tcp    http   SF        239        486     0   \n",
      "2         0           tcp    http   SF        235       1337     0   \n",
      "3         0           tcp    http   SF        219       1337     0   \n",
      "4         0           tcp    http   SF        217       2032     0   \n",
      "\n",
      "   wrong_fragment  urgent  hot  ...  dst_host_srv_count  \\\n",
      "0               0       0    0  ...                   9   \n",
      "1               0       0    0  ...                  19   \n",
      "2               0       0    0  ...                  29   \n",
      "3               0       0    0  ...                  39   \n",
      "4               0       0    0  ...                  49   \n",
      "\n",
      "   dst_host_same_srv_rate  dst_host_diff_srv_rate  \\\n",
      "0                     1.0                     0.0   \n",
      "1                     1.0                     0.0   \n",
      "2                     1.0                     0.0   \n",
      "3                     1.0                     0.0   \n",
      "4                     1.0                     0.0   \n",
      "\n",
      "   dst_host_same_src_port_rate  dst_host_srv_diff_host_rate  \\\n",
      "0                         0.11                          0.0   \n",
      "1                         0.05                          0.0   \n",
      "2                         0.03                          0.0   \n",
      "3                         0.03                          0.0   \n",
      "4                         0.02                          0.0   \n",
      "\n",
      "   dst_host_serror_rate  dst_host_srv_serror_rate  dst_host_rerror_rate  \\\n",
      "0                   0.0                       0.0                   0.0   \n",
      "1                   0.0                       0.0                   0.0   \n",
      "2                   0.0                       0.0                   0.0   \n",
      "3                   0.0                       0.0                   0.0   \n",
      "4                   0.0                       0.0                   0.0   \n",
      "\n",
      "   dst_host_srv_rerror_rate  target  \n",
      "0                       0.0  normal  \n",
      "1                       0.0  normal  \n",
      "2                       0.0  normal  \n",
      "3                       0.0  normal  \n",
      "4                       0.0  normal  \n",
      "\n",
      "[5 rows x 42 columns]\n"
     ]
    }
   ],
   "source": [
    "set.isnull().sum()\n",
    "print(set.head())"
   ]
  },
  {
   "cell_type": "markdown",
   "id": "35612207",
   "metadata": {
    "papermill": {
     "duration": 0.078148,
     "end_time": "2022-04-11T07:21:10.338830",
     "exception": false,
     "start_time": "2022-04-11T07:21:10.260682",
     "status": "completed"
    },
    "tags": []
   },
   "source": [
    "## Removing the duplicates from the given dataset."
   ]
  },
  {
   "cell_type": "code",
   "execution_count": 13,
   "id": "15a6526a",
   "metadata": {
    "execution": {
     "iopub.execute_input": "2022-04-11T07:21:10.501202Z",
     "iopub.status.busy": "2022-04-11T07:21:10.500410Z",
     "iopub.status.idle": "2022-04-11T07:21:10.885619Z",
     "shell.execute_reply": "2022-04-11T07:21:10.886215Z",
     "shell.execute_reply.started": "2022-04-11T06:23:41.078357Z"
    },
    "papermill": {
     "duration": 0.469261,
     "end_time": "2022-04-11T07:21:10.886414",
     "exception": false,
     "start_time": "2022-04-11T07:21:10.417153",
     "status": "completed"
    },
    "tags": []
   },
   "outputs": [
    {
     "name": "stdout",
     "output_type": "stream",
     "text": [
      "(145585, 42)\n",
      "Index(['duration', 'protocol_type', 'service', 'flag', 'src_bytes',\n",
      "       'dst_bytes', 'land', 'wrong_fragment', 'urgent', 'hot',\n",
      "       'num_failed_logins', 'logged_in', 'num_compromised', 'root_shell',\n",
      "       'su_attempted', 'num_root', 'num_file_creations', 'num_shells',\n",
      "       'num_access_files', 'num_outbound_cmds', 'is_host_login',\n",
      "       'is_guest_login', 'count', 'srv_count', 'serror_rate',\n",
      "       'srv_serror_rate', 'rerror_rate', 'srv_rerror_rate', 'same_srv_rate',\n",
      "       'diff_srv_rate', 'srv_diff_host_rate', 'dst_host_count',\n",
      "       'dst_host_srv_count', 'dst_host_same_srv_rate',\n",
      "       'dst_host_diff_srv_rate', 'dst_host_same_src_port_rate',\n",
      "       'dst_host_srv_diff_host_rate', 'dst_host_serror_rate',\n",
      "       'dst_host_srv_serror_rate', 'dst_host_rerror_rate',\n",
      "       'dst_host_srv_rerror_rate', 'target'],\n",
      "      dtype='object')\n"
     ]
    }
   ],
   "source": [
    "(set.drop_duplicates(inplace=True))\n",
    "print(set.shape)\n",
    "print(set.columns)"
   ]
  },
  {
   "cell_type": "code",
   "execution_count": 14,
   "id": "39caa289",
   "metadata": {
    "execution": {
     "iopub.execute_input": "2022-04-11T07:21:11.048909Z",
     "iopub.status.busy": "2022-04-11T07:21:11.048122Z",
     "iopub.status.idle": "2022-04-11T07:21:11.123181Z",
     "shell.execute_reply": "2022-04-11T07:21:11.123807Z",
     "shell.execute_reply.started": "2022-04-11T06:23:41.598436Z"
    },
    "papermill": {
     "duration": 0.158013,
     "end_time": "2022-04-11T07:21:11.124013",
     "exception": false,
     "start_time": "2022-04-11T07:21:10.966000",
     "status": "completed"
    },
    "tags": []
   },
   "outputs": [
    {
     "name": "stdout",
     "output_type": "stream",
     "text": [
      "<class 'pandas.core.frame.DataFrame'>\n",
      "Int64Index: 145585 entries, 0 to 494020\n",
      "Data columns (total 42 columns):\n",
      " #   Column                       Non-Null Count   Dtype  \n",
      "---  ------                       --------------   -----  \n",
      " 0   duration                     145585 non-null  int64  \n",
      " 1   protocol_type                145585 non-null  object \n",
      " 2   service                      145585 non-null  object \n",
      " 3   flag                         145585 non-null  object \n",
      " 4   src_bytes                    145585 non-null  int64  \n",
      " 5   dst_bytes                    145585 non-null  int64  \n",
      " 6   land                         145585 non-null  int64  \n",
      " 7   wrong_fragment               145585 non-null  int64  \n",
      " 8   urgent                       145585 non-null  int64  \n",
      " 9   hot                          145585 non-null  int64  \n",
      " 10  num_failed_logins            145585 non-null  int64  \n",
      " 11  logged_in                    145585 non-null  int64  \n",
      " 12  num_compromised              145585 non-null  int64  \n",
      " 13  root_shell                   145585 non-null  int64  \n",
      " 14  su_attempted                 145585 non-null  int64  \n",
      " 15  num_root                     145585 non-null  int64  \n",
      " 16  num_file_creations           145585 non-null  int64  \n",
      " 17  num_shells                   145585 non-null  int64  \n",
      " 18  num_access_files             145585 non-null  int64  \n",
      " 19  num_outbound_cmds            145585 non-null  int64  \n",
      " 20  is_host_login                145585 non-null  int64  \n",
      " 21  is_guest_login               145585 non-null  int64  \n",
      " 22  count                        145585 non-null  int64  \n",
      " 23  srv_count                    145585 non-null  int64  \n",
      " 24  serror_rate                  145585 non-null  float64\n",
      " 25  srv_serror_rate              145585 non-null  float64\n",
      " 26  rerror_rate                  145585 non-null  float64\n",
      " 27  srv_rerror_rate              145585 non-null  float64\n",
      " 28  same_srv_rate                145585 non-null  float64\n",
      " 29  diff_srv_rate                145585 non-null  float64\n",
      " 30  srv_diff_host_rate           145585 non-null  float64\n",
      " 31  dst_host_count               145585 non-null  int64  \n",
      " 32  dst_host_srv_count           145585 non-null  int64  \n",
      " 33  dst_host_same_srv_rate       145585 non-null  float64\n",
      " 34  dst_host_diff_srv_rate       145585 non-null  float64\n",
      " 35  dst_host_same_src_port_rate  145585 non-null  float64\n",
      " 36  dst_host_srv_diff_host_rate  145585 non-null  float64\n",
      " 37  dst_host_serror_rate         145585 non-null  float64\n",
      " 38  dst_host_srv_serror_rate     145585 non-null  float64\n",
      " 39  dst_host_rerror_rate         145585 non-null  float64\n",
      " 40  dst_host_srv_rerror_rate     145585 non-null  float64\n",
      " 41  target                       145585 non-null  object \n",
      "dtypes: float64(15), int64(23), object(4)\n",
      "memory usage: 47.8+ MB\n"
     ]
    }
   ],
   "source": [
    "set.info()"
   ]
  },
  {
   "cell_type": "markdown",
   "id": "e4ddf8fa",
   "metadata": {
    "papermill": {
     "duration": 0.080129,
     "end_time": "2022-04-11T07:21:11.288675",
     "exception": false,
     "start_time": "2022-04-11T07:21:11.208546",
     "status": "completed"
    },
    "tags": []
   },
   "source": [
    "## By visualizing this given dataset we came to know that, there's only int and float data types were used."
   ]
  },
  {
   "cell_type": "code",
   "execution_count": 15,
   "id": "30742663",
   "metadata": {
    "execution": {
     "iopub.execute_input": "2022-04-11T07:21:11.466043Z",
     "iopub.status.busy": "2022-04-11T07:21:11.465125Z",
     "iopub.status.idle": "2022-04-11T07:21:11.632692Z",
     "shell.execute_reply": "2022-04-11T07:21:11.633114Z",
     "shell.execute_reply.started": "2022-04-11T06:23:41.689867Z"
    },
    "papermill": {
     "duration": 0.265097,
     "end_time": "2022-04-11T07:21:11.633258",
     "exception": false,
     "start_time": "2022-04-11T07:21:11.368161",
     "status": "completed"
    },
    "tags": []
   },
   "outputs": [
    {
     "data": {
      "text/html": [
       "<div>\n",
       "<style scoped>\n",
       "    .dataframe tbody tr th:only-of-type {\n",
       "        vertical-align: middle;\n",
       "    }\n",
       "\n",
       "    .dataframe tbody tr th {\n",
       "        vertical-align: top;\n",
       "    }\n",
       "\n",
       "    .dataframe thead th {\n",
       "        text-align: right;\n",
       "    }\n",
       "</style>\n",
       "<table border=\"1\" class=\"dataframe\">\n",
       "  <thead>\n",
       "    <tr style=\"text-align: right;\">\n",
       "      <th></th>\n",
       "      <th>duration</th>\n",
       "      <th>src_bytes</th>\n",
       "      <th>dst_bytes</th>\n",
       "      <th>land</th>\n",
       "      <th>wrong_fragment</th>\n",
       "      <th>urgent</th>\n",
       "      <th>hot</th>\n",
       "      <th>num_failed_logins</th>\n",
       "      <th>logged_in</th>\n",
       "      <th>num_compromised</th>\n",
       "      <th>...</th>\n",
       "      <th>dst_host_count</th>\n",
       "      <th>dst_host_srv_count</th>\n",
       "      <th>dst_host_same_srv_rate</th>\n",
       "      <th>dst_host_diff_srv_rate</th>\n",
       "      <th>dst_host_same_src_port_rate</th>\n",
       "      <th>dst_host_srv_diff_host_rate</th>\n",
       "      <th>dst_host_serror_rate</th>\n",
       "      <th>dst_host_srv_serror_rate</th>\n",
       "      <th>dst_host_rerror_rate</th>\n",
       "      <th>dst_host_srv_rerror_rate</th>\n",
       "    </tr>\n",
       "  </thead>\n",
       "  <tbody>\n",
       "    <tr>\n",
       "      <th>count</th>\n",
       "      <td>145585.000000</td>\n",
       "      <td>1.455850e+05</td>\n",
       "      <td>1.455850e+05</td>\n",
       "      <td>145585.000000</td>\n",
       "      <td>145585.000000</td>\n",
       "      <td>145585.000000</td>\n",
       "      <td>145585.000000</td>\n",
       "      <td>145585.000000</td>\n",
       "      <td>145585.000000</td>\n",
       "      <td>145585.000000</td>\n",
       "      <td>...</td>\n",
       "      <td>145585.000000</td>\n",
       "      <td>145585.000000</td>\n",
       "      <td>145585.000000</td>\n",
       "      <td>145585.000000</td>\n",
       "      <td>145585.000000</td>\n",
       "      <td>145585.000000</td>\n",
       "      <td>145585.000000</td>\n",
       "      <td>145585.000000</td>\n",
       "      <td>145585.000000</td>\n",
       "      <td>145585.000000</td>\n",
       "    </tr>\n",
       "    <tr>\n",
       "      <th>mean</th>\n",
       "      <td>132.026088</td>\n",
       "      <td>7.995754e+03</td>\n",
       "      <td>2.859800e+03</td>\n",
       "      <td>0.000137</td>\n",
       "      <td>0.020201</td>\n",
       "      <td>0.000048</td>\n",
       "      <td>0.100175</td>\n",
       "      <td>0.000515</td>\n",
       "      <td>0.491493</td>\n",
       "      <td>0.026177</td>\n",
       "      <td>...</td>\n",
       "      <td>181.469416</td>\n",
       "      <td>129.935563</td>\n",
       "      <td>0.553219</td>\n",
       "      <td>0.061389</td>\n",
       "      <td>0.092819</td>\n",
       "      <td>0.019048</td>\n",
       "      <td>0.291599</td>\n",
       "      <td>0.290980</td>\n",
       "      <td>0.110464</td>\n",
       "      <td>0.107676</td>\n",
       "    </tr>\n",
       "    <tr>\n",
       "      <th>std</th>\n",
       "      <td>1224.161209</td>\n",
       "      <td>1.820390e+06</td>\n",
       "      <td>6.081000e+04</td>\n",
       "      <td>0.011720</td>\n",
       "      <td>0.239369</td>\n",
       "      <td>0.010150</td>\n",
       "      <td>1.426803</td>\n",
       "      <td>0.028586</td>\n",
       "      <td>0.499929</td>\n",
       "      <td>3.311384</td>\n",
       "      <td>...</td>\n",
       "      <td>99.097409</td>\n",
       "      <td>114.714725</td>\n",
       "      <td>0.456236</td>\n",
       "      <td>0.147021</td>\n",
       "      <td>0.241112</td>\n",
       "      <td>0.060410</td>\n",
       "      <td>0.452493</td>\n",
       "      <td>0.453448</td>\n",
       "      <td>0.306098</td>\n",
       "      <td>0.304221</td>\n",
       "    </tr>\n",
       "    <tr>\n",
       "      <th>min</th>\n",
       "      <td>0.000000</td>\n",
       "      <td>0.000000e+00</td>\n",
       "      <td>0.000000e+00</td>\n",
       "      <td>0.000000</td>\n",
       "      <td>0.000000</td>\n",
       "      <td>0.000000</td>\n",
       "      <td>0.000000</td>\n",
       "      <td>0.000000</td>\n",
       "      <td>0.000000</td>\n",
       "      <td>0.000000</td>\n",
       "      <td>...</td>\n",
       "      <td>0.000000</td>\n",
       "      <td>0.000000</td>\n",
       "      <td>0.000000</td>\n",
       "      <td>0.000000</td>\n",
       "      <td>0.000000</td>\n",
       "      <td>0.000000</td>\n",
       "      <td>0.000000</td>\n",
       "      <td>0.000000</td>\n",
       "      <td>0.000000</td>\n",
       "      <td>0.000000</td>\n",
       "    </tr>\n",
       "    <tr>\n",
       "      <th>25%</th>\n",
       "      <td>0.000000</td>\n",
       "      <td>0.000000e+00</td>\n",
       "      <td>0.000000e+00</td>\n",
       "      <td>0.000000</td>\n",
       "      <td>0.000000</td>\n",
       "      <td>0.000000</td>\n",
       "      <td>0.000000</td>\n",
       "      <td>0.000000</td>\n",
       "      <td>0.000000</td>\n",
       "      <td>0.000000</td>\n",
       "      <td>...</td>\n",
       "      <td>78.000000</td>\n",
       "      <td>12.000000</td>\n",
       "      <td>0.050000</td>\n",
       "      <td>0.000000</td>\n",
       "      <td>0.000000</td>\n",
       "      <td>0.000000</td>\n",
       "      <td>0.000000</td>\n",
       "      <td>0.000000</td>\n",
       "      <td>0.000000</td>\n",
       "      <td>0.000000</td>\n",
       "    </tr>\n",
       "    <tr>\n",
       "      <th>50%</th>\n",
       "      <td>0.000000</td>\n",
       "      <td>1.470000e+02</td>\n",
       "      <td>1.050000e+02</td>\n",
       "      <td>0.000000</td>\n",
       "      <td>0.000000</td>\n",
       "      <td>0.000000</td>\n",
       "      <td>0.000000</td>\n",
       "      <td>0.000000</td>\n",
       "      <td>0.000000</td>\n",
       "      <td>0.000000</td>\n",
       "      <td>...</td>\n",
       "      <td>255.000000</td>\n",
       "      <td>117.000000</td>\n",
       "      <td>0.770000</td>\n",
       "      <td>0.020000</td>\n",
       "      <td>0.000000</td>\n",
       "      <td>0.000000</td>\n",
       "      <td>0.000000</td>\n",
       "      <td>0.000000</td>\n",
       "      <td>0.000000</td>\n",
       "      <td>0.000000</td>\n",
       "    </tr>\n",
       "    <tr>\n",
       "      <th>75%</th>\n",
       "      <td>0.000000</td>\n",
       "      <td>2.880000e+02</td>\n",
       "      <td>1.165000e+03</td>\n",
       "      <td>0.000000</td>\n",
       "      <td>0.000000</td>\n",
       "      <td>0.000000</td>\n",
       "      <td>0.000000</td>\n",
       "      <td>0.000000</td>\n",
       "      <td>1.000000</td>\n",
       "      <td>0.000000</td>\n",
       "      <td>...</td>\n",
       "      <td>255.000000</td>\n",
       "      <td>255.000000</td>\n",
       "      <td>1.000000</td>\n",
       "      <td>0.070000</td>\n",
       "      <td>0.030000</td>\n",
       "      <td>0.020000</td>\n",
       "      <td>1.000000</td>\n",
       "      <td>1.000000</td>\n",
       "      <td>0.000000</td>\n",
       "      <td>0.000000</td>\n",
       "    </tr>\n",
       "    <tr>\n",
       "      <th>max</th>\n",
       "      <td>58329.000000</td>\n",
       "      <td>6.933756e+08</td>\n",
       "      <td>5.155468e+06</td>\n",
       "      <td>1.000000</td>\n",
       "      <td>3.000000</td>\n",
       "      <td>3.000000</td>\n",
       "      <td>30.000000</td>\n",
       "      <td>5.000000</td>\n",
       "      <td>1.000000</td>\n",
       "      <td>884.000000</td>\n",
       "      <td>...</td>\n",
       "      <td>255.000000</td>\n",
       "      <td>255.000000</td>\n",
       "      <td>1.000000</td>\n",
       "      <td>1.000000</td>\n",
       "      <td>1.000000</td>\n",
       "      <td>1.000000</td>\n",
       "      <td>1.000000</td>\n",
       "      <td>1.000000</td>\n",
       "      <td>1.000000</td>\n",
       "      <td>1.000000</td>\n",
       "    </tr>\n",
       "  </tbody>\n",
       "</table>\n",
       "<p>8 rows × 38 columns</p>\n",
       "</div>"
      ],
      "text/plain": [
       "            duration     src_bytes     dst_bytes           land  \\\n",
       "count  145585.000000  1.455850e+05  1.455850e+05  145585.000000   \n",
       "mean      132.026088  7.995754e+03  2.859800e+03       0.000137   \n",
       "std      1224.161209  1.820390e+06  6.081000e+04       0.011720   \n",
       "min         0.000000  0.000000e+00  0.000000e+00       0.000000   \n",
       "25%         0.000000  0.000000e+00  0.000000e+00       0.000000   \n",
       "50%         0.000000  1.470000e+02  1.050000e+02       0.000000   \n",
       "75%         0.000000  2.880000e+02  1.165000e+03       0.000000   \n",
       "max     58329.000000  6.933756e+08  5.155468e+06       1.000000   \n",
       "\n",
       "       wrong_fragment         urgent            hot  num_failed_logins  \\\n",
       "count   145585.000000  145585.000000  145585.000000      145585.000000   \n",
       "mean         0.020201       0.000048       0.100175           0.000515   \n",
       "std          0.239369       0.010150       1.426803           0.028586   \n",
       "min          0.000000       0.000000       0.000000           0.000000   \n",
       "25%          0.000000       0.000000       0.000000           0.000000   \n",
       "50%          0.000000       0.000000       0.000000           0.000000   \n",
       "75%          0.000000       0.000000       0.000000           0.000000   \n",
       "max          3.000000       3.000000      30.000000           5.000000   \n",
       "\n",
       "           logged_in  num_compromised  ...  dst_host_count  \\\n",
       "count  145585.000000    145585.000000  ...   145585.000000   \n",
       "mean        0.491493         0.026177  ...      181.469416   \n",
       "std         0.499929         3.311384  ...       99.097409   \n",
       "min         0.000000         0.000000  ...        0.000000   \n",
       "25%         0.000000         0.000000  ...       78.000000   \n",
       "50%         0.000000         0.000000  ...      255.000000   \n",
       "75%         1.000000         0.000000  ...      255.000000   \n",
       "max         1.000000       884.000000  ...      255.000000   \n",
       "\n",
       "       dst_host_srv_count  dst_host_same_srv_rate  dst_host_diff_srv_rate  \\\n",
       "count       145585.000000           145585.000000           145585.000000   \n",
       "mean           129.935563                0.553219                0.061389   \n",
       "std            114.714725                0.456236                0.147021   \n",
       "min              0.000000                0.000000                0.000000   \n",
       "25%             12.000000                0.050000                0.000000   \n",
       "50%            117.000000                0.770000                0.020000   \n",
       "75%            255.000000                1.000000                0.070000   \n",
       "max            255.000000                1.000000                1.000000   \n",
       "\n",
       "       dst_host_same_src_port_rate  dst_host_srv_diff_host_rate  \\\n",
       "count                145585.000000                145585.000000   \n",
       "mean                      0.092819                     0.019048   \n",
       "std                       0.241112                     0.060410   \n",
       "min                       0.000000                     0.000000   \n",
       "25%                       0.000000                     0.000000   \n",
       "50%                       0.000000                     0.000000   \n",
       "75%                       0.030000                     0.020000   \n",
       "max                       1.000000                     1.000000   \n",
       "\n",
       "       dst_host_serror_rate  dst_host_srv_serror_rate  dst_host_rerror_rate  \\\n",
       "count         145585.000000             145585.000000         145585.000000   \n",
       "mean               0.291599                  0.290980              0.110464   \n",
       "std                0.452493                  0.453448              0.306098   \n",
       "min                0.000000                  0.000000              0.000000   \n",
       "25%                0.000000                  0.000000              0.000000   \n",
       "50%                0.000000                  0.000000              0.000000   \n",
       "75%                1.000000                  1.000000              0.000000   \n",
       "max                1.000000                  1.000000              1.000000   \n",
       "\n",
       "       dst_host_srv_rerror_rate  \n",
       "count             145585.000000  \n",
       "mean                   0.107676  \n",
       "std                    0.304221  \n",
       "min                    0.000000  \n",
       "25%                    0.000000  \n",
       "50%                    0.000000  \n",
       "75%                    0.000000  \n",
       "max                    1.000000  \n",
       "\n",
       "[8 rows x 38 columns]"
      ]
     },
     "execution_count": 15,
     "metadata": {},
     "output_type": "execute_result"
    }
   ],
   "source": [
    "set.describe()"
   ]
  },
  {
   "cell_type": "markdown",
   "id": "545d5207",
   "metadata": {
    "papermill": {
     "duration": 0.07955,
     "end_time": "2022-04-11T07:21:11.796084",
     "exception": false,
     "start_time": "2022-04-11T07:21:11.716534",
     "status": "completed"
    },
    "tags": []
   },
   "source": [
    "# Visualizing using graphs."
   ]
  },
  {
   "cell_type": "code",
   "execution_count": 16,
   "id": "509f4621",
   "metadata": {
    "execution": {
     "iopub.execute_input": "2022-04-11T07:21:11.959140Z",
     "iopub.status.busy": "2022-04-11T07:21:11.958533Z",
     "iopub.status.idle": "2022-04-11T07:21:18.469832Z",
     "shell.execute_reply": "2022-04-11T07:21:18.470242Z",
     "shell.execute_reply.started": "2022-04-11T06:23:41.907103Z"
    },
    "papermill": {
     "duration": 6.595042,
     "end_time": "2022-04-11T07:21:18.470389",
     "exception": false,
     "start_time": "2022-04-11T07:21:11.875347",
     "status": "completed"
    },
    "tags": []
   },
   "outputs": [
    {
     "data": {
      "image/png": "[encoded data removed]",
      "text/plain": [
       "<Figure size 1440x1080 with 42 Axes>"
      ]
     },
     "metadata": {
      "needs_background": "light"
     },
     "output_type": "display_data"
    }
   ],
   "source": [
    "set.hist(bins=50, figsize=(20,15))\n",
    "plt.show()"
   ]
  },
  {
   "cell_type": "code",
   "execution_count": 17,
   "id": "46e6c4fd",
   "metadata": {
    "execution": {
     "iopub.execute_input": "2022-04-11T07:21:18.658286Z",
     "iopub.status.busy": "2022-04-11T07:21:18.657489Z",
     "iopub.status.idle": "2022-04-11T07:21:19.957112Z",
     "shell.execute_reply": "2022-04-11T07:21:19.957577Z",
     "shell.execute_reply.started": "2022-04-11T06:23:51.190398Z"
    },
    "papermill": {
     "duration": 1.403987,
     "end_time": "2022-04-11T07:21:19.957774",
     "exception": false,
     "start_time": "2022-04-11T07:21:18.553787",
     "status": "completed"
    },
    "tags": []
   },
   "outputs": [
    {
     "name": "stdout",
     "output_type": "stream",
     "text": [
      "Category vise graphical representation\n"
     ]
    },
    {
     "data": {
      "image/png": "[encoded data removed]",
      "text/plain": [
       "<Figure size 1584x1440 with 4 Axes>"
      ]
     },
     "metadata": {
      "needs_background": "light"
     },
     "output_type": "display_data"
    }
   ],
   "source": [
    "categorical_features = ['flag', 'service', 'target', 'protocol_type']\n",
    "def plot_dist(col, ax):\n",
    "    set[col].value_counts().plot(kind='bar', facecolor='b', ax=ax)\n",
    "    ax.set_xlabel('{}'.format(col), fontsize=18)\n",
    "    ax.set_title(\"{} on KDD Cup\".format(col), fontsize= 18)\n",
    "    plt.xticks(rotation=45)\n",
    "    return ax\n",
    "\n",
    "f, ax = plt.subplots(2,2, figsize = (22,20))\n",
    "f.tight_layout(h_pad=15, w_pad=10, rect=[0, 0.08, 1, 0.93])\n",
    "\n",
    "k = 0\n",
    "for i in range(2):\n",
    "    for j in range(2):\n",
    "        plot_dist(categorical_features[k], ax[i][j])\n",
    "        k += 1\n",
    "\n",
    "        \n",
    "print('Category vise graphical representation')\n",
    "plt.show()"
   ]
  },
  {
   "cell_type": "code",
   "execution_count": 18,
   "id": "a1d83d61",
   "metadata": {
    "execution": {
     "iopub.execute_input": "2022-04-11T07:21:20.160298Z",
     "iopub.status.busy": "2022-04-11T07:21:20.159518Z",
     "iopub.status.idle": "2022-04-11T07:21:20.180083Z",
     "shell.execute_reply": "2022-04-11T07:21:20.180678Z",
     "shell.execute_reply.started": "2022-04-11T06:23:52.956928Z"
    },
    "papermill": {
     "duration": 0.138324,
     "end_time": "2022-04-11T07:21:20.180854",
     "exception": false,
     "start_time": "2022-04-11T07:21:20.042530",
     "status": "completed"
    },
    "tags": []
   },
   "outputs": [
    {
     "name": "stdout",
     "output_type": "stream",
     "text": [
      "count     145585\n",
      "unique         5\n",
      "top       normal\n",
      "freq       87832\n",
      "Name: target, dtype: object\n",
      "normal    87832\n",
      "dos       54572\n",
      "probe      2130\n",
      "r2l         999\n",
      "u2r          52\n",
      "Name: target, dtype: int64\n"
     ]
    }
   ],
   "source": [
    "print(set['target'].describe())\n",
    "print(set['target'].value_counts())"
   ]
  },
  {
   "cell_type": "markdown",
   "id": "d13b9c13",
   "metadata": {
    "papermill": {
     "duration": 0.086739,
     "end_time": "2022-04-11T07:21:20.354521",
     "exception": false,
     "start_time": "2022-04-11T07:21:20.267782",
     "status": "completed"
    },
    "tags": []
   },
   "source": [
    "## Creating a combined dataset for operations."
   ]
  },
  {
   "cell_type": "code",
   "execution_count": 19,
   "id": "42c9f504",
   "metadata": {
    "execution": {
     "iopub.execute_input": "2022-04-11T07:21:20.542977Z",
     "iopub.status.busy": "2022-04-11T07:21:20.542165Z",
     "iopub.status.idle": "2022-04-11T07:21:20.758494Z",
     "shell.execute_reply": "2022-04-11T07:21:20.759239Z",
     "shell.execute_reply.started": "2022-04-11T06:23:53.014187Z"
    },
    "papermill": {
     "duration": 0.319742,
     "end_time": "2022-04-11T07:21:20.759386",
     "exception": false,
     "start_time": "2022-04-11T07:21:20.439644",
     "status": "completed"
    },
    "tags": []
   },
   "outputs": [
    {
     "data": {
      "text/plain": [
       "<AxesSubplot:>"
      ]
     },
     "execution_count": 19,
     "metadata": {},
     "output_type": "execute_result"
    },
    {
     "data": {
      "image/png": "[encoded data removed]",
      "text/plain": [
       "<Figure size 432x288 with 1 Axes>"
      ]
     },
     "metadata": {
      "needs_background": "light"
     },
     "output_type": "display_data"
    }
   ],
   "source": [
    "set['target'].hist()"
   ]
  },
  {
   "cell_type": "markdown",
   "id": "89dc686a",
   "metadata": {
    "papermill": {
     "duration": 0.091348,
     "end_time": "2022-04-11T07:21:20.938547",
     "exception": false,
     "start_time": "2022-04-11T07:21:20.847199",
     "status": "completed"
    },
    "tags": []
   },
   "source": [
    "# Training a specific model."
   ]
  },
  {
   "cell_type": "code",
   "execution_count": 20,
   "id": "918b817e",
   "metadata": {
    "execution": {
     "iopub.execute_input": "2022-04-11T07:21:21.240406Z",
     "iopub.status.busy": "2022-04-11T07:21:21.239678Z",
     "iopub.status.idle": "2022-04-11T07:21:21.503733Z",
     "shell.execute_reply": "2022-04-11T07:21:21.503224Z",
     "shell.execute_reply.started": "2022-04-11T06:23:53.275920Z"
    },
    "papermill": {
     "duration": 0.478603,
     "end_time": "2022-04-11T07:21:21.503873",
     "exception": false,
     "start_time": "2022-04-11T07:21:21.025270",
     "status": "completed"
    },
    "tags": []
   },
   "outputs": [],
   "source": [
    "train_set,strat_test_set = train_test_split(set,test_size=0.2,random_state=42,stratify=set['target'])\n",
    "strat_train_set,strat_val_set=train_test_split(train_set,test_size=0.2,random_state=42,stratify=train_set['target'])"
   ]
  },
  {
   "cell_type": "code",
   "execution_count": 21,
   "id": "2f24f8bd",
   "metadata": {
    "execution": {
     "iopub.execute_input": "2022-04-11T07:21:21.688800Z",
     "iopub.status.busy": "2022-04-11T07:21:21.688001Z",
     "iopub.status.idle": "2022-04-11T07:21:21.690792Z",
     "shell.execute_reply": "2022-04-11T07:21:21.691185Z",
     "shell.execute_reply.started": "2022-04-11T06:23:53.686446Z"
    },
    "papermill": {
     "duration": 0.099335,
     "end_time": "2022-04-11T07:21:21.691316",
     "exception": false,
     "start_time": "2022-04-11T07:21:21.591981",
     "status": "completed"
    },
    "tags": []
   },
   "outputs": [
    {
     "data": {
      "text/plain": [
       "normal    0.603290\n",
       "dos       0.374867\n",
       "probe     0.014631\n",
       "r2l       0.006869\n",
       "u2r       0.000343\n",
       "Name: target, dtype: float64"
      ]
     },
     "execution_count": 21,
     "metadata": {},
     "output_type": "execute_result"
    }
   ],
   "source": [
    "strat_test_set[\"target\"].value_counts() / len(strat_test_set)"
   ]
  },
  {
   "cell_type": "markdown",
   "id": "79b4431e",
   "metadata": {
    "papermill": {
     "duration": 0.085965,
     "end_time": "2022-04-11T07:21:21.865044",
     "exception": false,
     "start_time": "2022-04-11T07:21:21.779079",
     "status": "completed"
    },
    "tags": []
   },
   "source": [
    "## Discovering the given dataset deeply."
   ]
  },
  {
   "cell_type": "code",
   "execution_count": 22,
   "id": "0a930d4a",
   "metadata": {
    "execution": {
     "iopub.execute_input": "2022-04-11T07:21:22.045004Z",
     "iopub.status.busy": "2022-04-11T07:21:22.043978Z",
     "iopub.status.idle": "2022-04-11T07:21:22.058224Z",
     "shell.execute_reply": "2022-04-11T07:21:22.058723Z",
     "shell.execute_reply.started": "2022-04-11T06:23:53.702311Z"
    },
    "papermill": {
     "duration": 0.106741,
     "end_time": "2022-04-11T07:21:22.058879",
     "exception": false,
     "start_time": "2022-04-11T07:21:21.952138",
     "status": "completed"
    },
    "tags": []
   },
   "outputs": [],
   "source": [
    "set = strat_train_set.copy()"
   ]
  },
  {
   "cell_type": "code",
   "execution_count": 23,
   "id": "122a2808",
   "metadata": {
    "execution": {
     "iopub.execute_input": "2022-04-11T07:21:22.271371Z",
     "iopub.status.busy": "2022-04-11T07:21:22.258306Z",
     "iopub.status.idle": "2022-04-11T07:21:22.643085Z",
     "shell.execute_reply": "2022-04-11T07:21:22.643585Z",
     "shell.execute_reply.started": "2022-04-11T06:23:53.721618Z"
    },
    "papermill": {
     "duration": 0.497153,
     "end_time": "2022-04-11T07:21:22.643745",
     "exception": false,
     "start_time": "2022-04-11T07:21:22.146592",
     "status": "completed"
    },
    "tags": []
   },
   "outputs": [
    {
     "data": {
      "image/png": "[encoded data removed]",
      "text/plain": [
       "<Figure size 432x288 with 1 Axes>"
      ]
     },
     "metadata": {
      "needs_background": "light"
     },
     "output_type": "display_data"
    }
   ],
   "source": [
    "sns.countplot(x = 'protocol_type',hue = \"target\",data = set)\n",
    "plt.show()"
   ]
  },
  {
   "cell_type": "markdown",
   "id": "d91263b0",
   "metadata": {
    "papermill": {
     "duration": 0.087933,
     "end_time": "2022-04-11T07:21:22.819089",
     "exception": false,
     "start_time": "2022-04-11T07:21:22.731156",
     "status": "completed"
    },
    "tags": []
   },
   "source": [
    "### This help us to know that there's various factors on which attacks depends."
   ]
  },
  {
   "cell_type": "code",
   "execution_count": 24,
   "id": "bdde4536",
   "metadata": {
    "execution": {
     "iopub.execute_input": "2022-04-11T07:21:23.001718Z",
     "iopub.status.busy": "2022-04-11T07:21:23.000850Z",
     "iopub.status.idle": "2022-04-11T07:21:23.293865Z",
     "shell.execute_reply": "2022-04-11T07:21:23.294461Z",
     "shell.execute_reply.started": "2022-04-11T06:23:54.203153Z"
    },
    "papermill": {
     "duration": 0.387169,
     "end_time": "2022-04-11T07:21:23.294653",
     "exception": false,
     "start_time": "2022-04-11T07:21:22.907484",
     "status": "completed"
    },
    "tags": []
   },
   "outputs": [
    {
     "name": "stdout",
     "output_type": "stream",
     "text": [
      "Guest Login vs Traffic status\n",
      "Influence of guest login\n"
     ]
    },
    {
     "data": {
      "image/png": "[encoded data removed]",
      "text/plain": [
       "<Figure size 432x288 with 1 Axes>"
      ]
     },
     "metadata": {
      "needs_background": "light"
     },
     "output_type": "display_data"
    }
   ],
   "source": [
    "sns.countplot(x = 'is_guest_login',hue = \"target\",data = set)\n",
    "print(\"Guest Login vs Traffic status\")\n",
    "print('Influence of guest login')\n",
    "plt.show()"
   ]
  },
  {
   "cell_type": "markdown",
   "id": "ea80a2c5",
   "metadata": {
    "papermill": {
     "duration": 0.172659,
     "end_time": "2022-04-11T07:21:23.562858",
     "exception": false,
     "start_time": "2022-04-11T07:21:23.390199",
     "status": "completed"
    },
    "tags": []
   },
   "source": [
    "### By analysing the above two graphs we came to know that, Most of the UDP and tcp protocols denote the normal traffic. It also means that UDP and TCP are more vulnerable in compare with others. If it is not a guest login then more chance the traffic denotes DOS attack."
   ]
  },
  {
   "cell_type": "code",
   "execution_count": 25,
   "id": "452cc152",
   "metadata": {
    "execution": {
     "iopub.execute_input": "2022-04-11T07:21:23.889864Z",
     "iopub.status.busy": "2022-04-11T07:21:23.888953Z",
     "iopub.status.idle": "2022-04-11T07:21:24.444057Z",
     "shell.execute_reply": "2022-04-11T07:21:24.441026Z",
     "shell.execute_reply.started": "2022-04-11T06:23:54.516457Z"
    },
    "papermill": {
     "duration": 0.735665,
     "end_time": "2022-04-11T07:21:24.444259",
     "exception": false,
     "start_time": "2022-04-11T07:21:23.708594",
     "status": "completed"
    },
    "tags": []
   },
   "outputs": [
    {
     "name": "stdout",
     "output_type": "stream",
     "text": [
      "Land status vs Target\n"
     ]
    },
    {
     "data": {
      "image/png": "[encoded data removed]",
      "text/plain": [
       "<Figure size 432x288 with 1 Axes>"
      ]
     },
     "metadata": {
      "needs_background": "light"
     },
     "output_type": "display_data"
    }
   ],
   "source": [
    "sns.countplot(x = 'land',hue = \"target\",data = set)\n",
    "print(\"Land status vs Target\")\n",
    "plt.show()"
   ]
  },
  {
   "cell_type": "markdown",
   "id": "ae9b3b3d",
   "metadata": {
    "papermill": {
     "duration": 0.189552,
     "end_time": "2022-04-11T07:21:24.827733",
     "exception": false,
     "start_time": "2022-04-11T07:21:24.638181",
     "status": "completed"
    },
    "tags": []
   },
   "source": [
    "# Correlations."
   ]
  },
  {
   "cell_type": "code",
   "execution_count": 26,
   "id": "2055f207",
   "metadata": {
    "execution": {
     "iopub.execute_input": "2022-04-11T07:21:25.196800Z",
     "iopub.status.busy": "2022-04-11T07:21:25.191934Z",
     "iopub.status.idle": "2022-04-11T07:21:26.496820Z",
     "shell.execute_reply": "2022-04-11T07:21:26.497262Z",
     "shell.execute_reply.started": "2022-04-11T06:23:54.832155Z"
    },
    "papermill": {
     "duration": 1.487425,
     "end_time": "2022-04-11T07:21:26.497410",
     "exception": false,
     "start_time": "2022-04-11T07:21:25.009985",
     "status": "completed"
    },
    "tags": []
   },
   "outputs": [
    {
     "data": {
      "image/png": "[encoded data removed]",
      "text/plain": [
       "<Figure size 1440x1440 with 2 Axes>"
      ]
     },
     "metadata": {
      "needs_background": "light"
     },
     "output_type": "display_data"
    }
   ],
   "source": [
    "f, ax = plt.subplots(figsize =(20,20)) \n",
    "\n",
    "corr_matrix=set.drop(['num_outbound_cmds','is_host_login'],axis=1).corr()\n",
    "sns.heatmap(corr_matrix,ax = ax,cmap =\"YlGnBu\", linewidths = 0.1)\n",
    "plt.show()"
   ]
  },
  {
   "cell_type": "markdown",
   "id": "1f46a39b",
   "metadata": {
    "papermill": {
     "duration": 0.106916,
     "end_time": "2022-04-11T07:21:26.711429",
     "exception": false,
     "start_time": "2022-04-11T07:21:26.604513",
     "status": "completed"
    },
    "tags": []
   },
   "source": [
    "# Dropping some columns of given dataset."
   ]
  },
  {
   "cell_type": "code",
   "execution_count": 27,
   "id": "989d0779",
   "metadata": {
    "execution": {
     "iopub.execute_input": "2022-04-11T07:21:26.924883Z",
     "iopub.status.busy": "2022-04-11T07:21:26.923769Z",
     "iopub.status.idle": "2022-04-11T07:21:26.931678Z",
     "shell.execute_reply": "2022-04-11T07:21:26.931122Z",
     "shell.execute_reply.started": "2022-04-11T06:23:56.319485Z"
    },
    "papermill": {
     "duration": 0.119395,
     "end_time": "2022-04-11T07:21:26.931799",
     "exception": false,
     "start_time": "2022-04-11T07:21:26.812404",
     "status": "completed"
    },
    "tags": []
   },
   "outputs": [],
   "source": [
    "#This variable is highly correlated with num_compromised and should be ignored for analysis.\n",
    "#(Correlation = 0.9938277978738366)\n",
    "set.drop('num_root',axis = 1,inplace = True)"
   ]
  },
  {
   "cell_type": "code",
   "execution_count": 28,
   "id": "7d2e64fb",
   "metadata": {
    "execution": {
     "iopub.execute_input": "2022-04-11T07:21:27.164005Z",
     "iopub.status.busy": "2022-04-11T07:21:27.162966Z",
     "iopub.status.idle": "2022-04-11T07:21:27.166645Z",
     "shell.execute_reply": "2022-04-11T07:21:27.166122Z",
     "shell.execute_reply.started": "2022-04-11T06:23:56.337722Z"
    },
    "papermill": {
     "duration": 0.129479,
     "end_time": "2022-04-11T07:21:27.166788",
     "exception": false,
     "start_time": "2022-04-11T07:21:27.037309",
     "status": "completed"
    },
    "tags": []
   },
   "outputs": [],
   "source": [
    "#This variable is highly correlated with serror_rate and should be ignored for analysis.\n",
    "#(Correlation = 0.9983615072725952)\n",
    "set.drop('srv_serror_rate',axis = 1,inplace = True)"
   ]
  },
  {
   "cell_type": "code",
   "execution_count": 29,
   "id": "ed643c0e",
   "metadata": {
    "execution": {
     "iopub.execute_input": "2022-04-11T07:21:27.385581Z",
     "iopub.status.busy": "2022-04-11T07:21:27.384755Z",
     "iopub.status.idle": "2022-04-11T07:21:27.391633Z",
     "shell.execute_reply": "2022-04-11T07:21:27.391172Z",
     "shell.execute_reply.started": "2022-04-11T06:23:56.355695Z"
    },
    "papermill": {
     "duration": 0.118743,
     "end_time": "2022-04-11T07:21:27.391750",
     "exception": false,
     "start_time": "2022-04-11T07:21:27.273007",
     "status": "completed"
    },
    "tags": []
   },
   "outputs": [],
   "source": [
    "#This variable is highly correlated with rerror_rate and should be ignored for analysis.\n",
    "#(Correlation = 0.9947309539817937)\n",
    "set.drop('srv_rerror_rate',axis = 1, inplace=True)"
   ]
  },
  {
   "cell_type": "code",
   "execution_count": 30,
   "id": "c09f96c3",
   "metadata": {
    "execution": {
     "iopub.execute_input": "2022-04-11T07:21:27.578948Z",
     "iopub.status.busy": "2022-04-11T07:21:27.578019Z",
     "iopub.status.idle": "2022-04-11T07:21:27.588049Z",
     "shell.execute_reply": "2022-04-11T07:21:27.587598Z",
     "shell.execute_reply.started": "2022-04-11T06:23:56.378912Z"
    },
    "papermill": {
     "duration": 0.105945,
     "end_time": "2022-04-11T07:21:27.588169",
     "exception": false,
     "start_time": "2022-04-11T07:21:27.482224",
     "status": "completed"
    },
    "tags": []
   },
   "outputs": [],
   "source": [
    "#This variable is highly correlated with srv_serror_rate and should be ignored for analysis.\n",
    "#(Correlation = 0.9993041091850098)\n",
    "set.drop('dst_host_srv_serror_rate',axis = 1, inplace=True)"
   ]
  },
  {
   "cell_type": "code",
   "execution_count": 31,
   "id": "d414e72d",
   "metadata": {
    "execution": {
     "iopub.execute_input": "2022-04-11T07:21:27.779132Z",
     "iopub.status.busy": "2022-04-11T07:21:27.778331Z",
     "iopub.status.idle": "2022-04-11T07:21:27.785132Z",
     "shell.execute_reply": "2022-04-11T07:21:27.784733Z",
     "shell.execute_reply.started": "2022-04-11T06:23:56.396271Z"
    },
    "papermill": {
     "duration": 0.105253,
     "end_time": "2022-04-11T07:21:27.785243",
     "exception": false,
     "start_time": "2022-04-11T07:21:27.679990",
     "status": "completed"
    },
    "tags": []
   },
   "outputs": [],
   "source": [
    "#This variable is highly correlated with rerror_rate and should be ignored for analysis.\n",
    "#(Correlation = 0.9869947924956001)\n",
    "set.drop('dst_host_serror_rate',axis = 1, inplace=True)"
   ]
  },
  {
   "cell_type": "code",
   "execution_count": 32,
   "id": "62df8144",
   "metadata": {
    "execution": {
     "iopub.execute_input": "2022-04-11T07:21:27.979488Z",
     "iopub.status.busy": "2022-04-11T07:21:27.978662Z",
     "iopub.status.idle": "2022-04-11T07:21:27.984830Z",
     "shell.execute_reply": "2022-04-11T07:21:27.985223Z",
     "shell.execute_reply.started": "2022-04-11T06:23:56.414177Z"
    },
    "papermill": {
     "duration": 0.105022,
     "end_time": "2022-04-11T07:21:27.985366",
     "exception": false,
     "start_time": "2022-04-11T07:21:27.880344",
     "status": "completed"
    },
    "tags": []
   },
   "outputs": [],
   "source": [
    "#This variable is highly correlated with srv_rerror_rate and should be ignored for analysis.\n",
    "#(Correlation = 0.9821663427308375)\n",
    "set.drop('dst_host_rerror_rate',axis = 1, inplace=True)"
   ]
  },
  {
   "cell_type": "code",
   "execution_count": 33,
   "id": "41290564",
   "metadata": {
    "execution": {
     "iopub.execute_input": "2022-04-11T07:21:28.170307Z",
     "iopub.status.busy": "2022-04-11T07:21:28.169534Z",
     "iopub.status.idle": "2022-04-11T07:21:28.180939Z",
     "shell.execute_reply": "2022-04-11T07:21:28.180510Z",
     "shell.execute_reply.started": "2022-04-11T06:23:56.431892Z"
    },
    "papermill": {
     "duration": 0.105218,
     "end_time": "2022-04-11T07:21:28.181056",
     "exception": false,
     "start_time": "2022-04-11T07:21:28.075838",
     "status": "completed"
    },
    "tags": []
   },
   "outputs": [],
   "source": [
    "#This variable is highly correlated with rerror_rate and should be ignored for analysis.\n",
    "#(Correlation = 0.9851995540751249)\n",
    "set.drop('dst_host_srv_rerror_rate',axis = 1, inplace=True)"
   ]
  },
  {
   "cell_type": "code",
   "execution_count": 34,
   "id": "f516c05b",
   "metadata": {
    "execution": {
     "iopub.execute_input": "2022-04-11T07:21:28.376867Z",
     "iopub.status.busy": "2022-04-11T07:21:28.376132Z",
     "iopub.status.idle": "2022-04-11T07:21:28.378096Z",
     "shell.execute_reply": "2022-04-11T07:21:28.378518Z",
     "shell.execute_reply.started": "2022-04-11T06:23:56.449161Z"
    },
    "papermill": {
     "duration": 0.106481,
     "end_time": "2022-04-11T07:21:28.378652",
     "exception": false,
     "start_time": "2022-04-11T07:21:28.272171",
     "status": "completed"
    },
    "tags": []
   },
   "outputs": [],
   "source": [
    "#This variable is highly correlated with dst_host_srv_count and should be ignored for analysis.\n",
    "#(Correlation = 0.9736854572953938)\n",
    "set.drop('dst_host_same_srv_rate',axis = 1, inplace=True)"
   ]
  },
  {
   "cell_type": "code",
   "execution_count": 35,
   "id": "9b1c4e3e",
   "metadata": {
    "execution": {
     "iopub.execute_input": "2022-04-11T07:21:28.568241Z",
     "iopub.status.busy": "2022-04-11T07:21:28.567398Z",
     "iopub.status.idle": "2022-04-11T07:21:28.573614Z",
     "shell.execute_reply": "2022-04-11T07:21:28.573161Z",
     "shell.execute_reply.started": "2022-04-11T06:23:56.466287Z"
    },
    "papermill": {
     "duration": 0.104312,
     "end_time": "2022-04-11T07:21:28.573730",
     "exception": false,
     "start_time": "2022-04-11T07:21:28.469418",
     "status": "completed"
    },
    "tags": []
   },
   "outputs": [],
   "source": [
    "#This variable has zeroes in all the instances so we are ignored for analyzsis.\n",
    "set.drop(['num_outbound_cmds','is_host_login'],axis=1,inplace=True)"
   ]
  },
  {
   "cell_type": "code",
   "execution_count": 36,
   "id": "3f8b90c0",
   "metadata": {
    "execution": {
     "iopub.execute_input": "2022-04-11T07:21:28.767580Z",
     "iopub.status.busy": "2022-04-11T07:21:28.766733Z",
     "iopub.status.idle": "2022-04-11T07:21:28.887179Z",
     "shell.execute_reply": "2022-04-11T07:21:28.887616Z",
     "shell.execute_reply.started": "2022-04-11T06:23:56.483402Z"
    },
    "papermill": {
     "duration": 0.221093,
     "end_time": "2022-04-11T07:21:28.887774",
     "exception": false,
     "start_time": "2022-04-11T07:21:28.666681",
     "status": "completed"
    },
    "tags": []
   },
   "outputs": [
    {
     "data": {
      "text/html": [
       "<div>\n",
       "<style scoped>\n",
       "    .dataframe tbody tr th:only-of-type {\n",
       "        vertical-align: middle;\n",
       "    }\n",
       "\n",
       "    .dataframe tbody tr th {\n",
       "        vertical-align: top;\n",
       "    }\n",
       "\n",
       "    .dataframe thead th {\n",
       "        text-align: right;\n",
       "    }\n",
       "</style>\n",
       "<table border=\"1\" class=\"dataframe\">\n",
       "  <thead>\n",
       "    <tr style=\"text-align: right;\">\n",
       "      <th></th>\n",
       "      <th>duration</th>\n",
       "      <th>src_bytes</th>\n",
       "      <th>dst_bytes</th>\n",
       "      <th>land</th>\n",
       "      <th>wrong_fragment</th>\n",
       "      <th>urgent</th>\n",
       "      <th>hot</th>\n",
       "      <th>num_failed_logins</th>\n",
       "      <th>logged_in</th>\n",
       "      <th>num_compromised</th>\n",
       "      <th>...</th>\n",
       "      <th>serror_rate</th>\n",
       "      <th>rerror_rate</th>\n",
       "      <th>same_srv_rate</th>\n",
       "      <th>diff_srv_rate</th>\n",
       "      <th>srv_diff_host_rate</th>\n",
       "      <th>dst_host_count</th>\n",
       "      <th>dst_host_srv_count</th>\n",
       "      <th>dst_host_diff_srv_rate</th>\n",
       "      <th>dst_host_same_src_port_rate</th>\n",
       "      <th>dst_host_srv_diff_host_rate</th>\n",
       "    </tr>\n",
       "  </thead>\n",
       "  <tbody>\n",
       "    <tr>\n",
       "      <th>count</th>\n",
       "      <td>93174.000000</td>\n",
       "      <td>9.317400e+04</td>\n",
       "      <td>9.317400e+04</td>\n",
       "      <td>93174.000000</td>\n",
       "      <td>93174.000000</td>\n",
       "      <td>93174.000000</td>\n",
       "      <td>93174.000000</td>\n",
       "      <td>93174.000000</td>\n",
       "      <td>93174.000000</td>\n",
       "      <td>93174.000000</td>\n",
       "      <td>...</td>\n",
       "      <td>93174.000000</td>\n",
       "      <td>93174.000000</td>\n",
       "      <td>93174.000000</td>\n",
       "      <td>93174.000000</td>\n",
       "      <td>93174.000000</td>\n",
       "      <td>93174.000000</td>\n",
       "      <td>93174.000000</td>\n",
       "      <td>93174.000000</td>\n",
       "      <td>93174.000000</td>\n",
       "      <td>93174.000000</td>\n",
       "    </tr>\n",
       "    <tr>\n",
       "      <th>mean</th>\n",
       "      <td>137.375405</td>\n",
       "      <td>1.052716e+04</td>\n",
       "      <td>2.824274e+03</td>\n",
       "      <td>0.000140</td>\n",
       "      <td>0.020972</td>\n",
       "      <td>0.000075</td>\n",
       "      <td>0.101208</td>\n",
       "      <td>0.000537</td>\n",
       "      <td>0.490469</td>\n",
       "      <td>0.032949</td>\n",
       "      <td>...</td>\n",
       "      <td>0.290681</td>\n",
       "      <td>0.108824</td>\n",
       "      <td>0.655169</td>\n",
       "      <td>0.040977</td>\n",
       "      <td>0.093569</td>\n",
       "      <td>181.602250</td>\n",
       "      <td>130.010539</td>\n",
       "      <td>0.061776</td>\n",
       "      <td>0.093390</td>\n",
       "      <td>0.018955</td>\n",
       "    </tr>\n",
       "    <tr>\n",
       "      <th>std</th>\n",
       "      <td>1274.031639</td>\n",
       "      <td>2.273904e+06</td>\n",
       "      <td>5.778030e+04</td>\n",
       "      <td>0.011811</td>\n",
       "      <td>0.244437</td>\n",
       "      <td>0.012688</td>\n",
       "      <td>1.442182</td>\n",
       "      <td>0.027404</td>\n",
       "      <td>0.499912</td>\n",
       "      <td>4.034181</td>\n",
       "      <td>...</td>\n",
       "      <td>0.452587</td>\n",
       "      <td>0.309542</td>\n",
       "      <td>0.446660</td>\n",
       "      <td>0.121630</td>\n",
       "      <td>0.242736</td>\n",
       "      <td>99.042859</td>\n",
       "      <td>114.731749</td>\n",
       "      <td>0.147856</td>\n",
       "      <td>0.242285</td>\n",
       "      <td>0.059887</td>\n",
       "    </tr>\n",
       "    <tr>\n",
       "      <th>min</th>\n",
       "      <td>0.000000</td>\n",
       "      <td>0.000000e+00</td>\n",
       "      <td>0.000000e+00</td>\n",
       "      <td>0.000000</td>\n",
       "      <td>0.000000</td>\n",
       "      <td>0.000000</td>\n",
       "      <td>0.000000</td>\n",
       "      <td>0.000000</td>\n",
       "      <td>0.000000</td>\n",
       "      <td>0.000000</td>\n",
       "      <td>...</td>\n",
       "      <td>0.000000</td>\n",
       "      <td>0.000000</td>\n",
       "      <td>0.000000</td>\n",
       "      <td>0.000000</td>\n",
       "      <td>0.000000</td>\n",
       "      <td>0.000000</td>\n",
       "      <td>0.000000</td>\n",
       "      <td>0.000000</td>\n",
       "      <td>0.000000</td>\n",
       "      <td>0.000000</td>\n",
       "    </tr>\n",
       "    <tr>\n",
       "      <th>25%</th>\n",
       "      <td>0.000000</td>\n",
       "      <td>0.000000e+00</td>\n",
       "      <td>0.000000e+00</td>\n",
       "      <td>0.000000</td>\n",
       "      <td>0.000000</td>\n",
       "      <td>0.000000</td>\n",
       "      <td>0.000000</td>\n",
       "      <td>0.000000</td>\n",
       "      <td>0.000000</td>\n",
       "      <td>0.000000</td>\n",
       "      <td>...</td>\n",
       "      <td>0.000000</td>\n",
       "      <td>0.000000</td>\n",
       "      <td>0.080000</td>\n",
       "      <td>0.000000</td>\n",
       "      <td>0.000000</td>\n",
       "      <td>78.000000</td>\n",
       "      <td>12.000000</td>\n",
       "      <td>0.000000</td>\n",
       "      <td>0.000000</td>\n",
       "      <td>0.000000</td>\n",
       "    </tr>\n",
       "    <tr>\n",
       "      <th>50%</th>\n",
       "      <td>0.000000</td>\n",
       "      <td>1.470000e+02</td>\n",
       "      <td>1.050000e+02</td>\n",
       "      <td>0.000000</td>\n",
       "      <td>0.000000</td>\n",
       "      <td>0.000000</td>\n",
       "      <td>0.000000</td>\n",
       "      <td>0.000000</td>\n",
       "      <td>0.000000</td>\n",
       "      <td>0.000000</td>\n",
       "      <td>...</td>\n",
       "      <td>0.000000</td>\n",
       "      <td>0.000000</td>\n",
       "      <td>1.000000</td>\n",
       "      <td>0.000000</td>\n",
       "      <td>0.000000</td>\n",
       "      <td>255.000000</td>\n",
       "      <td>118.000000</td>\n",
       "      <td>0.020000</td>\n",
       "      <td>0.000000</td>\n",
       "      <td>0.000000</td>\n",
       "    </tr>\n",
       "    <tr>\n",
       "      <th>75%</th>\n",
       "      <td>0.000000</td>\n",
       "      <td>2.870000e+02</td>\n",
       "      <td>1.173000e+03</td>\n",
       "      <td>0.000000</td>\n",
       "      <td>0.000000</td>\n",
       "      <td>0.000000</td>\n",
       "      <td>0.000000</td>\n",
       "      <td>0.000000</td>\n",
       "      <td>1.000000</td>\n",
       "      <td>0.000000</td>\n",
       "      <td>...</td>\n",
       "      <td>1.000000</td>\n",
       "      <td>0.000000</td>\n",
       "      <td>1.000000</td>\n",
       "      <td>0.060000</td>\n",
       "      <td>0.000000</td>\n",
       "      <td>255.000000</td>\n",
       "      <td>255.000000</td>\n",
       "      <td>0.070000</td>\n",
       "      <td>0.030000</td>\n",
       "      <td>0.020000</td>\n",
       "    </tr>\n",
       "    <tr>\n",
       "      <th>max</th>\n",
       "      <td>58329.000000</td>\n",
       "      <td>6.933756e+08</td>\n",
       "      <td>5.155468e+06</td>\n",
       "      <td>1.000000</td>\n",
       "      <td>3.000000</td>\n",
       "      <td>3.000000</td>\n",
       "      <td>30.000000</td>\n",
       "      <td>4.000000</td>\n",
       "      <td>1.000000</td>\n",
       "      <td>884.000000</td>\n",
       "      <td>...</td>\n",
       "      <td>1.000000</td>\n",
       "      <td>1.000000</td>\n",
       "      <td>1.000000</td>\n",
       "      <td>1.000000</td>\n",
       "      <td>1.000000</td>\n",
       "      <td>255.000000</td>\n",
       "      <td>255.000000</td>\n",
       "      <td>1.000000</td>\n",
       "      <td>1.000000</td>\n",
       "      <td>1.000000</td>\n",
       "    </tr>\n",
       "  </tbody>\n",
       "</table>\n",
       "<p>8 rows × 28 columns</p>\n",
       "</div>"
      ],
      "text/plain": [
       "           duration     src_bytes     dst_bytes          land  wrong_fragment  \\\n",
       "count  93174.000000  9.317400e+04  9.317400e+04  93174.000000    93174.000000   \n",
       "mean     137.375405  1.052716e+04  2.824274e+03      0.000140        0.020972   \n",
       "std     1274.031639  2.273904e+06  5.778030e+04      0.011811        0.244437   \n",
       "min        0.000000  0.000000e+00  0.000000e+00      0.000000        0.000000   \n",
       "25%        0.000000  0.000000e+00  0.000000e+00      0.000000        0.000000   \n",
       "50%        0.000000  1.470000e+02  1.050000e+02      0.000000        0.000000   \n",
       "75%        0.000000  2.870000e+02  1.173000e+03      0.000000        0.000000   \n",
       "max    58329.000000  6.933756e+08  5.155468e+06      1.000000        3.000000   \n",
       "\n",
       "             urgent           hot  num_failed_logins     logged_in  \\\n",
       "count  93174.000000  93174.000000       93174.000000  93174.000000   \n",
       "mean       0.000075      0.101208           0.000537      0.490469   \n",
       "std        0.012688      1.442182           0.027404      0.499912   \n",
       "min        0.000000      0.000000           0.000000      0.000000   \n",
       "25%        0.000000      0.000000           0.000000      0.000000   \n",
       "50%        0.000000      0.000000           0.000000      0.000000   \n",
       "75%        0.000000      0.000000           0.000000      1.000000   \n",
       "max        3.000000     30.000000           4.000000      1.000000   \n",
       "\n",
       "       num_compromised  ...   serror_rate   rerror_rate  same_srv_rate  \\\n",
       "count     93174.000000  ...  93174.000000  93174.000000   93174.000000   \n",
       "mean          0.032949  ...      0.290681      0.108824       0.655169   \n",
       "std           4.034181  ...      0.452587      0.309542       0.446660   \n",
       "min           0.000000  ...      0.000000      0.000000       0.000000   \n",
       "25%           0.000000  ...      0.000000      0.000000       0.080000   \n",
       "50%           0.000000  ...      0.000000      0.000000       1.000000   \n",
       "75%           0.000000  ...      1.000000      0.000000       1.000000   \n",
       "max         884.000000  ...      1.000000      1.000000       1.000000   \n",
       "\n",
       "       diff_srv_rate  srv_diff_host_rate  dst_host_count  dst_host_srv_count  \\\n",
       "count   93174.000000        93174.000000    93174.000000        93174.000000   \n",
       "mean        0.040977            0.093569      181.602250          130.010539   \n",
       "std         0.121630            0.242736       99.042859          114.731749   \n",
       "min         0.000000            0.000000        0.000000            0.000000   \n",
       "25%         0.000000            0.000000       78.000000           12.000000   \n",
       "50%         0.000000            0.000000      255.000000          118.000000   \n",
       "75%         0.060000            0.000000      255.000000          255.000000   \n",
       "max         1.000000            1.000000      255.000000          255.000000   \n",
       "\n",
       "       dst_host_diff_srv_rate  dst_host_same_src_port_rate  \\\n",
       "count            93174.000000                 93174.000000   \n",
       "mean                 0.061776                     0.093390   \n",
       "std                  0.147856                     0.242285   \n",
       "min                  0.000000                     0.000000   \n",
       "25%                  0.000000                     0.000000   \n",
       "50%                  0.020000                     0.000000   \n",
       "75%                  0.070000                     0.030000   \n",
       "max                  1.000000                     1.000000   \n",
       "\n",
       "       dst_host_srv_diff_host_rate  \n",
       "count                 93174.000000  \n",
       "mean                      0.018955  \n",
       "std                       0.059887  \n",
       "min                       0.000000  \n",
       "25%                       0.000000  \n",
       "50%                       0.000000  \n",
       "75%                       0.020000  \n",
       "max                       1.000000  \n",
       "\n",
       "[8 rows x 28 columns]"
      ]
     },
     "execution_count": 36,
     "metadata": {},
     "output_type": "execute_result"
    }
   ],
   "source": [
    "set.describe()"
   ]
  },
  {
   "cell_type": "code",
   "execution_count": 37,
   "id": "3d822276",
   "metadata": {
    "execution": {
     "iopub.execute_input": "2022-04-11T07:21:29.078768Z",
     "iopub.status.busy": "2022-04-11T07:21:29.077973Z",
     "iopub.status.idle": "2022-04-11T07:21:29.096265Z",
     "shell.execute_reply": "2022-04-11T07:21:29.095846Z",
     "shell.execute_reply.started": "2022-04-11T06:23:56.637801Z"
    },
    "papermill": {
     "duration": 0.114988,
     "end_time": "2022-04-11T07:21:29.096369",
     "exception": false,
     "start_time": "2022-04-11T07:21:28.981381",
     "status": "completed"
    },
    "tags": []
   },
   "outputs": [
    {
     "data": {
      "text/html": [
       "<div>\n",
       "<style scoped>\n",
       "    .dataframe tbody tr th:only-of-type {\n",
       "        vertical-align: middle;\n",
       "    }\n",
       "\n",
       "    .dataframe tbody tr th {\n",
       "        vertical-align: top;\n",
       "    }\n",
       "\n",
       "    .dataframe thead th {\n",
       "        text-align: right;\n",
       "    }\n",
       "</style>\n",
       "<table border=\"1\" class=\"dataframe\">\n",
       "  <thead>\n",
       "    <tr style=\"text-align: right;\">\n",
       "      <th></th>\n",
       "      <th>duration</th>\n",
       "      <th>protocol_type</th>\n",
       "      <th>service</th>\n",
       "      <th>flag</th>\n",
       "      <th>src_bytes</th>\n",
       "      <th>dst_bytes</th>\n",
       "      <th>land</th>\n",
       "      <th>wrong_fragment</th>\n",
       "      <th>urgent</th>\n",
       "      <th>hot</th>\n",
       "      <th>...</th>\n",
       "      <th>rerror_rate</th>\n",
       "      <th>same_srv_rate</th>\n",
       "      <th>diff_srv_rate</th>\n",
       "      <th>srv_diff_host_rate</th>\n",
       "      <th>dst_host_count</th>\n",
       "      <th>dst_host_srv_count</th>\n",
       "      <th>dst_host_diff_srv_rate</th>\n",
       "      <th>dst_host_same_src_port_rate</th>\n",
       "      <th>dst_host_srv_diff_host_rate</th>\n",
       "      <th>target</th>\n",
       "    </tr>\n",
       "  </thead>\n",
       "  <tbody>\n",
       "    <tr>\n",
       "      <th>90308</th>\n",
       "      <td>0</td>\n",
       "      <td>tcp</td>\n",
       "      <td>http</td>\n",
       "      <td>SF</td>\n",
       "      <td>183</td>\n",
       "      <td>2333</td>\n",
       "      <td>0</td>\n",
       "      <td>0</td>\n",
       "      <td>0</td>\n",
       "      <td>0</td>\n",
       "      <td>...</td>\n",
       "      <td>0.0</td>\n",
       "      <td>1.00</td>\n",
       "      <td>0.00</td>\n",
       "      <td>0.0</td>\n",
       "      <td>5</td>\n",
       "      <td>255</td>\n",
       "      <td>0.00</td>\n",
       "      <td>0.20</td>\n",
       "      <td>0.02</td>\n",
       "      <td>normal</td>\n",
       "    </tr>\n",
       "    <tr>\n",
       "      <th>378975</th>\n",
       "      <td>0</td>\n",
       "      <td>tcp</td>\n",
       "      <td>private</td>\n",
       "      <td>S0</td>\n",
       "      <td>0</td>\n",
       "      <td>0</td>\n",
       "      <td>0</td>\n",
       "      <td>0</td>\n",
       "      <td>0</td>\n",
       "      <td>0</td>\n",
       "      <td>...</td>\n",
       "      <td>0.0</td>\n",
       "      <td>0.06</td>\n",
       "      <td>0.05</td>\n",
       "      <td>0.0</td>\n",
       "      <td>255</td>\n",
       "      <td>8</td>\n",
       "      <td>0.05</td>\n",
       "      <td>0.00</td>\n",
       "      <td>0.00</td>\n",
       "      <td>dos</td>\n",
       "    </tr>\n",
       "    <tr>\n",
       "      <th>80287</th>\n",
       "      <td>0</td>\n",
       "      <td>tcp</td>\n",
       "      <td>http</td>\n",
       "      <td>SF</td>\n",
       "      <td>359</td>\n",
       "      <td>700</td>\n",
       "      <td>0</td>\n",
       "      <td>0</td>\n",
       "      <td>0</td>\n",
       "      <td>0</td>\n",
       "      <td>...</td>\n",
       "      <td>0.0</td>\n",
       "      <td>1.00</td>\n",
       "      <td>0.00</td>\n",
       "      <td>0.0</td>\n",
       "      <td>255</td>\n",
       "      <td>255</td>\n",
       "      <td>0.00</td>\n",
       "      <td>0.00</td>\n",
       "      <td>0.00</td>\n",
       "      <td>normal</td>\n",
       "    </tr>\n",
       "    <tr>\n",
       "      <th>481062</th>\n",
       "      <td>0</td>\n",
       "      <td>icmp</td>\n",
       "      <td>urp_i</td>\n",
       "      <td>SF</td>\n",
       "      <td>183</td>\n",
       "      <td>0</td>\n",
       "      <td>0</td>\n",
       "      <td>0</td>\n",
       "      <td>0</td>\n",
       "      <td>0</td>\n",
       "      <td>...</td>\n",
       "      <td>0.0</td>\n",
       "      <td>0.88</td>\n",
       "      <td>0.25</td>\n",
       "      <td>0.0</td>\n",
       "      <td>255</td>\n",
       "      <td>23</td>\n",
       "      <td>0.01</td>\n",
       "      <td>0.11</td>\n",
       "      <td>0.00</td>\n",
       "      <td>normal</td>\n",
       "    </tr>\n",
       "    <tr>\n",
       "      <th>349283</th>\n",
       "      <td>0</td>\n",
       "      <td>tcp</td>\n",
       "      <td>http</td>\n",
       "      <td>REJ</td>\n",
       "      <td>0</td>\n",
       "      <td>0</td>\n",
       "      <td>0</td>\n",
       "      <td>0</td>\n",
       "      <td>0</td>\n",
       "      <td>0</td>\n",
       "      <td>...</td>\n",
       "      <td>1.0</td>\n",
       "      <td>1.00</td>\n",
       "      <td>0.00</td>\n",
       "      <td>0.0</td>\n",
       "      <td>2</td>\n",
       "      <td>37</td>\n",
       "      <td>0.00</td>\n",
       "      <td>0.50</td>\n",
       "      <td>0.38</td>\n",
       "      <td>normal</td>\n",
       "    </tr>\n",
       "  </tbody>\n",
       "</table>\n",
       "<p>5 rows × 32 columns</p>\n",
       "</div>"
      ],
      "text/plain": [
       "        duration protocol_type  service flag  src_bytes  dst_bytes  land  \\\n",
       "90308          0           tcp     http   SF        183       2333     0   \n",
       "378975         0           tcp  private   S0          0          0     0   \n",
       "80287          0           tcp     http   SF        359        700     0   \n",
       "481062         0          icmp    urp_i   SF        183          0     0   \n",
       "349283         0           tcp     http  REJ          0          0     0   \n",
       "\n",
       "        wrong_fragment  urgent  hot  ...  rerror_rate  same_srv_rate  \\\n",
       "90308                0       0    0  ...          0.0           1.00   \n",
       "378975               0       0    0  ...          0.0           0.06   \n",
       "80287                0       0    0  ...          0.0           1.00   \n",
       "481062               0       0    0  ...          0.0           0.88   \n",
       "349283               0       0    0  ...          1.0           1.00   \n",
       "\n",
       "        diff_srv_rate  srv_diff_host_rate  dst_host_count  dst_host_srv_count  \\\n",
       "90308            0.00                 0.0               5                 255   \n",
       "378975           0.05                 0.0             255                   8   \n",
       "80287            0.00                 0.0             255                 255   \n",
       "481062           0.25                 0.0             255                  23   \n",
       "349283           0.00                 0.0               2                  37   \n",
       "\n",
       "        dst_host_diff_srv_rate  dst_host_same_src_port_rate  \\\n",
       "90308                     0.00                         0.20   \n",
       "378975                    0.05                         0.00   \n",
       "80287                     0.00                         0.00   \n",
       "481062                    0.01                         0.11   \n",
       "349283                    0.00                         0.50   \n",
       "\n",
       "        dst_host_srv_diff_host_rate  target  \n",
       "90308                          0.02  normal  \n",
       "378975                         0.00     dos  \n",
       "80287                          0.00  normal  \n",
       "481062                         0.00  normal  \n",
       "349283                         0.38  normal  \n",
       "\n",
       "[5 rows x 32 columns]"
      ]
     },
     "execution_count": 37,
     "metadata": {},
     "output_type": "execute_result"
    }
   ],
   "source": [
    "set.head()"
   ]
  },
  {
   "cell_type": "markdown",
   "id": "287ac344",
   "metadata": {
    "papermill": {
     "duration": 0.093099,
     "end_time": "2022-04-11T07:21:29.282555",
     "exception": false,
     "start_time": "2022-04-11T07:21:29.189456",
     "status": "completed"
    },
    "tags": []
   },
   "source": [
    "## Finally we got 8 rows and 33 columns, so that we can do complex eqations quickly."
   ]
  },
  {
   "cell_type": "markdown",
   "id": "a95d8225",
   "metadata": {
    "papermill": {
     "duration": 0.113255,
     "end_time": "2022-04-11T07:21:29.494284",
     "exception": false,
     "start_time": "2022-04-11T07:21:29.381029",
     "status": "completed"
    },
    "tags": []
   },
   "source": [
    "# Preparing data for ML algorithm."
   ]
  },
  {
   "cell_type": "code",
   "execution_count": 38,
   "id": "cb773728",
   "metadata": {
    "execution": {
     "iopub.execute_input": "2022-04-11T07:21:29.697714Z",
     "iopub.status.busy": "2022-04-11T07:21:29.696869Z",
     "iopub.status.idle": "2022-04-11T07:21:29.703119Z",
     "shell.execute_reply": "2022-04-11T07:21:29.702681Z",
     "shell.execute_reply.started": "2022-04-11T06:23:56.669858Z"
    },
    "papermill": {
     "duration": 0.110521,
     "end_time": "2022-04-11T07:21:29.703230",
     "exception": false,
     "start_time": "2022-04-11T07:21:29.592709",
     "status": "completed"
    },
    "tags": []
   },
   "outputs": [],
   "source": [
    "set=strat_train_set.drop(['target','num_root','srv_serror_rate','srv_rerror_rate','dst_host_srv_serror_rate','dst_host_srv_rerror_rate',\n",
    "                          'dst_host_serror_rate','dst_host_rerror_rate','dst_host_same_srv_rate','num_outbound_cmds','is_host_login'],axis=1)\n",
    "set_labels=strat_train_set['target'].copy()"
   ]
  },
  {
   "cell_type": "code",
   "execution_count": 39,
   "id": "16963daa",
   "metadata": {
    "execution": {
     "iopub.execute_input": "2022-04-11T07:21:29.900734Z",
     "iopub.status.busy": "2022-04-11T07:21:29.899964Z",
     "iopub.status.idle": "2022-04-11T07:21:29.921577Z",
     "shell.execute_reply": "2022-04-11T07:21:29.921952Z",
     "shell.execute_reply.started": "2022-04-11T06:23:56.690676Z"
    },
    "papermill": {
     "duration": 0.124404,
     "end_time": "2022-04-11T07:21:29.922091",
     "exception": false,
     "start_time": "2022-04-11T07:21:29.797687",
     "status": "completed"
    },
    "tags": []
   },
   "outputs": [],
   "source": [
    "from sklearn.preprocessing import LabelEncoder\n",
    "\n",
    "target_encoder=LabelEncoder()\n",
    "target_encoder.fit(set_labels)\n",
    "set_labels=target_encoder.transform(set_labels)"
   ]
  },
  {
   "cell_type": "code",
   "execution_count": 40,
   "id": "f4967401",
   "metadata": {
    "execution": {
     "iopub.execute_input": "2022-04-11T07:21:30.111244Z",
     "iopub.status.busy": "2022-04-11T07:21:30.110740Z",
     "iopub.status.idle": "2022-04-11T07:21:30.121129Z",
     "shell.execute_reply": "2022-04-11T07:21:30.120421Z",
     "shell.execute_reply.started": "2022-04-11T06:23:56.722281Z"
    },
    "papermill": {
     "duration": 0.10718,
     "end_time": "2022-04-11T07:21:30.121241",
     "exception": false,
     "start_time": "2022-04-11T07:21:30.014061",
     "status": "completed"
    },
    "tags": []
   },
   "outputs": [
    {
     "data": {
      "text/html": [
       "<div>\n",
       "<style scoped>\n",
       "    .dataframe tbody tr th:only-of-type {\n",
       "        vertical-align: middle;\n",
       "    }\n",
       "\n",
       "    .dataframe tbody tr th {\n",
       "        vertical-align: top;\n",
       "    }\n",
       "\n",
       "    .dataframe thead th {\n",
       "        text-align: right;\n",
       "    }\n",
       "</style>\n",
       "<table border=\"1\" class=\"dataframe\">\n",
       "  <thead>\n",
       "    <tr style=\"text-align: right;\">\n",
       "      <th></th>\n",
       "      <th>flag</th>\n",
       "      <th>service</th>\n",
       "      <th>protocol_type</th>\n",
       "    </tr>\n",
       "  </thead>\n",
       "  <tbody>\n",
       "    <tr>\n",
       "      <th>90308</th>\n",
       "      <td>SF</td>\n",
       "      <td>http</td>\n",
       "      <td>tcp</td>\n",
       "    </tr>\n",
       "    <tr>\n",
       "      <th>378975</th>\n",
       "      <td>S0</td>\n",
       "      <td>private</td>\n",
       "      <td>tcp</td>\n",
       "    </tr>\n",
       "    <tr>\n",
       "      <th>80287</th>\n",
       "      <td>SF</td>\n",
       "      <td>http</td>\n",
       "      <td>tcp</td>\n",
       "    </tr>\n",
       "    <tr>\n",
       "      <th>481062</th>\n",
       "      <td>SF</td>\n",
       "      <td>urp_i</td>\n",
       "      <td>icmp</td>\n",
       "    </tr>\n",
       "    <tr>\n",
       "      <th>349283</th>\n",
       "      <td>REJ</td>\n",
       "      <td>http</td>\n",
       "      <td>tcp</td>\n",
       "    </tr>\n",
       "    <tr>\n",
       "      <th>357370</th>\n",
       "      <td>S0</td>\n",
       "      <td>private</td>\n",
       "      <td>tcp</td>\n",
       "    </tr>\n",
       "    <tr>\n",
       "      <th>23902</th>\n",
       "      <td>SF</td>\n",
       "      <td>http</td>\n",
       "      <td>tcp</td>\n",
       "    </tr>\n",
       "    <tr>\n",
       "      <th>78495</th>\n",
       "      <td>SF</td>\n",
       "      <td>http</td>\n",
       "      <td>tcp</td>\n",
       "    </tr>\n",
       "    <tr>\n",
       "      <th>460364</th>\n",
       "      <td>REJ</td>\n",
       "      <td>ssh</td>\n",
       "      <td>tcp</td>\n",
       "    </tr>\n",
       "    <tr>\n",
       "      <th>383565</th>\n",
       "      <td>S0</td>\n",
       "      <td>private</td>\n",
       "      <td>tcp</td>\n",
       "    </tr>\n",
       "  </tbody>\n",
       "</table>\n",
       "</div>"
      ],
      "text/plain": [
       "       flag  service protocol_type\n",
       "90308    SF     http           tcp\n",
       "378975   S0  private           tcp\n",
       "80287    SF     http           tcp\n",
       "481062   SF    urp_i          icmp\n",
       "349283  REJ     http           tcp\n",
       "357370   S0  private           tcp\n",
       "23902    SF     http           tcp\n",
       "78495    SF     http           tcp\n",
       "460364  REJ      ssh           tcp\n",
       "383565   S0  private           tcp"
      ]
     },
     "execution_count": 40,
     "metadata": {},
     "output_type": "execute_result"
    }
   ],
   "source": [
    "set_cat=set[['flag', 'service', 'protocol_type']]\n",
    "set_cat.head(10)"
   ]
  },
  {
   "cell_type": "code",
   "execution_count": 41,
   "id": "decedcf7",
   "metadata": {
    "execution": {
     "iopub.execute_input": "2022-04-11T07:21:30.325160Z",
     "iopub.status.busy": "2022-04-11T07:21:30.320271Z",
     "iopub.status.idle": "2022-04-11T07:21:30.407653Z",
     "shell.execute_reply": "2022-04-11T07:21:30.408078Z",
     "shell.execute_reply.started": "2022-04-11T06:23:56.745702Z"
    },
    "papermill": {
     "duration": 0.194426,
     "end_time": "2022-04-11T07:21:30.408214",
     "exception": false,
     "start_time": "2022-04-11T07:21:30.213788",
     "status": "completed"
    },
    "tags": []
   },
   "outputs": [
    {
     "data": {
      "text/plain": [
       "<93174x79 sparse matrix of type '<class 'numpy.float64'>'\n",
       "\twith 279522 stored elements in Compressed Sparse Row format>"
      ]
     },
     "execution_count": 41,
     "metadata": {},
     "output_type": "execute_result"
    }
   ],
   "source": [
    "cat_encoder = OneHotEncoder()\n",
    "set_cat_1hot = cat_encoder.fit_transform(set_cat)\n",
    "set_cat_1hot"
   ]
  },
  {
   "cell_type": "code",
   "execution_count": 42,
   "id": "853b09b6",
   "metadata": {
    "execution": {
     "iopub.execute_input": "2022-04-11T07:21:30.600131Z",
     "iopub.status.busy": "2022-04-11T07:21:30.599634Z",
     "iopub.status.idle": "2022-04-11T07:21:30.673501Z",
     "shell.execute_reply": "2022-04-11T07:21:30.672876Z",
     "shell.execute_reply.started": "2022-04-11T06:23:56.857358Z"
    },
    "papermill": {
     "duration": 0.172107,
     "end_time": "2022-04-11T07:21:30.673660",
     "exception": false,
     "start_time": "2022-04-11T07:21:30.501553",
     "status": "completed"
    },
    "tags": []
   },
   "outputs": [
    {
     "name": "stdout",
     "output_type": "stream",
     "text": [
      "[[0. 0. 0. ... 0. 1. 0.]\n",
      " [0. 0. 0. ... 0. 1. 0.]\n",
      " [0. 0. 0. ... 0. 1. 0.]\n",
      " ...\n",
      " [0. 0. 0. ... 0. 1. 0.]\n",
      " [0. 0. 0. ... 0. 1. 0.]\n",
      " [0. 0. 0. ... 0. 1. 0.]]\n",
      "(93174, 79)\n"
     ]
    },
    {
     "data": {
      "text/plain": [
       "[array(['OTH', 'REJ', 'RSTO', 'RSTOS0', 'RSTR', 'S0', 'S1', 'S2', 'S3',\n",
       "        'SF', 'SH'], dtype=object),\n",
       " array(['IRC', 'X11', 'Z39_50', 'auth', 'bgp', 'courier', 'csnet_ns',\n",
       "        'ctf', 'daytime', 'discard', 'domain', 'domain_u', 'echo', 'eco_i',\n",
       "        'ecr_i', 'efs', 'exec', 'finger', 'ftp', 'ftp_data', 'gopher',\n",
       "        'hostnames', 'http', 'http_443', 'imap4', 'iso_tsap', 'klogin',\n",
       "        'kshell', 'ldap', 'link', 'login', 'mtp', 'name', 'netbios_dgm',\n",
       "        'netbios_ns', 'netbios_ssn', 'netstat', 'nnsp', 'nntp', 'ntp_u',\n",
       "        'other', 'pm_dump', 'pop_2', 'pop_3', 'printer', 'private',\n",
       "        'red_i', 'remote_job', 'rje', 'shell', 'smtp', 'sql_net', 'ssh',\n",
       "        'sunrpc', 'supdup', 'systat', 'telnet', 'tim_i', 'time', 'urh_i',\n",
       "        'urp_i', 'uucp', 'uucp_path', 'vmnet', 'whois'], dtype=object),\n",
       " array(['icmp', 'tcp', 'udp'], dtype=object)]"
      ]
     },
     "execution_count": 42,
     "metadata": {},
     "output_type": "execute_result"
    }
   ],
   "source": [
    "print(set_cat_1hot.toarray())\n",
    "print(set_cat_1hot.shape)\n",
    "cat_encoder.categories_"
   ]
  },
  {
   "cell_type": "markdown",
   "id": "0ca2c424",
   "metadata": {
    "papermill": {
     "duration": 0.094864,
     "end_time": "2022-04-11T07:21:30.864072",
     "exception": false,
     "start_time": "2022-04-11T07:21:30.769208",
     "status": "completed"
    },
    "tags": []
   },
   "source": [
    "# Out."
   ]
  },
  {
   "cell_type": "code",
   "execution_count": 43,
   "id": "409c8bea",
   "metadata": {
    "execution": {
     "iopub.execute_input": "2022-04-11T07:21:31.080637Z",
     "iopub.status.busy": "2022-04-11T07:21:31.079791Z",
     "iopub.status.idle": "2022-04-11T07:21:31.083618Z",
     "shell.execute_reply": "2022-04-11T07:21:31.083159Z",
     "shell.execute_reply.started": "2022-04-11T06:23:56.939412Z"
    },
    "papermill": {
     "duration": 0.125929,
     "end_time": "2022-04-11T07:21:31.083735",
     "exception": false,
     "start_time": "2022-04-11T07:21:30.957806",
     "status": "completed"
    },
    "tags": []
   },
   "outputs": [
    {
     "data": {
      "text/html": [
       "<div>\n",
       "<style scoped>\n",
       "    .dataframe tbody tr th:only-of-type {\n",
       "        vertical-align: middle;\n",
       "    }\n",
       "\n",
       "    .dataframe tbody tr th {\n",
       "        vertical-align: top;\n",
       "    }\n",
       "\n",
       "    .dataframe thead th {\n",
       "        text-align: right;\n",
       "    }\n",
       "</style>\n",
       "<table border=\"1\" class=\"dataframe\">\n",
       "  <thead>\n",
       "    <tr style=\"text-align: right;\">\n",
       "      <th></th>\n",
       "      <th>duration</th>\n",
       "      <th>src_bytes</th>\n",
       "      <th>dst_bytes</th>\n",
       "      <th>land</th>\n",
       "      <th>wrong_fragment</th>\n",
       "      <th>urgent</th>\n",
       "      <th>hot</th>\n",
       "      <th>num_failed_logins</th>\n",
       "      <th>logged_in</th>\n",
       "      <th>num_compromised</th>\n",
       "      <th>...</th>\n",
       "      <th>serror_rate</th>\n",
       "      <th>rerror_rate</th>\n",
       "      <th>same_srv_rate</th>\n",
       "      <th>diff_srv_rate</th>\n",
       "      <th>srv_diff_host_rate</th>\n",
       "      <th>dst_host_count</th>\n",
       "      <th>dst_host_srv_count</th>\n",
       "      <th>dst_host_diff_srv_rate</th>\n",
       "      <th>dst_host_same_src_port_rate</th>\n",
       "      <th>dst_host_srv_diff_host_rate</th>\n",
       "    </tr>\n",
       "  </thead>\n",
       "  <tbody>\n",
       "    <tr>\n",
       "      <th>90308</th>\n",
       "      <td>0</td>\n",
       "      <td>183</td>\n",
       "      <td>2333</td>\n",
       "      <td>0</td>\n",
       "      <td>0</td>\n",
       "      <td>0</td>\n",
       "      <td>0</td>\n",
       "      <td>0</td>\n",
       "      <td>1</td>\n",
       "      <td>0</td>\n",
       "      <td>...</td>\n",
       "      <td>0.0</td>\n",
       "      <td>0.0</td>\n",
       "      <td>1.00</td>\n",
       "      <td>0.00</td>\n",
       "      <td>0.0</td>\n",
       "      <td>5</td>\n",
       "      <td>255</td>\n",
       "      <td>0.00</td>\n",
       "      <td>0.20</td>\n",
       "      <td>0.02</td>\n",
       "    </tr>\n",
       "    <tr>\n",
       "      <th>378975</th>\n",
       "      <td>0</td>\n",
       "      <td>0</td>\n",
       "      <td>0</td>\n",
       "      <td>0</td>\n",
       "      <td>0</td>\n",
       "      <td>0</td>\n",
       "      <td>0</td>\n",
       "      <td>0</td>\n",
       "      <td>0</td>\n",
       "      <td>0</td>\n",
       "      <td>...</td>\n",
       "      <td>1.0</td>\n",
       "      <td>0.0</td>\n",
       "      <td>0.06</td>\n",
       "      <td>0.05</td>\n",
       "      <td>0.0</td>\n",
       "      <td>255</td>\n",
       "      <td>8</td>\n",
       "      <td>0.05</td>\n",
       "      <td>0.00</td>\n",
       "      <td>0.00</td>\n",
       "    </tr>\n",
       "    <tr>\n",
       "      <th>80287</th>\n",
       "      <td>0</td>\n",
       "      <td>359</td>\n",
       "      <td>700</td>\n",
       "      <td>0</td>\n",
       "      <td>0</td>\n",
       "      <td>0</td>\n",
       "      <td>0</td>\n",
       "      <td>0</td>\n",
       "      <td>1</td>\n",
       "      <td>0</td>\n",
       "      <td>...</td>\n",
       "      <td>0.0</td>\n",
       "      <td>0.0</td>\n",
       "      <td>1.00</td>\n",
       "      <td>0.00</td>\n",
       "      <td>0.0</td>\n",
       "      <td>255</td>\n",
       "      <td>255</td>\n",
       "      <td>0.00</td>\n",
       "      <td>0.00</td>\n",
       "      <td>0.00</td>\n",
       "    </tr>\n",
       "    <tr>\n",
       "      <th>481062</th>\n",
       "      <td>0</td>\n",
       "      <td>183</td>\n",
       "      <td>0</td>\n",
       "      <td>0</td>\n",
       "      <td>0</td>\n",
       "      <td>0</td>\n",
       "      <td>0</td>\n",
       "      <td>0</td>\n",
       "      <td>0</td>\n",
       "      <td>0</td>\n",
       "      <td>...</td>\n",
       "      <td>0.0</td>\n",
       "      <td>0.0</td>\n",
       "      <td>0.88</td>\n",
       "      <td>0.25</td>\n",
       "      <td>0.0</td>\n",
       "      <td>255</td>\n",
       "      <td>23</td>\n",
       "      <td>0.01</td>\n",
       "      <td>0.11</td>\n",
       "      <td>0.00</td>\n",
       "    </tr>\n",
       "    <tr>\n",
       "      <th>349283</th>\n",
       "      <td>0</td>\n",
       "      <td>0</td>\n",
       "      <td>0</td>\n",
       "      <td>0</td>\n",
       "      <td>0</td>\n",
       "      <td>0</td>\n",
       "      <td>0</td>\n",
       "      <td>0</td>\n",
       "      <td>0</td>\n",
       "      <td>0</td>\n",
       "      <td>...</td>\n",
       "      <td>0.0</td>\n",
       "      <td>1.0</td>\n",
       "      <td>1.00</td>\n",
       "      <td>0.00</td>\n",
       "      <td>0.0</td>\n",
       "      <td>2</td>\n",
       "      <td>37</td>\n",
       "      <td>0.00</td>\n",
       "      <td>0.50</td>\n",
       "      <td>0.38</td>\n",
       "    </tr>\n",
       "  </tbody>\n",
       "</table>\n",
       "<p>5 rows × 28 columns</p>\n",
       "</div>"
      ],
      "text/plain": [
       "        duration  src_bytes  dst_bytes  land  wrong_fragment  urgent  hot  \\\n",
       "90308          0        183       2333     0               0       0    0   \n",
       "378975         0          0          0     0               0       0    0   \n",
       "80287          0        359        700     0               0       0    0   \n",
       "481062         0        183          0     0               0       0    0   \n",
       "349283         0          0          0     0               0       0    0   \n",
       "\n",
       "        num_failed_logins  logged_in  num_compromised  ...  serror_rate  \\\n",
       "90308                   0          1                0  ...          0.0   \n",
       "378975                  0          0                0  ...          1.0   \n",
       "80287                   0          1                0  ...          0.0   \n",
       "481062                  0          0                0  ...          0.0   \n",
       "349283                  0          0                0  ...          0.0   \n",
       "\n",
       "        rerror_rate  same_srv_rate  diff_srv_rate  srv_diff_host_rate  \\\n",
       "90308           0.0           1.00           0.00                 0.0   \n",
       "378975          0.0           0.06           0.05                 0.0   \n",
       "80287           0.0           1.00           0.00                 0.0   \n",
       "481062          0.0           0.88           0.25                 0.0   \n",
       "349283          1.0           1.00           0.00                 0.0   \n",
       "\n",
       "        dst_host_count  dst_host_srv_count  dst_host_diff_srv_rate  \\\n",
       "90308                5                 255                    0.00   \n",
       "378975             255                   8                    0.05   \n",
       "80287              255                 255                    0.00   \n",
       "481062             255                  23                    0.01   \n",
       "349283               2                  37                    0.00   \n",
       "\n",
       "        dst_host_same_src_port_rate  dst_host_srv_diff_host_rate  \n",
       "90308                          0.20                         0.02  \n",
       "378975                         0.00                         0.00  \n",
       "80287                          0.00                         0.00  \n",
       "481062                         0.11                         0.00  \n",
       "349283                         0.50                         0.38  \n",
       "\n",
       "[5 rows x 28 columns]"
      ]
     },
     "execution_count": 43,
     "metadata": {},
     "output_type": "execute_result"
    }
   ],
   "source": [
    "set_num=set.drop(['flag', 'service','protocol_type'],axis=1)\n",
    "set_num.head()"
   ]
  },
  {
   "cell_type": "code",
   "execution_count": 44,
   "id": "8ede5da3",
   "metadata": {
    "execution": {
     "iopub.execute_input": "2022-04-11T07:21:31.277627Z",
     "iopub.status.busy": "2022-04-11T07:21:31.276925Z",
     "iopub.status.idle": "2022-04-11T07:21:33.689019Z",
     "shell.execute_reply": "2022-04-11T07:21:33.689419Z",
     "shell.execute_reply.started": "2022-04-11T06:23:56.977063Z"
    },
    "papermill": {
     "duration": 2.511838,
     "end_time": "2022-04-11T07:21:33.689590",
     "exception": false,
     "start_time": "2022-04-11T07:21:31.177752",
     "status": "completed"
    },
    "tags": []
   },
   "outputs": [
    {
     "data": {
      "image/png": "[encoded data removed]",
      "text/plain": [
       "<Figure size 720x360 with 1 Axes>"
      ]
     },
     "metadata": {
      "needs_background": "light"
     },
     "output_type": "display_data"
    }
   ],
   "source": [
    "plt.figure(figsize=(10,5))\n",
    "sns.heatmap(set.isnull(),yticklabels=False,cbar=False)\n",
    "\n",
    "plt.show()"
   ]
  },
  {
   "cell_type": "markdown",
   "id": "6878101b",
   "metadata": {
    "papermill": {
     "duration": 0.09458,
     "end_time": "2022-04-11T07:21:33.879304",
     "exception": false,
     "start_time": "2022-04-11T07:21:33.784724",
     "status": "completed"
    },
    "tags": []
   },
   "source": []
  },
  {
   "cell_type": "code",
   "execution_count": 45,
   "id": "50aecbac",
   "metadata": {
    "execution": {
     "iopub.execute_input": "2022-04-11T07:21:34.077769Z",
     "iopub.status.busy": "2022-04-11T07:21:34.076964Z",
     "iopub.status.idle": "2022-04-11T07:21:34.086654Z",
     "shell.execute_reply": "2022-04-11T07:21:34.086215Z",
     "shell.execute_reply.started": "2022-04-11T06:23:59.801394Z"
    },
    "papermill": {
     "duration": 0.110597,
     "end_time": "2022-04-11T07:21:34.086776",
     "exception": false,
     "start_time": "2022-04-11T07:21:33.976179",
     "status": "completed"
    },
    "tags": []
   },
   "outputs": [
    {
     "data": {
      "text/html": [
       "<div>\n",
       "<style scoped>\n",
       "    .dataframe tbody tr th:only-of-type {\n",
       "        vertical-align: middle;\n",
       "    }\n",
       "\n",
       "    .dataframe tbody tr th {\n",
       "        vertical-align: top;\n",
       "    }\n",
       "\n",
       "    .dataframe thead th {\n",
       "        text-align: right;\n",
       "    }\n",
       "</style>\n",
       "<table border=\"1\" class=\"dataframe\">\n",
       "  <thead>\n",
       "    <tr style=\"text-align: right;\">\n",
       "      <th></th>\n",
       "      <th>flag</th>\n",
       "      <th>service</th>\n",
       "      <th>protocol_type</th>\n",
       "    </tr>\n",
       "  </thead>\n",
       "  <tbody>\n",
       "    <tr>\n",
       "      <th>90308</th>\n",
       "      <td>SF</td>\n",
       "      <td>http</td>\n",
       "      <td>tcp</td>\n",
       "    </tr>\n",
       "    <tr>\n",
       "      <th>378975</th>\n",
       "      <td>S0</td>\n",
       "      <td>private</td>\n",
       "      <td>tcp</td>\n",
       "    </tr>\n",
       "    <tr>\n",
       "      <th>80287</th>\n",
       "      <td>SF</td>\n",
       "      <td>http</td>\n",
       "      <td>tcp</td>\n",
       "    </tr>\n",
       "    <tr>\n",
       "      <th>481062</th>\n",
       "      <td>SF</td>\n",
       "      <td>urp_i</td>\n",
       "      <td>icmp</td>\n",
       "    </tr>\n",
       "    <tr>\n",
       "      <th>349283</th>\n",
       "      <td>REJ</td>\n",
       "      <td>http</td>\n",
       "      <td>tcp</td>\n",
       "    </tr>\n",
       "    <tr>\n",
       "      <th>357370</th>\n",
       "      <td>S0</td>\n",
       "      <td>private</td>\n",
       "      <td>tcp</td>\n",
       "    </tr>\n",
       "    <tr>\n",
       "      <th>23902</th>\n",
       "      <td>SF</td>\n",
       "      <td>http</td>\n",
       "      <td>tcp</td>\n",
       "    </tr>\n",
       "    <tr>\n",
       "      <th>78495</th>\n",
       "      <td>SF</td>\n",
       "      <td>http</td>\n",
       "      <td>tcp</td>\n",
       "    </tr>\n",
       "    <tr>\n",
       "      <th>460364</th>\n",
       "      <td>REJ</td>\n",
       "      <td>ssh</td>\n",
       "      <td>tcp</td>\n",
       "    </tr>\n",
       "    <tr>\n",
       "      <th>383565</th>\n",
       "      <td>S0</td>\n",
       "      <td>private</td>\n",
       "      <td>tcp</td>\n",
       "    </tr>\n",
       "  </tbody>\n",
       "</table>\n",
       "</div>"
      ],
      "text/plain": [
       "       flag  service protocol_type\n",
       "90308    SF     http           tcp\n",
       "378975   S0  private           tcp\n",
       "80287    SF     http           tcp\n",
       "481062   SF    urp_i          icmp\n",
       "349283  REJ     http           tcp\n",
       "357370   S0  private           tcp\n",
       "23902    SF     http           tcp\n",
       "78495    SF     http           tcp\n",
       "460364  REJ      ssh           tcp\n",
       "383565   S0  private           tcp"
      ]
     },
     "execution_count": 45,
     "metadata": {},
     "output_type": "execute_result"
    }
   ],
   "source": [
    "set_cat=set[['flag', 'service', 'protocol_type']]\n",
    "set_cat.head(10)"
   ]
  },
  {
   "cell_type": "code",
   "execution_count": 46,
   "id": "9ed2b32d",
   "metadata": {
    "execution": {
     "iopub.execute_input": "2022-04-11T07:21:34.296776Z",
     "iopub.status.busy": "2022-04-11T07:21:34.283269Z",
     "iopub.status.idle": "2022-04-11T07:21:34.377796Z",
     "shell.execute_reply": "2022-04-11T07:21:34.378195Z",
     "shell.execute_reply.started": "2022-04-11T06:23:59.819822Z"
    },
    "papermill": {
     "duration": 0.197133,
     "end_time": "2022-04-11T07:21:34.379836",
     "exception": false,
     "start_time": "2022-04-11T07:21:34.182703",
     "status": "completed"
    },
    "tags": []
   },
   "outputs": [
    {
     "data": {
      "text/plain": [
       "<93174x79 sparse matrix of type '<class 'numpy.float64'>'\n",
       "\twith 279522 stored elements in Compressed Sparse Row format>"
      ]
     },
     "execution_count": 46,
     "metadata": {},
     "output_type": "execute_result"
    }
   ],
   "source": [
    "cat_encoder = OneHotEncoder()\n",
    "set_cat_1hot = cat_encoder.fit_transform(set_cat)\n",
    "set_cat_1hot"
   ]
  },
  {
   "cell_type": "code",
   "execution_count": 47,
   "id": "78897e44",
   "metadata": {
    "execution": {
     "iopub.execute_input": "2022-04-11T07:21:34.733316Z",
     "iopub.status.busy": "2022-04-11T07:21:34.732548Z",
     "iopub.status.idle": "2022-04-11T07:21:34.889601Z",
     "shell.execute_reply": "2022-04-11T07:21:34.890606Z",
     "shell.execute_reply.started": "2022-04-11T06:23:59.931444Z"
    },
    "papermill": {
     "duration": 0.327844,
     "end_time": "2022-04-11T07:21:34.890815",
     "exception": false,
     "start_time": "2022-04-11T07:21:34.562971",
     "status": "completed"
    },
    "tags": []
   },
   "outputs": [
    {
     "name": "stdout",
     "output_type": "stream",
     "text": [
      "[[0. 0. 0. ... 0. 1. 0.]\n",
      " [0. 0. 0. ... 0. 1. 0.]\n",
      " [0. 0. 0. ... 0. 1. 0.]\n",
      " ...\n",
      " [0. 0. 0. ... 0. 1. 0.]\n",
      " [0. 0. 0. ... 0. 1. 0.]\n",
      " [0. 0. 0. ... 0. 1. 0.]]\n",
      "<class 'pandas.core.frame.DataFrame'>\n",
      "Int64Index: 93174 entries, 90308 to 381505\n",
      "Data columns (total 31 columns):\n",
      " #   Column                       Non-Null Count  Dtype  \n",
      "---  ------                       --------------  -----  \n",
      " 0   duration                     93174 non-null  int64  \n",
      " 1   protocol_type                93174 non-null  object \n",
      " 2   service                      93174 non-null  object \n",
      " 3   flag                         93174 non-null  object \n",
      " 4   src_bytes                    93174 non-null  int64  \n",
      " 5   dst_bytes                    93174 non-null  int64  \n",
      " 6   land                         93174 non-null  int64  \n",
      " 7   wrong_fragment               93174 non-null  int64  \n",
      " 8   urgent                       93174 non-null  int64  \n",
      " 9   hot                          93174 non-null  int64  \n",
      " 10  num_failed_logins            93174 non-null  int64  \n",
      " 11  logged_in                    93174 non-null  int64  \n",
      " 12  num_compromised              93174 non-null  int64  \n",
      " 13  root_shell                   93174 non-null  int64  \n",
      " 14  su_attempted                 93174 non-null  int64  \n",
      " 15  num_file_creations           93174 non-null  int64  \n",
      " 16  num_shells                   93174 non-null  int64  \n",
      " 17  num_access_files             93174 non-null  int64  \n",
      " 18  is_guest_login               93174 non-null  int64  \n",
      " 19  count                        93174 non-null  int64  \n",
      " 20  srv_count                    93174 non-null  int64  \n",
      " 21  serror_rate                  93174 non-null  float64\n",
      " 22  rerror_rate                  93174 non-null  float64\n",
      " 23  same_srv_rate                93174 non-null  float64\n",
      " 24  diff_srv_rate                93174 non-null  float64\n",
      " 25  srv_diff_host_rate           93174 non-null  float64\n",
      " 26  dst_host_count               93174 non-null  int64  \n",
      " 27  dst_host_srv_count           93174 non-null  int64  \n",
      " 28  dst_host_diff_srv_rate       93174 non-null  float64\n",
      " 29  dst_host_same_src_port_rate  93174 non-null  float64\n",
      " 30  dst_host_srv_diff_host_rate  93174 non-null  float64\n",
      "dtypes: float64(8), int64(20), object(3)\n",
      "memory usage: 24.8+ MB\n",
      "None\n",
      "<bound method NDFrame.describe of         duration protocol_type  service flag  src_bytes  dst_bytes  land  \\\n",
      "90308          0           tcp     http   SF        183       2333     0   \n",
      "378975         0           tcp  private   S0          0          0     0   \n",
      "80287          0           tcp     http   SF        359        700     0   \n",
      "481062         0          icmp    urp_i   SF        183          0     0   \n",
      "349283         0           tcp     http  REJ          0          0     0   \n",
      "...          ...           ...      ...  ...        ...        ...   ...   \n",
      "387660         0           tcp  private   S0          0          0     0   \n",
      "41046          0          icmp    ecr_i   SF         30          0     0   \n",
      "63937          0           tcp  private   S0          0          0     0   \n",
      "141933         0           tcp     smtp   SF        819        333     0   \n",
      "381505         0           tcp  private   S0          0          0     0   \n",
      "\n",
      "        wrong_fragment  urgent  hot  ...  serror_rate  rerror_rate  \\\n",
      "90308                0       0    0  ...          0.0          0.0   \n",
      "378975               0       0    0  ...          1.0          0.0   \n",
      "80287                0       0    0  ...          0.0          0.0   \n",
      "481062               0       0    0  ...          0.0          0.0   \n",
      "349283               0       0    0  ...          0.0          1.0   \n",
      "...                ...     ...  ...  ...          ...          ...   \n",
      "387660               0       0    0  ...          1.0          0.0   \n",
      "41046                0       0    0  ...          0.0          0.0   \n",
      "63937                0       0    0  ...          1.0          0.0   \n",
      "141933               0       0    0  ...          0.0          0.0   \n",
      "381505               0       0    0  ...          1.0          0.0   \n",
      "\n",
      "        same_srv_rate  diff_srv_rate  srv_diff_host_rate  dst_host_count  \\\n",
      "90308            1.00           0.00                 0.0               5   \n",
      "378975           0.06           0.05                 0.0             255   \n",
      "80287            1.00           0.00                 0.0             255   \n",
      "481062           0.88           0.25                 0.0             255   \n",
      "349283           1.00           0.00                 0.0               2   \n",
      "...               ...            ...                 ...             ...   \n",
      "387660           0.01           0.05                 0.0             255   \n",
      "41046            1.00           0.00                 0.0              50   \n",
      "63937            0.07           0.07                 0.0             255   \n",
      "141933           0.50           1.00                 0.0               5   \n",
      "381505           0.12           0.19                 0.0             255   \n",
      "\n",
      "        dst_host_srv_count  dst_host_diff_srv_rate  \\\n",
      "90308                  255                    0.00   \n",
      "378975                   8                    0.05   \n",
      "80287                  255                    0.00   \n",
      "481062                  23                    0.01   \n",
      "349283                  37                    0.00   \n",
      "...                    ...                     ...   \n",
      "387660                   3                    0.07   \n",
      "41046                   50                    0.00   \n",
      "63937                   14                    0.07   \n",
      "141933                 119                    0.60   \n",
      "381505                   4                    0.09   \n",
      "\n",
      "        dst_host_same_src_port_rate  dst_host_srv_diff_host_rate  \n",
      "90308                          0.20                         0.02  \n",
      "378975                         0.00                         0.00  \n",
      "80287                          0.00                         0.00  \n",
      "481062                         0.11                         0.00  \n",
      "349283                         0.50                         0.38  \n",
      "...                             ...                          ...  \n",
      "387660                         0.00                         0.00  \n",
      "41046                          1.00                         0.00  \n",
      "63937                          0.00                         0.00  \n",
      "141933                         0.20                         0.02  \n",
      "381505                         0.00                         0.00  \n",
      "\n",
      "[93174 rows x 31 columns]>\n",
      "(93174, 79)\n"
     ]
    }
   ],
   "source": [
    "print(set_cat_1hot.toarray())\n",
    "print(set.info())\n",
    "print(set.describe)\n",
    "print(set_cat_1hot.shape)"
   ]
  },
  {
   "cell_type": "markdown",
   "id": "495eb144",
   "metadata": {
    "papermill": {
     "duration": 0.096827,
     "end_time": "2022-04-11T07:21:35.118474",
     "exception": false,
     "start_time": "2022-04-11T07:21:35.021647",
     "status": "completed"
    },
    "tags": []
   },
   "source": [
    "# Visualizing the given dataset's category."
   ]
  },
  {
   "cell_type": "code",
   "execution_count": 48,
   "id": "222e31f0",
   "metadata": {
    "execution": {
     "iopub.execute_input": "2022-04-11T07:21:35.318587Z",
     "iopub.status.busy": "2022-04-11T07:21:35.317922Z",
     "iopub.status.idle": "2022-04-11T07:21:35.320621Z",
     "shell.execute_reply": "2022-04-11T07:21:35.321032Z",
     "shell.execute_reply.started": "2022-04-11T06:24:00.070646Z"
    },
    "papermill": {
     "duration": 0.105862,
     "end_time": "2022-04-11T07:21:35.321162",
     "exception": false,
     "start_time": "2022-04-11T07:21:35.215300",
     "status": "completed"
    },
    "tags": []
   },
   "outputs": [
    {
     "data": {
      "text/plain": [
       "[array(['OTH', 'REJ', 'RSTO', 'RSTOS0', 'RSTR', 'S0', 'S1', 'S2', 'S3',\n",
       "        'SF', 'SH'], dtype=object),\n",
       " array(['IRC', 'X11', 'Z39_50', 'auth', 'bgp', 'courier', 'csnet_ns',\n",
       "        'ctf', 'daytime', 'discard', 'domain', 'domain_u', 'echo', 'eco_i',\n",
       "        'ecr_i', 'efs', 'exec', 'finger', 'ftp', 'ftp_data', 'gopher',\n",
       "        'hostnames', 'http', 'http_443', 'imap4', 'iso_tsap', 'klogin',\n",
       "        'kshell', 'ldap', 'link', 'login', 'mtp', 'name', 'netbios_dgm',\n",
       "        'netbios_ns', 'netbios_ssn', 'netstat', 'nnsp', 'nntp', 'ntp_u',\n",
       "        'other', 'pm_dump', 'pop_2', 'pop_3', 'printer', 'private',\n",
       "        'red_i', 'remote_job', 'rje', 'shell', 'smtp', 'sql_net', 'ssh',\n",
       "        'sunrpc', 'supdup', 'systat', 'telnet', 'tim_i', 'time', 'urh_i',\n",
       "        'urp_i', 'uucp', 'uucp_path', 'vmnet', 'whois'], dtype=object),\n",
       " array(['icmp', 'tcp', 'udp'], dtype=object)]"
      ]
     },
     "execution_count": 48,
     "metadata": {},
     "output_type": "execute_result"
    }
   ],
   "source": [
    "cat_encoder.categories_"
   ]
  },
  {
   "cell_type": "code",
   "execution_count": 49,
   "id": "d9045336",
   "metadata": {
    "execution": {
     "iopub.execute_input": "2022-04-11T07:21:35.527497Z",
     "iopub.status.busy": "2022-04-11T07:21:35.526672Z",
     "iopub.status.idle": "2022-04-11T07:21:35.543384Z",
     "shell.execute_reply": "2022-04-11T07:21:35.543849Z",
     "shell.execute_reply.started": "2022-04-11T06:24:00.081643Z"
    },
    "papermill": {
     "duration": 0.125655,
     "end_time": "2022-04-11T07:21:35.543980",
     "exception": false,
     "start_time": "2022-04-11T07:21:35.418325",
     "status": "completed"
    },
    "tags": []
   },
   "outputs": [
    {
     "data": {
      "text/html": [
       "<div>\n",
       "<style scoped>\n",
       "    .dataframe tbody tr th:only-of-type {\n",
       "        vertical-align: middle;\n",
       "    }\n",
       "\n",
       "    .dataframe tbody tr th {\n",
       "        vertical-align: top;\n",
       "    }\n",
       "\n",
       "    .dataframe thead th {\n",
       "        text-align: right;\n",
       "    }\n",
       "</style>\n",
       "<table border=\"1\" class=\"dataframe\">\n",
       "  <thead>\n",
       "    <tr style=\"text-align: right;\">\n",
       "      <th></th>\n",
       "      <th>duration</th>\n",
       "      <th>src_bytes</th>\n",
       "      <th>dst_bytes</th>\n",
       "      <th>land</th>\n",
       "      <th>wrong_fragment</th>\n",
       "      <th>urgent</th>\n",
       "      <th>hot</th>\n",
       "      <th>num_failed_logins</th>\n",
       "      <th>logged_in</th>\n",
       "      <th>num_compromised</th>\n",
       "      <th>...</th>\n",
       "      <th>serror_rate</th>\n",
       "      <th>rerror_rate</th>\n",
       "      <th>same_srv_rate</th>\n",
       "      <th>diff_srv_rate</th>\n",
       "      <th>srv_diff_host_rate</th>\n",
       "      <th>dst_host_count</th>\n",
       "      <th>dst_host_srv_count</th>\n",
       "      <th>dst_host_diff_srv_rate</th>\n",
       "      <th>dst_host_same_src_port_rate</th>\n",
       "      <th>dst_host_srv_diff_host_rate</th>\n",
       "    </tr>\n",
       "  </thead>\n",
       "  <tbody>\n",
       "    <tr>\n",
       "      <th>90308</th>\n",
       "      <td>0</td>\n",
       "      <td>183</td>\n",
       "      <td>2333</td>\n",
       "      <td>0</td>\n",
       "      <td>0</td>\n",
       "      <td>0</td>\n",
       "      <td>0</td>\n",
       "      <td>0</td>\n",
       "      <td>1</td>\n",
       "      <td>0</td>\n",
       "      <td>...</td>\n",
       "      <td>0.0</td>\n",
       "      <td>0.0</td>\n",
       "      <td>1.00</td>\n",
       "      <td>0.00</td>\n",
       "      <td>0.0</td>\n",
       "      <td>5</td>\n",
       "      <td>255</td>\n",
       "      <td>0.00</td>\n",
       "      <td>0.20</td>\n",
       "      <td>0.02</td>\n",
       "    </tr>\n",
       "    <tr>\n",
       "      <th>378975</th>\n",
       "      <td>0</td>\n",
       "      <td>0</td>\n",
       "      <td>0</td>\n",
       "      <td>0</td>\n",
       "      <td>0</td>\n",
       "      <td>0</td>\n",
       "      <td>0</td>\n",
       "      <td>0</td>\n",
       "      <td>0</td>\n",
       "      <td>0</td>\n",
       "      <td>...</td>\n",
       "      <td>1.0</td>\n",
       "      <td>0.0</td>\n",
       "      <td>0.06</td>\n",
       "      <td>0.05</td>\n",
       "      <td>0.0</td>\n",
       "      <td>255</td>\n",
       "      <td>8</td>\n",
       "      <td>0.05</td>\n",
       "      <td>0.00</td>\n",
       "      <td>0.00</td>\n",
       "    </tr>\n",
       "    <tr>\n",
       "      <th>80287</th>\n",
       "      <td>0</td>\n",
       "      <td>359</td>\n",
       "      <td>700</td>\n",
       "      <td>0</td>\n",
       "      <td>0</td>\n",
       "      <td>0</td>\n",
       "      <td>0</td>\n",
       "      <td>0</td>\n",
       "      <td>1</td>\n",
       "      <td>0</td>\n",
       "      <td>...</td>\n",
       "      <td>0.0</td>\n",
       "      <td>0.0</td>\n",
       "      <td>1.00</td>\n",
       "      <td>0.00</td>\n",
       "      <td>0.0</td>\n",
       "      <td>255</td>\n",
       "      <td>255</td>\n",
       "      <td>0.00</td>\n",
       "      <td>0.00</td>\n",
       "      <td>0.00</td>\n",
       "    </tr>\n",
       "    <tr>\n",
       "      <th>481062</th>\n",
       "      <td>0</td>\n",
       "      <td>183</td>\n",
       "      <td>0</td>\n",
       "      <td>0</td>\n",
       "      <td>0</td>\n",
       "      <td>0</td>\n",
       "      <td>0</td>\n",
       "      <td>0</td>\n",
       "      <td>0</td>\n",
       "      <td>0</td>\n",
       "      <td>...</td>\n",
       "      <td>0.0</td>\n",
       "      <td>0.0</td>\n",
       "      <td>0.88</td>\n",
       "      <td>0.25</td>\n",
       "      <td>0.0</td>\n",
       "      <td>255</td>\n",
       "      <td>23</td>\n",
       "      <td>0.01</td>\n",
       "      <td>0.11</td>\n",
       "      <td>0.00</td>\n",
       "    </tr>\n",
       "    <tr>\n",
       "      <th>349283</th>\n",
       "      <td>0</td>\n",
       "      <td>0</td>\n",
       "      <td>0</td>\n",
       "      <td>0</td>\n",
       "      <td>0</td>\n",
       "      <td>0</td>\n",
       "      <td>0</td>\n",
       "      <td>0</td>\n",
       "      <td>0</td>\n",
       "      <td>0</td>\n",
       "      <td>...</td>\n",
       "      <td>0.0</td>\n",
       "      <td>1.0</td>\n",
       "      <td>1.00</td>\n",
       "      <td>0.00</td>\n",
       "      <td>0.0</td>\n",
       "      <td>2</td>\n",
       "      <td>37</td>\n",
       "      <td>0.00</td>\n",
       "      <td>0.50</td>\n",
       "      <td>0.38</td>\n",
       "    </tr>\n",
       "  </tbody>\n",
       "</table>\n",
       "<p>5 rows × 28 columns</p>\n",
       "</div>"
      ],
      "text/plain": [
       "        duration  src_bytes  dst_bytes  land  wrong_fragment  urgent  hot  \\\n",
       "90308          0        183       2333     0               0       0    0   \n",
       "378975         0          0          0     0               0       0    0   \n",
       "80287          0        359        700     0               0       0    0   \n",
       "481062         0        183          0     0               0       0    0   \n",
       "349283         0          0          0     0               0       0    0   \n",
       "\n",
       "        num_failed_logins  logged_in  num_compromised  ...  serror_rate  \\\n",
       "90308                   0          1                0  ...          0.0   \n",
       "378975                  0          0                0  ...          1.0   \n",
       "80287                   0          1                0  ...          0.0   \n",
       "481062                  0          0                0  ...          0.0   \n",
       "349283                  0          0                0  ...          0.0   \n",
       "\n",
       "        rerror_rate  same_srv_rate  diff_srv_rate  srv_diff_host_rate  \\\n",
       "90308           0.0           1.00           0.00                 0.0   \n",
       "378975          0.0           0.06           0.05                 0.0   \n",
       "80287           0.0           1.00           0.00                 0.0   \n",
       "481062          0.0           0.88           0.25                 0.0   \n",
       "349283          1.0           1.00           0.00                 0.0   \n",
       "\n",
       "        dst_host_count  dst_host_srv_count  dst_host_diff_srv_rate  \\\n",
       "90308                5                 255                    0.00   \n",
       "378975             255                   8                    0.05   \n",
       "80287              255                 255                    0.00   \n",
       "481062             255                  23                    0.01   \n",
       "349283               2                  37                    0.00   \n",
       "\n",
       "        dst_host_same_src_port_rate  dst_host_srv_diff_host_rate  \n",
       "90308                          0.20                         0.02  \n",
       "378975                         0.00                         0.00  \n",
       "80287                          0.00                         0.00  \n",
       "481062                         0.11                         0.00  \n",
       "349283                         0.50                         0.38  \n",
       "\n",
       "[5 rows x 28 columns]"
      ]
     },
     "execution_count": 49,
     "metadata": {},
     "output_type": "execute_result"
    }
   ],
   "source": [
    "set_num=set.drop(['flag', 'service','protocol_type'],axis=1)\n",
    "set_num.head()"
   ]
  },
  {
   "cell_type": "code",
   "execution_count": 50,
   "id": "7f05b367",
   "metadata": {
    "execution": {
     "iopub.execute_input": "2022-04-11T07:21:35.747326Z",
     "iopub.status.busy": "2022-04-11T07:21:35.746316Z",
     "iopub.status.idle": "2022-04-11T07:21:38.943682Z",
     "shell.execute_reply": "2022-04-11T07:21:38.942757Z",
     "shell.execute_reply.started": "2022-04-11T06:24:00.122288Z"
    },
    "papermill": {
     "duration": 3.301673,
     "end_time": "2022-04-11T07:21:38.943832",
     "exception": false,
     "start_time": "2022-04-11T07:21:35.642159",
     "status": "completed"
    },
    "tags": []
   },
   "outputs": [],
   "source": [
    "from sklearn.ensemble import IsolationForest\n",
    "\n",
    "isolation_forest = IsolationForest()\n",
    "outlier_pred = isolation_forest.fit_predict(set_num)\n",
    "\n",
    "set_clean = set[outlier_pred == 1]\n",
    "set_labels_clean = set_labels[outlier_pred == 1]"
   ]
  },
  {
   "cell_type": "code",
   "execution_count": 51,
   "id": "73b5929b",
   "metadata": {
    "execution": {
     "iopub.execute_input": "2022-04-11T07:21:39.147308Z",
     "iopub.status.busy": "2022-04-11T07:21:39.146573Z",
     "iopub.status.idle": "2022-04-11T07:21:39.148593Z",
     "shell.execute_reply": "2022-04-11T07:21:39.148969Z",
     "shell.execute_reply.started": "2022-04-11T06:24:04.477043Z"
    },
    "papermill": {
     "duration": 0.105919,
     "end_time": "2022-04-11T07:21:39.149103",
     "exception": false,
     "start_time": "2022-04-11T07:21:39.043184",
     "status": "completed"
    },
    "tags": []
   },
   "outputs": [],
   "source": [
    "# Only for verifying.\n",
    "#print(set_clean.shape)\n",
    "#print(set_labels_clean.shape)"
   ]
  },
  {
   "cell_type": "markdown",
   "id": "57c1b83f",
   "metadata": {
    "papermill": {
     "duration": 0.098008,
     "end_time": "2022-04-11T07:21:39.344865",
     "exception": false,
     "start_time": "2022-04-11T07:21:39.246857",
     "status": "completed"
    },
    "tags": []
   },
   "source": [
    "### Transforming Pipeline"
   ]
  },
  {
   "cell_type": "code",
   "execution_count": 52,
   "id": "176b806d",
   "metadata": {
    "execution": {
     "iopub.execute_input": "2022-04-11T07:21:39.557460Z",
     "iopub.status.busy": "2022-04-11T07:21:39.556461Z",
     "iopub.status.idle": "2022-04-11T07:21:39.595041Z",
     "shell.execute_reply": "2022-04-11T07:21:39.595424Z",
     "shell.execute_reply.started": "2022-04-11T06:24:04.482792Z"
    },
    "papermill": {
     "duration": 0.142883,
     "end_time": "2022-04-11T07:21:39.595601",
     "exception": false,
     "start_time": "2022-04-11T07:21:39.452718",
     "status": "completed"
    },
    "tags": []
   },
   "outputs": [
    {
     "data": {
      "text/plain": [
       "array([[-0.10782789, -0.0045491 , -0.00850249, ..., -0.41781426,\n",
       "         0.44001943,  0.01745376],\n",
       "       [-0.10782789, -0.00462958, -0.04887979, ..., -0.07964627,\n",
       "        -0.38545887, -0.31650996],\n",
       "       [-0.10782789, -0.0044717 , -0.03676487, ..., -0.41781426,\n",
       "        -0.38545887, -0.31650996],\n",
       "       ...,\n",
       "       [-0.10782789, -0.00462958, -0.04887979, ...,  0.05562093,\n",
       "        -0.38545887, -0.31650996],\n",
       "       [-0.10782789, -0.0042694 , -0.04311655, ...,  3.64020168,\n",
       "         0.44001943,  0.01745376],\n",
       "       [-0.10782789, -0.00462958, -0.04887979, ...,  0.19088813,\n",
       "        -0.38545887, -0.31650996]])"
      ]
     },
     "execution_count": 52,
     "metadata": {},
     "output_type": "execute_result"
    }
   ],
   "source": [
    "from sklearn.preprocessing import StandardScaler\n",
    "\n",
    "standadizer=StandardScaler()\n",
    "set_num_tr=standadizer.fit_transform(set_num)\n",
    "set_num_tr"
   ]
  },
  {
   "cell_type": "markdown",
   "id": "6bb07538",
   "metadata": {
    "papermill": {
     "duration": 0.097606,
     "end_time": "2022-04-11T07:21:39.792498",
     "exception": false,
     "start_time": "2022-04-11T07:21:39.694892",
     "status": "completed"
    },
    "tags": []
   },
   "source": [
    "### Transforming column."
   ]
  },
  {
   "cell_type": "code",
   "execution_count": 53,
   "id": "44390448",
   "metadata": {
    "execution": {
     "iopub.execute_input": "2022-04-11T07:21:39.994672Z",
     "iopub.status.busy": "2022-04-11T07:21:39.993993Z",
     "iopub.status.idle": "2022-04-11T07:21:40.235910Z",
     "shell.execute_reply": "2022-04-11T07:21:40.235368Z",
     "shell.execute_reply.started": "2022-04-11T06:24:04.542754Z"
    },
    "papermill": {
     "duration": 0.345706,
     "end_time": "2022-04-11T07:21:40.236049",
     "exception": false,
     "start_time": "2022-04-11T07:21:39.890343",
     "status": "completed"
    },
    "tags": []
   },
   "outputs": [],
   "source": [
    "from sklearn.compose import ColumnTransformer\n",
    "\n",
    "num_attribs = list(set_num)\n",
    "cat_attribs = ['flag', 'service','protocol_type']\n",
    "\n",
    "full_pipeline = ColumnTransformer([\n",
    "        (\"num\", StandardScaler(), num_attribs),\n",
    "        (\"cat\", OneHotEncoder(handle_unknown='ignore'), cat_attribs),\n",
    "    ])\n",
    "\n",
    "set_prepared = full_pipeline.fit_transform(set_clean)\n",
    "set_labels=set_labels_clean.copy()"
   ]
  },
  {
   "cell_type": "code",
   "execution_count": 54,
   "id": "060c4b68",
   "metadata": {
    "execution": {
     "iopub.execute_input": "2022-04-11T07:21:40.461064Z",
     "iopub.status.busy": "2022-04-11T07:21:40.460362Z",
     "iopub.status.idle": "2022-04-11T07:21:40.463213Z",
     "shell.execute_reply": "2022-04-11T07:21:40.463627Z",
     "shell.execute_reply.started": "2022-04-11T06:24:04.834577Z"
    },
    "papermill": {
     "duration": 0.128814,
     "end_time": "2022-04-11T07:21:40.463764",
     "exception": false,
     "start_time": "2022-04-11T07:21:40.334950",
     "status": "completed"
    },
    "tags": []
   },
   "outputs": [
    {
     "data": {
      "text/plain": [
       "Counter({1: 52689, 0: 33538, 3: 277, 2: 163, 4: 15})"
      ]
     },
     "execution_count": 54,
     "metadata": {},
     "output_type": "execute_result"
    }
   ],
   "source": [
    "from collections import Counter\n",
    "Counter(set_labels)\n",
    "\n",
    "# To check the Counter starting from 0 to 5."
   ]
  },
  {
   "cell_type": "markdown",
   "id": "064f4d9d",
   "metadata": {
    "papermill": {
     "duration": 0.097973,
     "end_time": "2022-04-11T07:21:40.660280",
     "exception": false,
     "start_time": "2022-04-11T07:21:40.562307",
     "status": "completed"
    },
    "tags": []
   },
   "source": [
    "## A binary classification."
   ]
  },
  {
   "cell_type": "code",
   "execution_count": 55,
   "id": "37d45bfe",
   "metadata": {
    "execution": {
     "iopub.execute_input": "2022-04-11T07:21:40.862602Z",
     "iopub.status.busy": "2022-04-11T07:21:40.861761Z",
     "iopub.status.idle": "2022-04-11T07:21:40.865361Z",
     "shell.execute_reply": "2022-04-11T07:21:40.865831Z",
     "shell.execute_reply.started": "2022-04-11T06:24:04.867920Z"
    },
    "papermill": {
     "duration": 0.106321,
     "end_time": "2022-04-11T07:21:40.865959",
     "exception": false,
     "start_time": "2022-04-11T07:21:40.759638",
     "status": "completed"
    },
    "tags": []
   },
   "outputs": [
    {
     "name": "stderr",
     "output_type": "stream",
     "text": [
      "/opt/conda/lib/python3.7/site-packages/ipykernel_launcher.py:1: DeprecationWarning: `np.int` is a deprecated alias for the builtin `int`. To silence this warning, use `int` by itself. Doing this will not modify any behavior and is safe. When replacing `np.int`, you may wish to use e.g. `np.int64` or `np.int32` to specify the precision. If you wish to review your current use, check the release note link for additional information.\n",
      "Deprecated in NumPy 1.20; for more details and guidance: https://numpy.org/devdocs/release/1.20.0-notes.html#deprecations\n",
      "  \"\"\"Entry point for launching an IPython kernel.\n"
     ]
    }
   ],
   "source": [
    "set_bin_labels=(set_labels==1).astype(np.int)"
   ]
  },
  {
   "cell_type": "code",
   "execution_count": 56,
   "id": "43732587",
   "metadata": {
    "execution": {
     "iopub.execute_input": "2022-04-11T07:21:41.069886Z",
     "iopub.status.busy": "2022-04-11T07:21:41.068953Z",
     "iopub.status.idle": "2022-04-11T07:21:42.089336Z",
     "shell.execute_reply": "2022-04-11T07:21:42.089802Z",
     "shell.execute_reply.started": "2022-04-11T06:24:04.880056Z"
    },
    "papermill": {
     "duration": 1.126039,
     "end_time": "2022-04-11T07:21:42.089963",
     "exception": false,
     "start_time": "2022-04-11T07:21:40.963924",
     "status": "completed"
    },
    "tags": []
   },
   "outputs": [
    {
     "data": {
      "text/plain": [
       "LogisticRegression(penalty='l1', solver='liblinear')"
      ]
     },
     "execution_count": 56,
     "metadata": {},
     "output_type": "execute_result"
    }
   ],
   "source": [
    "from sklearn.linear_model import LogisticRegression\n",
    "\n",
    "sgd_clf=LogisticRegression(penalty='l1',solver='liblinear')\n",
    "sgd_clf.fit(set_prepared,set_bin_labels)"
   ]
  },
  {
   "cell_type": "code",
   "execution_count": 57,
   "id": "a277c366",
   "metadata": {
    "execution": {
     "iopub.execute_input": "2022-04-11T07:21:42.296155Z",
     "iopub.status.busy": "2022-04-11T07:21:42.295181Z",
     "iopub.status.idle": "2022-04-11T07:21:42.317442Z",
     "shell.execute_reply": "2022-04-11T07:21:42.317020Z",
     "shell.execute_reply.started": "2022-04-11T06:24:06.064642Z"
    },
    "papermill": {
     "duration": 0.125638,
     "end_time": "2022-04-11T07:21:42.317582",
     "exception": false,
     "start_time": "2022-04-11T07:21:42.191944",
     "status": "completed"
    },
    "tags": []
   },
   "outputs": [
    {
     "data": {
      "text/plain": [
       "array([[33850,   143],\n",
       "       [   36, 52653]])"
      ]
     },
     "execution_count": 57,
     "metadata": {},
     "output_type": "execute_result"
    }
   ],
   "source": [
    "from sklearn.metrics import confusion_matrix\n",
    "\n",
    "set_predictions=sgd_clf.predict(set_prepared)\n",
    "confusion_matrix(set_bin_labels,set_predictions)"
   ]
  },
  {
   "cell_type": "code",
   "execution_count": 58,
   "id": "d315835c",
   "metadata": {
    "execution": {
     "iopub.execute_input": "2022-04-11T07:21:42.531155Z",
     "iopub.status.busy": "2022-04-11T07:21:42.530055Z",
     "iopub.status.idle": "2022-04-11T07:21:42.591960Z",
     "shell.execute_reply": "2022-04-11T07:21:42.592365Z",
     "shell.execute_reply.started": "2022-04-11T06:24:06.093719Z"
    },
    "papermill": {
     "duration": 0.17485,
     "end_time": "2022-04-11T07:21:42.592564",
     "exception": false,
     "start_time": "2022-04-11T07:21:42.417714",
     "status": "completed"
    },
    "tags": []
   },
   "outputs": [
    {
     "name": "stderr",
     "output_type": "stream",
     "text": [
      "/opt/conda/lib/python3.7/site-packages/ipykernel_launcher.py:9: DeprecationWarning: `np.int` is a deprecated alias for the builtin `int`. To silence this warning, use `int` by itself. Doing this will not modify any behavior and is safe. When replacing `np.int`, you may wish to use e.g. `np.int64` or `np.int32` to specify the precision. If you wish to review your current use, check the release note link for additional information.\n",
      "Deprecated in NumPy 1.20; for more details and guidance: https://numpy.org/devdocs/release/1.20.0-notes.html#deprecations\n",
      "  if __name__ == '__main__':\n"
     ]
    }
   ],
   "source": [
    "x_val=strat_val_set.drop(['target','num_root','srv_serror_rate','srv_rerror_rate','dst_host_srv_serror_rate','dst_host_srv_rerror_rate',\n",
    "                          'dst_host_serror_rate','dst_host_rerror_rate','dst_host_same_srv_rate','num_outbound_cmds','is_host_login'],axis=1)\n",
    "y_val=strat_val_set['target'].copy()\n",
    "\n",
    "x_val_prepared=full_pipeline.transform(x_val)\n",
    "validation_prediction=sgd_clf.predict(x_val_prepared)\n",
    "\n",
    "y_val=target_encoder.transform(y_val)\n",
    "y_bin_val=(y_val==1).astype(np.int)"
   ]
  },
  {
   "cell_type": "code",
   "execution_count": 59,
   "id": "6eaa40a0",
   "metadata": {
    "execution": {
     "iopub.execute_input": "2022-04-11T07:21:42.798678Z",
     "iopub.status.busy": "2022-04-11T07:21:42.797807Z",
     "iopub.status.idle": "2022-04-11T07:21:42.823609Z",
     "shell.execute_reply": "2022-04-11T07:21:42.823080Z",
     "shell.execute_reply.started": "2022-04-11T06:24:06.177842Z"
    },
    "papermill": {
     "duration": 0.130557,
     "end_time": "2022-04-11T07:21:42.823744",
     "exception": false,
     "start_time": "2022-04-11T07:21:42.693187",
     "status": "completed"
    },
    "tags": []
   },
   "outputs": [
    {
     "name": "stdout",
     "output_type": "stream",
     "text": [
      "0.9857044732549154\n",
      "0.9846686449060337\n",
      "0.9917455347612609\n"
     ]
    },
    {
     "data": {
      "text/plain": [
       "array([[ 9024,   217],\n",
       "       [  116, 13937]])"
      ]
     },
     "execution_count": 59,
     "metadata": {},
     "output_type": "execute_result"
    }
   ],
   "source": [
    "from sklearn.metrics import accuracy_score,precision_score,recall_score,confusion_matrix\n",
    "\n",
    "print(accuracy_score(y_bin_val,validation_prediction))\n",
    "print(precision_score(y_bin_val,validation_prediction))\n",
    "print(recall_score(y_bin_val,validation_prediction))\n",
    "confusion_matrix(y_bin_val,validation_prediction)"
   ]
  },
  {
   "cell_type": "markdown",
   "id": "0cc7f97e",
   "metadata": {
    "papermill": {
     "duration": 0.102052,
     "end_time": "2022-04-11T07:21:43.026241",
     "exception": false,
     "start_time": "2022-04-11T07:21:42.924189",
     "status": "completed"
    },
    "tags": []
   },
   "source": [
    "### Selecting and training a model."
   ]
  },
  {
   "cell_type": "code",
   "execution_count": 60,
   "id": "2a82c1b4",
   "metadata": {
    "execution": {
     "iopub.execute_input": "2022-04-11T07:21:43.236712Z",
     "iopub.status.busy": "2022-04-11T07:21:43.235718Z",
     "iopub.status.idle": "2022-04-11T07:22:06.255358Z",
     "shell.execute_reply": "2022-04-11T07:22:06.255774Z",
     "shell.execute_reply.started": "2022-04-11T06:24:06.213164Z"
    },
    "papermill": {
     "duration": 23.126263,
     "end_time": "2022-04-11T07:22:06.255935",
     "exception": false,
     "start_time": "2022-04-11T07:21:43.129672",
     "status": "completed"
    },
    "tags": []
   },
   "outputs": [
    {
     "data": {
      "text/plain": [
       "LogisticRegression(max_iter=1000, multi_class='multinomial')"
      ]
     },
     "execution_count": 60,
     "metadata": {},
     "output_type": "execute_result"
    }
   ],
   "source": [
    "from sklearn.linear_model import LogisticRegression\n",
    "\n",
    "softmax_reg=LogisticRegression(multi_class='multinomial',max_iter=1000)\n",
    "softmax_reg.fit(set_prepared,set_labels)"
   ]
  },
  {
   "cell_type": "markdown",
   "id": "f55fa790",
   "metadata": {
    "papermill": {
     "duration": 0.107766,
     "end_time": "2022-04-11T07:22:06.468136",
     "exception": false,
     "start_time": "2022-04-11T07:22:06.360370",
     "status": "completed"
    },
    "tags": []
   },
   "source": [
    "##### Prediction."
   ]
  },
  {
   "cell_type": "code",
   "execution_count": 61,
   "id": "15cab7f5",
   "metadata": {
    "execution": {
     "iopub.execute_input": "2022-04-11T07:22:06.681942Z",
     "iopub.status.busy": "2022-04-11T07:22:06.681309Z",
     "iopub.status.idle": "2022-04-11T07:22:06.683996Z",
     "shell.execute_reply": "2022-04-11T07:22:06.684580Z",
     "shell.execute_reply.started": "2022-04-11T06:24:41.435424Z"
    },
    "papermill": {
     "duration": 0.116082,
     "end_time": "2022-04-11T07:22:06.684755",
     "exception": false,
     "start_time": "2022-04-11T07:22:06.568673",
     "status": "completed"
    },
    "tags": []
   },
   "outputs": [
    {
     "name": "stdout",
     "output_type": "stream",
     "text": [
      "Predictions: [1 0 1 1 2]\n",
      "labels: [1, 0, 1, 1, 0]\n"
     ]
    }
   ],
   "source": [
    "some_data = set.iloc[:5]\n",
    "some_labels = set_labels[:5]\n",
    "some_data_prepared = full_pipeline.transform(some_data)\n",
    "\n",
    "print(\"Predictions:\", softmax_reg.predict(some_data_prepared))\n",
    "print(\"labels:\", list(some_labels))"
   ]
  },
  {
   "cell_type": "code",
   "execution_count": 62,
   "id": "fc18e552",
   "metadata": {
    "execution": {
     "iopub.execute_input": "2022-04-11T07:22:06.898590Z",
     "iopub.status.busy": "2022-04-11T07:22:06.897474Z",
     "iopub.status.idle": "2022-04-11T07:22:06.924470Z",
     "shell.execute_reply": "2022-04-11T07:22:06.924054Z",
     "shell.execute_reply.started": "2022-04-11T06:24:41.455015Z"
    },
    "papermill": {
     "duration": 0.13653,
     "end_time": "2022-04-11T07:22:06.924600",
     "exception": false,
     "start_time": "2022-04-11T07:22:06.788070",
     "status": "completed"
    },
    "tags": []
   },
   "outputs": [
    {
     "data": {
      "text/plain": [
       "array([[33524,    14,     0,     0,     0],\n",
       "       [   10, 52666,     6,     6,     1],\n",
       "       [    4,    35,   124,     0,     0],\n",
       "       [    0,    34,     0,   243,     0],\n",
       "       [    0,     6,     0,     2,     7]])"
      ]
     },
     "execution_count": 62,
     "metadata": {},
     "output_type": "execute_result"
    }
   ],
   "source": [
    "# Confusion matrix.\n",
    "from sklearn.metrics import confusion_matrix\n",
    "\n",
    "set_predictions=softmax_reg.predict(set_prepared)\n",
    "confusion_matrix(set_labels,set_predictions)"
   ]
  },
  {
   "cell_type": "code",
   "execution_count": 63,
   "id": "25a23fee",
   "metadata": {
    "execution": {
     "iopub.execute_input": "2022-04-11T07:22:07.135220Z",
     "iopub.status.busy": "2022-04-11T07:22:07.134274Z",
     "iopub.status.idle": "2022-04-11T07:22:07.150423Z",
     "shell.execute_reply": "2022-04-11T07:22:07.150027Z",
     "shell.execute_reply.started": "2022-04-11T06:24:41.496590Z"
    },
    "papermill": {
     "duration": 0.123643,
     "end_time": "2022-04-11T07:22:07.150560",
     "exception": false,
     "start_time": "2022-04-11T07:22:07.026917",
     "status": "completed"
    },
    "tags": []
   },
   "outputs": [
    {
     "data": {
      "text/plain": [
       "KNeighborsClassifier()"
      ]
     },
     "execution_count": 63,
     "metadata": {},
     "output_type": "execute_result"
    }
   ],
   "source": [
    "# KNN classifier.\n",
    "\n",
    "from sklearn.neighbors import KNeighborsClassifier\n",
    "\n",
    "neigh_clf = KNeighborsClassifier()\n",
    "neigh_clf.fit(set_prepared,set_labels)"
   ]
  },
  {
   "cell_type": "code",
   "execution_count": 64,
   "id": "f1cd855c",
   "metadata": {
    "execution": {
     "iopub.execute_input": "2022-04-11T07:22:07.362815Z",
     "iopub.status.busy": "2022-04-11T07:22:07.361871Z",
     "iopub.status.idle": "2022-04-11T07:34:36.632387Z",
     "shell.execute_reply": "2022-04-11T07:34:36.632830Z",
     "shell.execute_reply.started": "2022-04-11T06:24:41.522798Z"
    },
    "papermill": {
     "duration": 749.379859,
     "end_time": "2022-04-11T07:34:36.633000",
     "exception": false,
     "start_time": "2022-04-11T07:22:07.253141",
     "status": "completed"
    },
    "tags": []
   },
   "outputs": [
    {
     "data": {
      "text/plain": [
       "array([[33530,     7,     1,     0,     0],\n",
       "       [    6, 52667,     3,    13,     0],\n",
       "       [    3,    16,   144,     0,     0],\n",
       "       [    0,    15,     0,   262,     0],\n",
       "       [    0,    11,     0,     2,     2]])"
      ]
     },
     "execution_count": 64,
     "metadata": {},
     "output_type": "execute_result"
    }
   ],
   "source": [
    "from sklearn.metrics import confusion_matrix\n",
    "\n",
    "set_predictions=neigh_clf.predict(set_prepared)\n",
    "confusion_matrix(set_labels,set_predictions)"
   ]
  },
  {
   "cell_type": "markdown",
   "id": "5237d242",
   "metadata": {
    "papermill": {
     "duration": 0.102874,
     "end_time": "2022-04-11T07:34:36.837910",
     "exception": false,
     "start_time": "2022-04-11T07:34:36.735036",
     "status": "completed"
    },
    "tags": []
   },
   "source": [
    "### Evaluating the model."
   ]
  },
  {
   "cell_type": "code",
   "execution_count": 65,
   "id": "bc8b4239",
   "metadata": {
    "execution": {
     "iopub.execute_input": "2022-04-11T07:34:37.056356Z",
     "iopub.status.busy": "2022-04-11T07:34:37.055127Z",
     "iopub.status.idle": "2022-04-11T07:34:37.114909Z",
     "shell.execute_reply": "2022-04-11T07:34:37.114360Z",
     "shell.execute_reply.started": "2022-04-11T06:37:12.526121Z"
    },
    "papermill": {
     "duration": 0.175199,
     "end_time": "2022-04-11T07:34:37.115060",
     "exception": false,
     "start_time": "2022-04-11T07:34:36.939861",
     "status": "completed"
    },
    "tags": []
   },
   "outputs": [],
   "source": [
    "x_val=strat_val_set.drop(['target','num_root','srv_serror_rate','srv_rerror_rate','dst_host_srv_serror_rate','dst_host_srv_rerror_rate',\n",
    "                          'dst_host_serror_rate','dst_host_rerror_rate','dst_host_same_srv_rate','num_outbound_cmds','is_host_login'],axis=1)\n",
    "\n",
    "y_val=strat_val_set['target'].copy()\n",
    "\n",
    "x_val_prepared=full_pipeline.transform(x_val)\n",
    "y_val=target_encoder.transform(y_val)"
   ]
  },
  {
   "cell_type": "code",
   "execution_count": 66,
   "id": "506d5f05",
   "metadata": {
    "execution": {
     "iopub.execute_input": "2022-04-11T07:34:37.325632Z",
     "iopub.status.busy": "2022-04-11T07:34:37.324866Z",
     "iopub.status.idle": "2022-04-11T07:34:37.331370Z",
     "shell.execute_reply": "2022-04-11T07:34:37.330956Z",
     "shell.execute_reply.started": "2022-04-11T06:37:12.608436Z"
    },
    "papermill": {
     "duration": 0.112739,
     "end_time": "2022-04-11T07:34:37.331514",
     "exception": false,
     "start_time": "2022-04-11T07:34:37.218775",
     "status": "completed"
    },
    "tags": []
   },
   "outputs": [],
   "source": [
    "validation_prediction=softmax_reg.predict(x_val_prepared)"
   ]
  },
  {
   "cell_type": "code",
   "execution_count": 67,
   "id": "fd68a6ee",
   "metadata": {
    "execution": {
     "iopub.execute_input": "2022-04-11T07:34:37.541273Z",
     "iopub.status.busy": "2022-04-11T07:34:37.540081Z",
     "iopub.status.idle": "2022-04-11T07:34:37.562962Z",
     "shell.execute_reply": "2022-04-11T07:34:37.563546Z",
     "shell.execute_reply.started": "2022-04-11T06:37:12.619514Z"
    },
    "papermill": {
     "duration": 0.130509,
     "end_time": "2022-04-11T07:34:37.563716",
     "exception": false,
     "start_time": "2022-04-11T07:34:37.433207",
     "status": "completed"
    },
    "tags": []
   },
   "outputs": [
    {
     "name": "stdout",
     "output_type": "stream",
     "text": [
      "0.9781488795397957\n",
      "0.9773132479051848\n",
      "0.9781488795397957\n"
     ]
    },
    {
     "data": {
      "text/plain": [
       "array([[ 8565,   153,    14,     0,     0],\n",
       "       [   24, 13947,    77,     3,     2],\n",
       "       [  117,    26,   195,     3,     0],\n",
       "       [   48,    35,     1,    72,     4],\n",
       "       [    0,     2,     0,     0,     6]])"
      ]
     },
     "execution_count": 67,
     "metadata": {},
     "output_type": "execute_result"
    }
   ],
   "source": [
    "from sklearn.metrics import accuracy_score,precision_score,recall_score,confusion_matrix\n",
    "\n",
    "print(accuracy_score(y_val,validation_prediction))\n",
    "print(precision_score(y_val,validation_prediction,average='weighted'))\n",
    "print(recall_score(y_val,validation_prediction,average='weighted'))\n",
    "confusion_matrix(y_val,validation_prediction)"
   ]
  },
  {
   "cell_type": "markdown",
   "id": "8d8415de",
   "metadata": {
    "papermill": {
     "duration": 0.102398,
     "end_time": "2022-04-11T07:34:37.769350",
     "exception": false,
     "start_time": "2022-04-11T07:34:37.666952",
     "status": "completed"
    },
    "tags": []
   },
   "source": [
    "#### Validating the predictions."
   ]
  },
  {
   "cell_type": "code",
   "execution_count": 68,
   "id": "c03b139b",
   "metadata": {
    "execution": {
     "iopub.execute_input": "2022-04-11T07:34:37.979140Z",
     "iopub.status.busy": "2022-04-11T07:34:37.978272Z",
     "iopub.status.idle": "2022-04-11T07:37:57.939674Z",
     "shell.execute_reply": "2022-04-11T07:37:57.940119Z",
     "shell.execute_reply.started": "2022-04-11T06:37:12.650207Z"
    },
    "papermill": {
     "duration": 200.068252,
     "end_time": "2022-04-11T07:37:57.940301",
     "exception": false,
     "start_time": "2022-04-11T07:34:37.872049",
     "status": "completed"
    },
    "tags": []
   },
   "outputs": [],
   "source": [
    "validation_prediction=neigh_clf.predict(x_val_prepared)"
   ]
  },
  {
   "cell_type": "code",
   "execution_count": 69,
   "id": "07129a4e",
   "metadata": {
    "execution": {
     "iopub.execute_input": "2022-04-11T07:37:58.213757Z",
     "iopub.status.busy": "2022-04-11T07:37:58.212457Z",
     "iopub.status.idle": "2022-04-11T07:37:58.233999Z",
     "shell.execute_reply": "2022-04-11T07:37:58.234571Z",
     "shell.execute_reply.started": "2022-04-11T06:40:36.578068Z"
    },
    "papermill": {
     "duration": 0.130991,
     "end_time": "2022-04-11T07:37:58.234745",
     "exception": false,
     "start_time": "2022-04-11T07:37:58.103754",
     "status": "completed"
    },
    "tags": []
   },
   "outputs": [
    {
     "name": "stdout",
     "output_type": "stream",
     "text": [
      "0.9736412810165708\n",
      "0.9728014100777742\n",
      "0.9736412810165708\n"
     ]
    },
    {
     "data": {
      "text/plain": [
       "array([[ 8486,   244,     2,     0,     0],\n",
       "       [    2, 14035,    12,     4,     0],\n",
       "       [    8,   249,    84,     0,     0],\n",
       "       [    1,    84,     1,    74,     0],\n",
       "       [    0,     6,     0,     1,     1]])"
      ]
     },
     "execution_count": 69,
     "metadata": {},
     "output_type": "execute_result"
    }
   ],
   "source": [
    "from sklearn.metrics import accuracy_score,precision_score,recall_score,confusion_matrix\n",
    "\n",
    "print(accuracy_score(y_val,validation_prediction))\n",
    "print(precision_score(y_val,validation_prediction,average='weighted'))\n",
    "print(recall_score(y_val,validation_prediction,average='weighted'))\n",
    "confusion_matrix(y_val,validation_prediction)"
   ]
  },
  {
   "cell_type": "markdown",
   "id": "63eb2eb3",
   "metadata": {
    "papermill": {
     "duration": 0.102915,
     "end_time": "2022-04-11T07:37:58.441116",
     "exception": false,
     "start_time": "2022-04-11T07:37:58.338201",
     "status": "completed"
    },
    "tags": []
   },
   "source": [
    "### Fine tuning the trained model."
   ]
  },
  {
   "cell_type": "markdown",
   "id": "914203a5",
   "metadata": {
    "papermill": {
     "duration": 0.105467,
     "end_time": "2022-04-11T07:37:58.650073",
     "exception": false,
     "start_time": "2022-04-11T07:37:58.544606",
     "status": "completed"
    },
    "tags": []
   },
   "source": [
    "#### By analysing the above two model we came to know that Softmax is more efficient as compared to KNN."
   ]
  },
  {
   "cell_type": "code",
   "execution_count": 70,
   "id": "f072a3b4",
   "metadata": {
    "execution": {
     "iopub.execute_input": "2022-04-11T07:37:58.866346Z",
     "iopub.status.busy": "2022-04-11T07:37:58.865587Z",
     "iopub.status.idle": "2022-04-11T08:22:56.649203Z",
     "shell.execute_reply": "2022-04-11T08:22:56.648568Z",
     "shell.execute_reply.started": "2022-04-11T06:40:36.608071Z"
    },
    "papermill": {
     "duration": 2697.895244,
     "end_time": "2022-04-11T08:22:56.649373",
     "exception": false,
     "start_time": "2022-04-11T07:37:58.754129",
     "status": "completed"
    },
    "tags": []
   },
   "outputs": [
    {
     "name": "stdout",
     "output_type": "stream",
     "text": [
      "Fitting 3 folds for each of 35 candidates, totalling 105 fits\n"
     ]
    },
    {
     "name": "stderr",
     "output_type": "stream",
     "text": [
      "/opt/conda/lib/python3.7/site-packages/sklearn/linear_model/_sag.py:354: ConvergenceWarning: The max_iter was reached which means the coef_ did not converge\n",
      "  ConvergenceWarning,\n",
      "/opt/conda/lib/python3.7/site-packages/sklearn/linear_model/_sag.py:354: ConvergenceWarning: The max_iter was reached which means the coef_ did not converge\n",
      "  ConvergenceWarning,\n",
      "/opt/conda/lib/python3.7/site-packages/sklearn/linear_model/_sag.py:354: ConvergenceWarning: The max_iter was reached which means the coef_ did not converge\n",
      "  ConvergenceWarning,\n",
      "/opt/conda/lib/python3.7/site-packages/sklearn/linear_model/_sag.py:354: ConvergenceWarning: The max_iter was reached which means the coef_ did not converge\n",
      "  ConvergenceWarning,\n",
      "/opt/conda/lib/python3.7/site-packages/sklearn/linear_model/_sag.py:354: ConvergenceWarning: The max_iter was reached which means the coef_ did not converge\n",
      "  ConvergenceWarning,\n",
      "/opt/conda/lib/python3.7/site-packages/sklearn/linear_model/_sag.py:354: ConvergenceWarning: The max_iter was reached which means the coef_ did not converge\n",
      "  ConvergenceWarning,\n",
      "/opt/conda/lib/python3.7/site-packages/sklearn/linear_model/_sag.py:354: ConvergenceWarning: The max_iter was reached which means the coef_ did not converge\n",
      "  ConvergenceWarning,\n",
      "/opt/conda/lib/python3.7/site-packages/sklearn/linear_model/_logistic.py:818: ConvergenceWarning: lbfgs failed to converge (status=1):\n",
      "STOP: TOTAL NO. of ITERATIONS REACHED LIMIT.\n",
      "\n",
      "Increase the number of iterations (max_iter) or scale the data as shown in:\n",
      "    https://scikit-learn.org/stable/modules/preprocessing.html\n",
      "Please also refer to the documentation for alternative solver options:\n",
      "    https://scikit-learn.org/stable/modules/linear_model.html#logistic-regression\n",
      "  extra_warning_msg=_LOGISTIC_SOLVER_CONVERGENCE_MSG,\n",
      "/opt/conda/lib/python3.7/site-packages/sklearn/linear_model/_logistic.py:818: ConvergenceWarning: lbfgs failed to converge (status=1):\n",
      "STOP: TOTAL NO. of ITERATIONS REACHED LIMIT.\n",
      "\n",
      "Increase the number of iterations (max_iter) or scale the data as shown in:\n",
      "    https://scikit-learn.org/stable/modules/preprocessing.html\n",
      "Please also refer to the documentation for alternative solver options:\n",
      "    https://scikit-learn.org/stable/modules/linear_model.html#logistic-regression\n",
      "  extra_warning_msg=_LOGISTIC_SOLVER_CONVERGENCE_MSG,\n",
      "/opt/conda/lib/python3.7/site-packages/sklearn/linear_model/_sag.py:354: ConvergenceWarning: The max_iter was reached which means the coef_ did not converge\n",
      "  ConvergenceWarning,\n",
      "/opt/conda/lib/python3.7/site-packages/sklearn/linear_model/_sag.py:354: ConvergenceWarning: The max_iter was reached which means the coef_ did not converge\n",
      "  ConvergenceWarning,\n",
      "/opt/conda/lib/python3.7/site-packages/sklearn/linear_model/_sag.py:354: ConvergenceWarning: The max_iter was reached which means the coef_ did not converge\n",
      "  ConvergenceWarning,\n",
      "/opt/conda/lib/python3.7/site-packages/sklearn/linear_model/_logistic.py:818: ConvergenceWarning: lbfgs failed to converge (status=1):\n",
      "STOP: TOTAL NO. of ITERATIONS REACHED LIMIT.\n",
      "\n",
      "Increase the number of iterations (max_iter) or scale the data as shown in:\n",
      "    https://scikit-learn.org/stable/modules/preprocessing.html\n",
      "Please also refer to the documentation for alternative solver options:\n",
      "    https://scikit-learn.org/stable/modules/linear_model.html#logistic-regression\n",
      "  extra_warning_msg=_LOGISTIC_SOLVER_CONVERGENCE_MSG,\n",
      "/opt/conda/lib/python3.7/site-packages/sklearn/linear_model/_logistic.py:818: ConvergenceWarning: lbfgs failed to converge (status=1):\n",
      "STOP: TOTAL NO. of ITERATIONS REACHED LIMIT.\n",
      "\n",
      "Increase the number of iterations (max_iter) or scale the data as shown in:\n",
      "    https://scikit-learn.org/stable/modules/preprocessing.html\n",
      "Please also refer to the documentation for alternative solver options:\n",
      "    https://scikit-learn.org/stable/modules/linear_model.html#logistic-regression\n",
      "  extra_warning_msg=_LOGISTIC_SOLVER_CONVERGENCE_MSG,\n",
      "/opt/conda/lib/python3.7/site-packages/sklearn/linear_model/_sag.py:354: ConvergenceWarning: The max_iter was reached which means the coef_ did not converge\n",
      "  ConvergenceWarning,\n",
      "/opt/conda/lib/python3.7/site-packages/sklearn/linear_model/_sag.py:354: ConvergenceWarning: The max_iter was reached which means the coef_ did not converge\n",
      "  ConvergenceWarning,\n",
      "/opt/conda/lib/python3.7/site-packages/sklearn/linear_model/_sag.py:354: ConvergenceWarning: The max_iter was reached which means the coef_ did not converge\n",
      "  ConvergenceWarning,\n",
      "/opt/conda/lib/python3.7/site-packages/sklearn/linear_model/_sag.py:354: ConvergenceWarning: The max_iter was reached which means the coef_ did not converge\n",
      "  ConvergenceWarning,\n",
      "/opt/conda/lib/python3.7/site-packages/sklearn/linear_model/_sag.py:354: ConvergenceWarning: The max_iter was reached which means the coef_ did not converge\n",
      "  ConvergenceWarning,\n",
      "/opt/conda/lib/python3.7/site-packages/sklearn/linear_model/_sag.py:354: ConvergenceWarning: The max_iter was reached which means the coef_ did not converge\n",
      "  ConvergenceWarning,\n",
      "/opt/conda/lib/python3.7/site-packages/sklearn/linear_model/_logistic.py:818: ConvergenceWarning: lbfgs failed to converge (status=1):\n",
      "STOP: TOTAL NO. of ITERATIONS REACHED LIMIT.\n",
      "\n",
      "Increase the number of iterations (max_iter) or scale the data as shown in:\n",
      "    https://scikit-learn.org/stable/modules/preprocessing.html\n",
      "Please also refer to the documentation for alternative solver options:\n",
      "    https://scikit-learn.org/stable/modules/linear_model.html#logistic-regression\n",
      "  extra_warning_msg=_LOGISTIC_SOLVER_CONVERGENCE_MSG,\n",
      "/opt/conda/lib/python3.7/site-packages/sklearn/linear_model/_logistic.py:818: ConvergenceWarning: lbfgs failed to converge (status=1):\n",
      "STOP: TOTAL NO. of ITERATIONS REACHED LIMIT.\n",
      "\n",
      "Increase the number of iterations (max_iter) or scale the data as shown in:\n",
      "    https://scikit-learn.org/stable/modules/preprocessing.html\n",
      "Please also refer to the documentation for alternative solver options:\n",
      "    https://scikit-learn.org/stable/modules/linear_model.html#logistic-regression\n",
      "  extra_warning_msg=_LOGISTIC_SOLVER_CONVERGENCE_MSG,\n",
      "/opt/conda/lib/python3.7/site-packages/sklearn/linear_model/_logistic.py:818: ConvergenceWarning: lbfgs failed to converge (status=1):\n",
      "STOP: TOTAL NO. of ITERATIONS REACHED LIMIT.\n",
      "\n",
      "Increase the number of iterations (max_iter) or scale the data as shown in:\n",
      "    https://scikit-learn.org/stable/modules/preprocessing.html\n",
      "Please also refer to the documentation for alternative solver options:\n",
      "    https://scikit-learn.org/stable/modules/linear_model.html#logistic-regression\n",
      "  extra_warning_msg=_LOGISTIC_SOLVER_CONVERGENCE_MSG,\n",
      "/opt/conda/lib/python3.7/site-packages/sklearn/linear_model/_sag.py:354: ConvergenceWarning: The max_iter was reached which means the coef_ did not converge\n",
      "  ConvergenceWarning,\n",
      "/opt/conda/lib/python3.7/site-packages/sklearn/linear_model/_sag.py:354: ConvergenceWarning: The max_iter was reached which means the coef_ did not converge\n",
      "  ConvergenceWarning,\n",
      "/opt/conda/lib/python3.7/site-packages/sklearn/linear_model/_sag.py:354: ConvergenceWarning: The max_iter was reached which means the coef_ did not converge\n",
      "  ConvergenceWarning,\n",
      "/opt/conda/lib/python3.7/site-packages/sklearn/linear_model/_sag.py:354: ConvergenceWarning: The max_iter was reached which means the coef_ did not converge\n",
      "  ConvergenceWarning,\n",
      "/opt/conda/lib/python3.7/site-packages/sklearn/linear_model/_sag.py:354: ConvergenceWarning: The max_iter was reached which means the coef_ did not converge\n",
      "  ConvergenceWarning,\n",
      "/opt/conda/lib/python3.7/site-packages/sklearn/linear_model/_sag.py:354: ConvergenceWarning: The max_iter was reached which means the coef_ did not converge\n",
      "  ConvergenceWarning,\n",
      "/opt/conda/lib/python3.7/site-packages/sklearn/linear_model/_sag.py:354: ConvergenceWarning: The max_iter was reached which means the coef_ did not converge\n",
      "  ConvergenceWarning,\n",
      "/opt/conda/lib/python3.7/site-packages/sklearn/linear_model/_sag.py:354: ConvergenceWarning: The max_iter was reached which means the coef_ did not converge\n",
      "  ConvergenceWarning,\n",
      "/opt/conda/lib/python3.7/site-packages/sklearn/linear_model/_sag.py:354: ConvergenceWarning: The max_iter was reached which means the coef_ did not converge\n",
      "  ConvergenceWarning,\n",
      "/opt/conda/lib/python3.7/site-packages/sklearn/linear_model/_sag.py:354: ConvergenceWarning: The max_iter was reached which means the coef_ did not converge\n",
      "  ConvergenceWarning,\n",
      "/opt/conda/lib/python3.7/site-packages/sklearn/linear_model/_logistic.py:818: ConvergenceWarning: lbfgs failed to converge (status=1):\n",
      "STOP: TOTAL NO. of ITERATIONS REACHED LIMIT.\n",
      "\n",
      "Increase the number of iterations (max_iter) or scale the data as shown in:\n",
      "    https://scikit-learn.org/stable/modules/preprocessing.html\n",
      "Please also refer to the documentation for alternative solver options:\n",
      "    https://scikit-learn.org/stable/modules/linear_model.html#logistic-regression\n",
      "  extra_warning_msg=_LOGISTIC_SOLVER_CONVERGENCE_MSG,\n"
     ]
    },
    {
     "data": {
      "text/plain": [
       "GridSearchCV(cv=3,\n",
       "             estimator=LogisticRegression(max_iter=1000,\n",
       "                                          multi_class='multinomial'),\n",
       "             n_jobs=-1,\n",
       "             param_grid=[{'C': [0.001, 0.01, 0.1, 1, 10, 100, 1000],\n",
       "                          'max_iter': [400], 'multi_class': ['multinomial'],\n",
       "                          'penalty': ['l2'],\n",
       "                          'solver': ['newton-cg', 'lbfgs', 'sag', 'saga']},\n",
       "                         {'C': [0.001, 0.01, 0.1, 1, 10, 100, 1000],\n",
       "                          'max_iter': [400], 'multi_class': ['multinomial'],\n",
       "                          'penalty': ['l1'], 'solver': ['saga']}],\n",
       "             verbose=2)"
      ]
     },
     "execution_count": 70,
     "metadata": {},
     "output_type": "execute_result"
    }
   ],
   "source": [
    "from sklearn.model_selection import GridSearchCV\n",
    "from sklearn.linear_model import LogisticRegression\n",
    "from sklearn.metrics import f1_score\n",
    "\n",
    "params_grid=[\n",
    "    {\n",
    "        'penalty' : ['l2'],\n",
    "        'C': [0.001, 0.01, 0.1, 1, 10, 100, 1000],\n",
    "        'multi_class' : ['multinomial'],\n",
    "        'solver' : ['newton-cg', 'lbfgs', 'sag', 'saga'],\n",
    "        'max_iter' : [400]\n",
    "    },\n",
    "    {\n",
    "        'penalty' : ['l1'],\n",
    "        'C': [0.001, 0.01, 0.1, 1, 10, 100, 1000],\n",
    "        'multi_class' : ['multinomial'],\n",
    "        'solver' : ['saga'],\n",
    "        'max_iter' : [400]\n",
    "    }\n",
    "]\n",
    "\n",
    "grid_search=GridSearchCV(softmax_reg,params_grid,cv=3,verbose=2,n_jobs=-1)\n",
    "grid_search.fit(set_prepared,set_labels)"
   ]
  },
  {
   "cell_type": "code",
   "execution_count": 71,
   "id": "249ac133",
   "metadata": {
    "execution": {
     "iopub.execute_input": "2022-04-11T08:22:56.868295Z",
     "iopub.status.busy": "2022-04-11T08:22:56.867558Z",
     "iopub.status.idle": "2022-04-11T08:22:56.870255Z",
     "shell.execute_reply": "2022-04-11T08:22:56.870672Z",
     "shell.execute_reply.started": "2022-04-11T07:07:49.950008Z"
    },
    "papermill": {
     "duration": 0.115237,
     "end_time": "2022-04-11T08:22:56.870805",
     "exception": false,
     "start_time": "2022-04-11T08:22:56.755568",
     "status": "completed"
    },
    "tags": []
   },
   "outputs": [
    {
     "data": {
      "text/plain": [
       "({'C': 1000,\n",
       "  'max_iter': 400,\n",
       "  'multi_class': 'multinomial',\n",
       "  'penalty': 'l2',\n",
       "  'solver': 'lbfgs'},\n",
       " 0.998500265337671)"
      ]
     },
     "execution_count": 71,
     "metadata": {},
     "output_type": "execute_result"
    }
   ],
   "source": [
    "best_params,best_score=grid_search.best_params_,grid_search.best_score_\n",
    "best_params,best_score"
   ]
  },
  {
   "cell_type": "markdown",
   "id": "e7b51ed1",
   "metadata": {
    "papermill": {
     "duration": 0.109,
     "end_time": "2022-04-11T08:22:57.095349",
     "exception": false,
     "start_time": "2022-04-11T08:22:56.986349",
     "status": "completed"
    },
    "tags": []
   },
   "source": [
    "### Evaluation."
   ]
  },
  {
   "cell_type": "code",
   "execution_count": 72,
   "id": "08e549ec",
   "metadata": {
    "execution": {
     "iopub.execute_input": "2022-04-11T08:22:57.324803Z",
     "iopub.status.busy": "2022-04-11T08:22:57.323555Z",
     "iopub.status.idle": "2022-04-11T08:22:57.405934Z",
     "shell.execute_reply": "2022-04-11T08:22:57.405407Z",
     "shell.execute_reply.started": "2022-04-11T07:07:49.958617Z"
    },
    "papermill": {
     "duration": 0.202977,
     "end_time": "2022-04-11T08:22:57.406066",
     "exception": false,
     "start_time": "2022-04-11T08:22:57.203089",
     "status": "completed"
    },
    "tags": []
   },
   "outputs": [],
   "source": [
    "x_test=strat_test_set.drop(['target','num_root','srv_serror_rate','srv_rerror_rate','dst_host_srv_serror_rate','dst_host_srv_rerror_rate',\n",
    "                          'dst_host_serror_rate','dst_host_rerror_rate','dst_host_same_srv_rate','num_outbound_cmds','is_host_login'],axis=1)\n",
    "\n",
    "y_test=strat_test_set['target'].copy()\n",
    "\n",
    "x_test_prepared=full_pipeline.transform(x_test)\n",
    "y_test=target_encoder.transform(y_test)"
   ]
  },
  {
   "cell_type": "code",
   "execution_count": 73,
   "id": "e8d9ac6e",
   "metadata": {
    "execution": {
     "iopub.execute_input": "2022-04-11T08:22:57.621686Z",
     "iopub.status.busy": "2022-04-11T08:22:57.620902Z",
     "iopub.status.idle": "2022-04-11T08:22:57.636840Z",
     "shell.execute_reply": "2022-04-11T08:22:57.637208Z",
     "shell.execute_reply.started": "2022-04-11T07:07:50.076473Z"
    },
    "papermill": {
     "duration": 0.125444,
     "end_time": "2022-04-11T08:22:57.637345",
     "exception": false,
     "start_time": "2022-04-11T08:22:57.511901",
     "status": "completed"
    },
    "tags": []
   },
   "outputs": [
    {
     "data": {
      "text/plain": [
       "0.9777620929750681"
      ]
     },
     "execution_count": 73,
     "metadata": {},
     "output_type": "execute_result"
    }
   ],
   "source": [
    "test_prediction=grid_search.best_estimator_.predict(x_test_prepared)\n",
    "f1_score(y_test,test_prediction,average='weighted')"
   ]
  },
  {
   "cell_type": "markdown",
   "id": "3dcf4a8f",
   "metadata": {
    "papermill": {
     "duration": 0.10994,
     "end_time": "2022-04-11T08:22:57.852890",
     "exception": false,
     "start_time": "2022-04-11T08:22:57.742950",
     "status": "completed"
    },
    "tags": []
   },
   "source": [
    "# Nearly 98% efficiency."
   ]
  }
 ],
 "metadata": {
  "kernelspec": {
   "display_name": "Python 3",
   "language": "python",
   "name": "python3"
  },
  "language_info": {
   "codemirror_mode": {
    "name": "ipython",
    "version": 3
   },
   "file_extension": ".py",
   "mimetype": "text/x-python",
   "name": "python",
   "nbconvert_exporter": "python",
   "pygments_lexer": "ipython3",
   "version": "3.7.12"
  },
  "papermill": {
   "default_parameters": {},
   "duration": 3727.899942,
   "end_time": "2022-04-11T08:22:58.792151",
   "environment_variables": {},
   "exception": null,
   "input_path": "__notebook__.ipynb",
   "output_path": "__notebook__.ipynb",
   "parameters": {},
   "start_time": "2022-04-11T07:20:50.892209",
   "version": "2.3.3"
  }
 },
 "nbformat": 4,
 "nbformat_minor": 5
}
